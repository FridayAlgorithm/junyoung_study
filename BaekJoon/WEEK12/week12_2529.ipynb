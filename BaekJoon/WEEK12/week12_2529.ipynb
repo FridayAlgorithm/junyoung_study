{
 "cells": [
  {
   "cell_type": "markdown",
   "metadata": {},
   "source": [
    "### [2529] [부등호](https://www.acmicpc.net/problem/2529)\n",
    "두 종류의 부등호 기호 ‘<’와 ‘>’가 k개 나열된 순서열  A가 있다. 우리는 이 부등호 기호 앞뒤에 서로 다른 한 자릿수 숫자를 넣어서 모든 부등호 관계를 만족시키려고 한다. 예를 들어, 제시된 부등호 순서열 A가 다음과 같다고 하자. \n",
    "\n",
    "A =>  < < < > < < > < >\n",
    "\n",
    "부등호 기호 앞뒤에 넣을 수 있는 숫자는 0부터 9까지의 정수이며 선택된 숫자는 모두 달라야 한다. 아래는 부등호 순서열 A를 만족시키는 한 예이다. \n",
    "\n",
    "3 < 4 < 5 < 6 > 1 < 2 < 8 > 7 < 9 > 0\n",
    "\n",
    "이 상황에서 부등호 기호를 제거한 뒤, 숫자를 모두 붙이면 하나의 수를 만들 수 있는데 이 수를 주어진 부등호 관계를 만족시키는 정수라고 한다. 그런데 주어진 부등호 관계를 만족하는 정수는 하나 이상 존재한다. 예를 들어 3456128790 뿐만 아니라 5689023174도 아래와 같이 부등호 관계 A를 만족시킨다. \n",
    "\n",
    "5 < 6 < 8 < 9 > 0 < 2 < 3 > 1 < 7 > 4\n",
    "\n",
    "여러분은 제시된 k개의 부등호 순서를 만족하는 (k+1)자리의 정수 중에서 최댓값과 최솟값을 찾아야 한다. 앞서 설명한 대로 각 부등호의 앞뒤에 들어가는 숫자는 { 0, 1, 2, 3, 4, 5, 6, 7, 8, 9 }중에서 선택해야 하며 선택된 숫자는 모두 달라야 한다. "
   ]
  },
  {
   "cell_type": "code",
   "execution_count": 14,
   "metadata": {},
   "outputs": [
    {
     "name": "stdout",
     "output_type": "stream",
     "text": [
      "2\n",
      "< >\n",
      "897\n",
      "021\n"
     ]
    }
   ],
   "source": [
    "k = int(input())\n",
    "sign = list(map(str, input().split()))\n",
    "\n",
    "visit = [False]*10\n",
    "max_num, min_num = \"\", \"\"\n",
    "\n",
    "def check(a, b, sign):\n",
    "    if sign == '<':\n",
    "        return a<b\n",
    "    if sign == '>':\n",
    "        return a>b\n",
    "\n",
    "def find_num(num, i):\n",
    "    global max_num, min_num\n",
    "    if i == k+1:\n",
    "        if min_num == \"\":\n",
    "            min_num = num\n",
    "        else:\n",
    "            max_num = num\n",
    "        return\n",
    "    \n",
    "    for n in range(10):\n",
    "        if not visit[n]:\n",
    "            if i == 0 or check(num[-1], str(n), sign[i-1]):\n",
    "                visit[n] = True\n",
    "                find_num(num+str(n), i+1)\n",
    "                visit[n] = False\n",
    "        \n",
    "        \n",
    "find_num(\"\", 0)\n",
    "print(max_num)\n",
    "print(min_num)"
   ]
  }
 ],
 "metadata": {
  "kernelspec": {
   "display_name": "Python 3",
   "language": "python",
   "name": "python3"
  },
  "language_info": {
   "codemirror_mode": {
    "name": "ipython",
    "version": 3
   },
   "file_extension": ".py",
   "mimetype": "text/x-python",
   "name": "python",
   "nbconvert_exporter": "python",
   "pygments_lexer": "ipython3",
   "version": "3.8.3"
  }
 },
 "nbformat": 4,
 "nbformat_minor": 4
}
