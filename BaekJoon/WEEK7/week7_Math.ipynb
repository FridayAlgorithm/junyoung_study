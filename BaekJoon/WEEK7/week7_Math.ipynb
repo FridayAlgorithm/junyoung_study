{
 "cells": [
  {
   "cell_type": "markdown",
   "metadata": {},
   "source": [
    "### [2981] [검문](https://www.acmicpc.net/problem/2981)\n",
    "트럭을 타고 이동하던 상근이는 경찰의 검문을 받게 되었다. 경찰은 상근이가 운반하던 화물을 하나하나 모두 확인할 것이기 때문에, 검문하는데 엄청나게 오랜 시간이 걸린다.\n",
    "\n",
    "상근이는 시간을 때우기 위해서 수학 게임을 하기로 했다.\n",
    "\n",
    "먼저 근처에 보이는 숫자 N개를 종이에 적는다. 그 다음, 종이에 적은 수를 M으로 나누었을 때, 나머지가 모두 같게 되는 M을 모두 찾으려고 한다. M은 1보다 커야 한다.\n",
    "\n",
    "N개의 수가 주어졌을 때, 가능한 M을 모두 찾는 프로그램을 작성하시오."
   ]
  },
  {
   "cell_type": "code",
   "execution_count": 32,
   "metadata": {},
   "outputs": [
    {
     "name": "stdout",
     "output_type": "stream",
     "text": [
      "3\n",
      "7\n",
      "35\n",
      "49\n",
      "2 14 7\n"
     ]
    }
   ],
   "source": [
    "import math\n",
    "from math import gcd\n",
    "\n",
    "n = int(input())\n",
    "num = []\n",
    "for _ in range(n):\n",
    "    num.append(int(input()))\n",
    "    \n",
    "# 숫자들 사이의 차이\n",
    "sub = []\n",
    "for i in range(n-1):\n",
    "    sub.append(abs(num[i]-num[i+1]))\n",
    "\n",
    "# 그 숫자들의 차이의 최대공약수\n",
    "gcd_sub = sub[0]\n",
    "for j in range(1, len(sub)):\n",
    "    gcd_sub = gcd(gcd_sub, sub[j])\n",
    "\n",
    "ans = []\n",
    "for g in range(2, int(math.sqrt(gcd_sub))+1):\n",
    "    if gcd_sub%g == 0:\n",
    "        ans.append(g)\n",
    "        ans.append(gcd_sub//g)\n",
    "ans.append(gcd_sub)  \n",
    "ans.sort()\n",
    "answer = set(ans)\n",
    "\n",
    "print(*answer)"
   ]
  },
  {
   "cell_type": "code",
   "execution_count": null,
   "metadata": {},
   "outputs": [],
   "source": [
    "'''\n",
    "https://suri78.tistory.com/37\n",
    "'''\n",
    "import math\n",
    "\n",
    "n = int(input())\n",
    "num = []\n",
    "for _ in range(n):\n",
    "    num.append(int(input()))\n",
    "num.sort()\n",
    "\n",
    "gcd_sub = num[-1]-num[0]\n",
    "divisor = [gcd_sub]\n",
    "ans = []\n",
    "for g in range(2, int(math.sqrt(gcd_sub))+1):\n",
    "    if gcd_sub%g == 0:\n",
    "        divisor.append(g)\n",
    "        divisor.append(gcd_sub//g)\n",
    "divisor = list(set(divisor))\n",
    "divisor.sort()\n",
    "\n",
    "for d in divisor:\n",
    "    for i in range(n):\n",
    "        if i == n-1:\n",
    "            print(d, end=\" \")\n",
    "        elif num[i]%d != num[i+1]%d:\n",
    "            break"
   ]
  },
  {
   "cell_type": "markdown",
   "metadata": {},
   "source": [
    "### [3036] [링](https://www.acmicpc.net/problem/3036)\n",
    "상근이는 창고에서 링 N개를 발견했다. 상근이는 각각의 링이 앞에 있는 링과 뒤에 있는 링과 접하도록 바닥에 내려놓았다. \n",
    "\n",
    "상근이는 첫 번째 링을 돌리기 시작했고, 나머지 링도 같이 돌아간다는 사실을 발견했다. 나머지 링은 첫 번째 링 보다 빠르게 돌아가기도 했고, 느리게 돌아가기도 했다. 이렇게 링을 돌리다 보니 첫 번째 링을 한 바퀴 돌리면, 나머지 링은 몇 바퀴 도는지 궁금해졌다.\n",
    "\n",
    "링의 반지름이 주어진다. 이때, 첫 번째 링을 한 바퀴 돌리면, 나머지 링은 몇 바퀴 돌아가는지 구하는 프로그램을 작성하시오."
   ]
  },
  {
   "cell_type": "code",
   "execution_count": 43,
   "metadata": {},
   "outputs": [
    {
     "name": "stdout",
     "output_type": "stream",
     "text": [
      "4\n",
      "12 3 8 4\n"
     ]
    },
    {
     "ename": "TypeError",
     "evalue": "'list' object is not callable",
     "output_type": "error",
     "traceback": [
      "\u001b[1;31m---------------------------------------------------------------------------\u001b[0m",
      "\u001b[1;31mTypeError\u001b[0m                                 Traceback (most recent call last)",
      "\u001b[1;32m<ipython-input-43-2c43255f81bf>\u001b[0m in \u001b[0;36m<module>\u001b[1;34m\u001b[0m\n\u001b[0;32m      2\u001b[0m \u001b[1;33m\u001b[0m\u001b[0m\n\u001b[0;32m      3\u001b[0m \u001b[0mn\u001b[0m \u001b[1;33m=\u001b[0m \u001b[0mint\u001b[0m\u001b[1;33m(\u001b[0m\u001b[0minput\u001b[0m\u001b[1;33m(\u001b[0m\u001b[1;33m)\u001b[0m\u001b[1;33m)\u001b[0m\u001b[1;33m\u001b[0m\u001b[1;33m\u001b[0m\u001b[0m\n\u001b[1;32m----> 4\u001b[1;33m \u001b[0mc\u001b[0m \u001b[1;33m=\u001b[0m \u001b[0mlist\u001b[0m\u001b[1;33m(\u001b[0m\u001b[0mmap\u001b[0m\u001b[1;33m(\u001b[0m\u001b[0mint\u001b[0m\u001b[1;33m,\u001b[0m \u001b[0minput\u001b[0m\u001b[1;33m(\u001b[0m\u001b[1;33m)\u001b[0m\u001b[1;33m.\u001b[0m\u001b[0msplit\u001b[0m\u001b[1;33m(\u001b[0m\u001b[1;33m)\u001b[0m\u001b[1;33m)\u001b[0m\u001b[1;33m)\u001b[0m\u001b[1;33m\u001b[0m\u001b[1;33m\u001b[0m\u001b[0m\n\u001b[0m\u001b[0;32m      5\u001b[0m \u001b[1;33m\u001b[0m\u001b[0m\n\u001b[0;32m      6\u001b[0m \u001b[1;32mfor\u001b[0m \u001b[0mi\u001b[0m \u001b[1;32min\u001b[0m \u001b[0mrange\u001b[0m\u001b[1;33m(\u001b[0m\u001b[1;36m1\u001b[0m\u001b[1;33m,\u001b[0m \u001b[0mn\u001b[0m\u001b[1;33m)\u001b[0m\u001b[1;33m:\u001b[0m\u001b[1;33m\u001b[0m\u001b[1;33m\u001b[0m\u001b[0m\n",
      "\u001b[1;31mTypeError\u001b[0m: 'list' object is not callable"
     ]
    }
   ],
   "source": [
    "from math import gcd\n",
    "\n",
    "n = int(input())\n",
    "c = list(map(int, input().split()))\n",
    "\n",
    "for i in range(1, n):\n",
    "    gcd_c = gcd(c[0], c[i])\n",
    "    print(c[0]//gcd_c, end=\"\")\n",
    "    print(\"/\", end=\"\")\n",
    "    print(c[i]//gcd_c)"
   ]
  },
  {
   "cell_type": "code",
   "execution_count": null,
   "metadata": {},
   "outputs": [],
   "source": []
  }
 ],
 "metadata": {
  "kernelspec": {
   "display_name": "Python 3",
   "language": "python",
   "name": "python3"
  },
  "language_info": {
   "codemirror_mode": {
    "name": "ipython",
    "version": 3
   },
   "file_extension": ".py",
   "mimetype": "text/x-python",
   "name": "python",
   "nbconvert_exporter": "python",
   "pygments_lexer": "ipython3",
   "version": "3.8.3"
  }
 },
 "nbformat": 4,
 "nbformat_minor": 4
}
