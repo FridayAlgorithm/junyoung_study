{
 "cells": [
  {
   "cell_type": "code",
   "execution_count": 44,
   "metadata": {
    "scrolled": true
   },
   "outputs": [
    {
     "name": "stdout",
     "output_type": "stream",
     "text": [
      "5\n",
      "12 15\n",
      "1 65\n",
      "9 65\n",
      "4 32\n",
      "6 15\n",
      "1 65\n",
      "4 32\n",
      "6 15\n",
      "9 65\n",
      "12 15\n"
     ]
    }
   ],
   "source": [
    "'''\n",
    "2020.12.23\n",
    "codeup structure 1805\n",
    "'''\n",
    "\n",
    "machine = []\n",
    "num = int(input())\n",
    "\n",
    "for i in range(1, num+1):\n",
    "    a, b = input().split()\n",
    "    machine.append([int(a), b])\n",
    "\n",
    "machine.sort(key=lambda x:x[0])\n",
    "\n",
    "for i in range(len(machine)):\n",
    "    print(machine[i][0], machine[i][1])\n"
   ]
  },
  {
   "cell_type": "code",
   "execution_count": null,
   "metadata": {},
   "outputs": [],
   "source": []
  }
 ],
 "metadata": {
  "kernelspec": {
   "display_name": "Python 3",
   "language": "python",
   "name": "python3"
  },
  "language_info": {
   "codemirror_mode": {
    "name": "ipython",
    "version": 3
   },
   "file_extension": ".py",
   "mimetype": "text/x-python",
   "name": "python",
   "nbconvert_exporter": "python",
   "pygments_lexer": "ipython3",
   "version": "3.8.3"
  }
 },
 "nbformat": 4,
 "nbformat_minor": 4
}
