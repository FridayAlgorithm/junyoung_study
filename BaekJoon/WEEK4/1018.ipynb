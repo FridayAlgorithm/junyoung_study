{
 "cells": [
  {
   "cell_type": "markdown",
   "metadata": {},
   "source": [
    "### [브루트 포스] [체스판 다시 칠하기](https://www.acmicpc.net/step/22)\n",
    "지민이는 자신의 저택에서 MN개의 단위 정사각형으로 나누어져 있는 MXN 크기의 보드를 찾았다. 어떤 정사각형은 검은색으로 칠해져 있고, 나머지는 흰색으로 칠해져 있다. 지민이는 이 보드를 잘라서 8X8 크기의 체스판으로 만들려고 한다.\n",
    "\n",
    "체스판은 검은색과 흰색이 번갈아서 칠해져 있어야 한다. 구체적으로, 각 칸이 검은색과 흰색 중 하나로 색칠되어 있고, 변을 공유하는 두 개의 사각형은 다른 색으로 칠해져 있어야 한다. 따라서 이 정의를 따르면 체스판을 색칠하는 경우는 두 가지뿐이다. 하나는 맨 왼쪽 위 칸이 흰색인 경우, 하나는 검은색인 경우이다.\n",
    "\n",
    "보드가 체스판처럼 칠해져 있다는 보장이 없어서, 지민이는 8X8 크기의 체스판으로 잘라낸 후에 몇 개의 정사각형을 다시 칠해야겠다고 생각했다. 당연히 8X8 크기는 아무데서나 골라도 된다. 지민이가 다시 칠해야 하는 정사각형의 최소 개수를 구하는 프로그램을 작성하시오."
   ]
  },
  {
   "cell_type": "code",
   "execution_count": 17,
   "metadata": {},
   "outputs": [
    {
     "name": "stdout",
     "output_type": "stream",
     "text": [
      "10 13\n",
      "BBBBBBBBWBWBW\n",
      "BBBBBBBBBWBWB\n",
      "BBBBBBBBWBWBW\n",
      "BBBBBBBBBWBWB\n",
      "BBBBBBBBWBWBW\n",
      "BBBBBBBBBWBWB\n",
      "BBBBBBBBWBWBW\n",
      "BBBBBBBBBWBWB\n",
      "WWWWWWWWWWBWB\n",
      "WWWWWWWWWWBWB\n",
      "12\n"
     ]
    }
   ],
   "source": [
    "n, m = map(int, input().split())\n",
    "board = list()\n",
    "repair = list()\n",
    "\n",
    "for i in range(n):\n",
    "    board.append(input())\n",
    "    \n",
    "def check(i, j, first_black, first_even):\n",
    "    wrong = 0    \n",
    "    for y in range(i, i+8):\n",
    "        for x in range(j, j+8):\n",
    "            if first_black == True:\n",
    "                if first_even == True:\n",
    "                    if (x+y)%2 == 0:\n",
    "                        if board[y][x] != 'B':\n",
    "                            wrong += 1\n",
    "                    if (x+y)%2 == 1:\n",
    "                        if board[y][x] != 'W':\n",
    "                            wrong += 1\n",
    "                else:\n",
    "                    if (x+y)%2 == 0:\n",
    "                        if board[y][x] != 'W':\n",
    "                            wrong += 1\n",
    "                    if (x+y)%2 == 1:\n",
    "                        if board[y][x] != 'B':\n",
    "                            wrong += 1\n",
    "            else:\n",
    "                if first_even == True:\n",
    "                    if (x+y)%2 == 0:\n",
    "                        if board[y][x] != 'W':\n",
    "                            wrong += 1\n",
    "                    if (x+y)%2 == 1:\n",
    "                        if board[y][x] != 'B':\n",
    "                            wrong += 1\n",
    "                else:\n",
    "                    if (x+y)%2 == 0:\n",
    "                        if board[y][x] != 'B':\n",
    "                            wrong += 1\n",
    "                    if (x+y)%2 == 1:\n",
    "                        if board[y][x] != 'W':\n",
    "                            wrong += 1\n",
    "    return wrong\n",
    "    \n",
    "# 8*8 체스판이 움직이는 범위 = n-7, m-7\n",
    "for i in range(n-7):\n",
    "    for j in range(m-7):\n",
    "        \n",
    "        # 자른 체스판\n",
    "        first_even = True # 첫번째가 홀수인지, 짝수인지\n",
    "        if (i+j)%2 == 1:\n",
    "            first_even = False\n",
    "        \n",
    "        repair.append(check(i, j, True, first_even))\n",
    "        repair.append(check(i, j, False, first_even))\n",
    "\n",
    "        \n",
    "print(min(repair))               "
   ]
  }
 ],
 "metadata": {
  "kernelspec": {
   "display_name": "Python 3",
   "language": "python",
   "name": "python3"
  },
  "language_info": {
   "codemirror_mode": {
    "name": "ipython",
    "version": 3
   },
   "file_extension": ".py",
   "mimetype": "text/x-python",
   "name": "python",
   "nbconvert_exporter": "python",
   "pygments_lexer": "ipython3",
   "version": "3.8.3"
  }
 },
 "nbformat": 4,
 "nbformat_minor": 4
}
