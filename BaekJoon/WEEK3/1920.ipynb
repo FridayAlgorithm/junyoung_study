{
 "cells": [
  {
   "cell_type": "markdown",
   "metadata": {},
   "source": [
    "### [이분 탐색] [수 찾기](https://www.acmicpc.net/step/29)\n",
    "N개의 정수 A[1], A[2], …, A[N]이 주어져 있을 때, 이 안에 X라는 정수가 존재하는지 알아내는 프로그램을 작성하시오."
   ]
  },
  {
   "cell_type": "code",
   "execution_count": 2,
   "metadata": {},
   "outputs": [
    {
     "name": "stdout",
     "output_type": "stream",
     "text": [
      "5\n",
      "4 1 5 2 3\n",
      "5\n",
      "1 3 7 9 5\n",
      "1\n",
      "1\n",
      "0\n",
      "0\n",
      "1\n"
     ]
    }
   ],
   "source": [
    "n = int(input())\n",
    "A = list(map(int, input().split()))\n",
    "A.sort()\n",
    "\n",
    "m = int(input())\n",
    "B = list(map(int, input().split()))\n",
    "\n",
    "def binary_search(x):\n",
    "    low = 0\n",
    "    high = len(A)-1\n",
    "    \n",
    "    while low<= high:\n",
    "        mid = (low+high)//2\n",
    "        if A[mid] == x:\n",
    "            return 1\n",
    "        elif A[mid] < x:\n",
    "            low = mid+1\n",
    "        else:\n",
    "            high = mid-1\n",
    "    \n",
    "    return 0\n",
    "        \n",
    "for i in range(len(B)):\n",
    "    print(binary_search(B[i]))"
   ]
  }
 ],
 "metadata": {
  "kernelspec": {
   "display_name": "Python 3",
   "language": "python",
   "name": "python3"
  },
  "language_info": {
   "codemirror_mode": {
    "name": "ipython",
    "version": 3
   },
   "file_extension": ".py",
   "mimetype": "text/x-python",
   "name": "python",
   "nbconvert_exporter": "python",
   "pygments_lexer": "ipython3",
   "version": "3.8.3"
  }
 },
 "nbformat": 4,
 "nbformat_minor": 4
}
