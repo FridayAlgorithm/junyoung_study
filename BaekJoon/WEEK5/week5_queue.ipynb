{
 "cells": [
  {
   "cell_type": "markdown",
   "metadata": {},
   "source": [
    "### [11866] [요세푸스 문제 0](https://www.acmicpc.net/problem/11866)\n",
    "요세푸스 문제는 다음과 같다.\n",
    "\n",
    "1번부터 N번까지 N명의 사람이 원을 이루면서 앉아있고, 양의 정수 K(≤ N)가 주어진다. 이제 순서대로 K번째 사람을 제거한다. 한 사람이 제거되면 남은 사람들로 이루어진 원을 따라 이 과정을 계속해 나간다. 이 과정은 N명의 사람이 모두 제거될 때까지 계속된다. 원에서 사람들이 제거되는 순서를 (N, K)-요세푸스 순열이라고 한다. 예를 들어 (7, 3)-요세푸스 순열은 <3, 6, 2, 7, 5, 1, 4>이다.\n",
    "\n",
    "N과 K가 주어지면 (N, K)-요세푸스 순열을 구하는 프로그램을 작성하시오."
   ]
  },
  {
   "cell_type": "code",
   "execution_count": 10,
   "metadata": {},
   "outputs": [
    {
     "name": "stdout",
     "output_type": "stream",
     "text": [
      "7 3\n",
      "<3, 6, 2, 7, 5, 1, 4>\n"
     ]
    }
   ],
   "source": [
    "'''\n",
    "1 : 1 2 3 4 5 6 7\n",
    "2 :   2 3 4 5 6 7 1\n",
    "3 :     3 4 5 6 7 1 2  (제거)\n",
    "4 :       4 5 6 7 1 2\n",
    "5 :         5 6 7 1 2 4\n",
    "6 :           6 7 1 2 4 5 (제거)\n",
    "7 :             7 1 2 4 5\n",
    "~\n",
    "'''\n",
    "n, k = map(int, input().split())\n",
    "people = [int(x)+1 for x in range(n)]\n",
    "kill = []\n",
    "\n",
    "cnt = 0\n",
    "while len(people) > 0:\n",
    "    cnt += 1\n",
    "    if cnt%k == 0:\n",
    "        kill.append(people.pop(0))\n",
    "    else:\n",
    "        num = people.pop(0)\n",
    "        people.append(num)\n",
    "        \n",
    "print(\"<%s>\" % (\", \".join(map(str, kill))))"
   ]
  },
  {
   "cell_type": "markdown",
   "metadata": {},
   "source": [
    "### [1966] [프린터 큐](https://www.acmicpc.net/problem/1966)\n",
    "여러분도 알다시피 여러분의 프린터 기기는 여러분이 인쇄하고자 하는 문서를 인쇄 명령을 받은 ‘순서대로’, 즉 먼저 요청된 것을 먼저 인쇄한다. 여러 개의 문서가 쌓인다면 Queue 자료구조에 쌓여서 FIFO - First In First Out - 에 따라 인쇄가 되게 된다. 하지만 상근이는 새로운 프린터기 내부 소프트웨어를 개발하였는데, 이 프린터기는 다음과 같은 조건에 따라 인쇄를 하게 된다.\n",
    "\n",
    "+ 현재 Queue의 가장 앞에 있는 문서의 ‘중요도’를 확인한다.\n",
    "+ 나머지 문서들 중 현재 문서보다 중요도가 높은 문서가 하나라도 있다면, 이 문서를 인쇄하지 않고 Queue의 가장 뒤에 재배치 한다. 그렇지 않다면 바로 인쇄를 한다.\n",
    "\n",
    "예를 들어 Queue에 4개의 문서(A B C D)가 있고, 중요도가 2 1 4 3 라면 C를 인쇄하고, 다음으로 D를 인쇄하고 A, B를 인쇄하게 된다.\n",
    "\n",
    "여러분이 할 일은, 현재 Queue에 있는 문서의 수와 중요도가 주어졌을 때, 어떤 한 문서가 몇 번째로 인쇄되는지 알아내는 것이다. 예를 들어 위의 예에서 C문서는 1번째로, A문서는 3번째로 인쇄되게 된다."
   ]
  },
  {
   "cell_type": "code",
   "execution_count": 2,
   "metadata": {},
   "outputs": [
    {
     "name": "stdout",
     "output_type": "stream",
     "text": [
      "3\n",
      "1 0\n",
      "5\n",
      "4 2\n",
      "1 2 3 4\n",
      "6 0\n",
      "1 1 9 1 1 1\n",
      "1\n",
      "2\n",
      "5\n"
     ]
    }
   ],
   "source": [
    "t = int(input())\n",
    "testcase = [list(map(int, input().split())) for _ in range(t*2)]\n",
    "\n",
    "def printer(test, papers):\n",
    "    index = test[1]\n",
    "    printed = 0\n",
    "    print_index = False\n",
    "    while print_index == False:\n",
    "        if papers[0] < max(papers):\n",
    "            if index == 0:\n",
    "                index = len(papers)-1\n",
    "            else:\n",
    "                index -= 1\n",
    "            papers.append(papers.pop(0))\n",
    "        else:\n",
    "            if index == 0:\n",
    "                print_index = True\n",
    "            papers.pop(0)\n",
    "            index -= 1\n",
    "            printed += 1\n",
    "    return printed\n",
    "\n",
    "for i in range(t):\n",
    "    print(printer(testcase[i*2], testcase[i*2+1]))\n",
    "    "
   ]
  }
 ],
 "metadata": {
  "kernelspec": {
   "display_name": "Python 3",
   "language": "python",
   "name": "python3"
  },
  "language_info": {
   "codemirror_mode": {
    "name": "ipython",
    "version": 3
   },
   "file_extension": ".py",
   "mimetype": "text/x-python",
   "name": "python",
   "nbconvert_exporter": "python",
   "pygments_lexer": "ipython3",
   "version": "3.8.3"
  }
 },
 "nbformat": 4,
 "nbformat_minor": 4
}
