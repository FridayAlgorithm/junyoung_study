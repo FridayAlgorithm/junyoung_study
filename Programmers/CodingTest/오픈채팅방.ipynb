{
 "cells": [
  {
   "cell_type": "code",
   "execution_count": 8,
   "metadata": {},
   "outputs": [
    {
     "name": "stdout",
     "output_type": "stream",
     "text": [
      "['Prodo님이 들어왔습니다.', 'Ryan님이 들어왔습니다.', 'Prodo님이 나갔습니다.', 'Prodo님이 들어왔습니다.']\n"
     ]
    }
   ],
   "source": [
    "'''\n",
    "나가서 새로 들어오거나 / 채팅방에서 닉네임 변경\n",
    "닉네임 변경 시, 기존 메세지의 닉네임 전부 변경\n",
    "'''\n",
    "\n",
    "def solution(record):\n",
    "    answer = []\n",
    "    \n",
    "    users = {}\n",
    "    order = []\n",
    "    for r in record:\n",
    "        query = r.split(\" \")\n",
    "        if query[0] == \"Enter\":\n",
    "            users[query[1]] = query[2]\n",
    "            order.append((query[1], \"님이 들어왔습니다.\"))\n",
    "        elif query[0] == \"Leave\":\n",
    "            order.append((query[1], \"님이 나갔습니다.\"))\n",
    "        else:\n",
    "            users[query[1]] = query[2]\n",
    "            \n",
    "    for o in order:\n",
    "        answer.append(users[o[0]]+o[1])\n",
    "    \n",
    "    return answer\n",
    "\n",
    "print(solution([\"Enter uid1234 Muzi\", \"Enter uid4567 Prodo\",\"Leave uid1234\",\"Enter uid1234 Prodo\",\"Change uid4567 Ryan\"]))"
   ]
  },
  {
   "cell_type": "code",
   "execution_count": 5,
   "metadata": {},
   "outputs": [
    {
     "name": "stdout",
     "output_type": "stream",
     "text": [
      "1\n"
     ]
    }
   ],
   "source": [
    "dic = {}\n",
    "dic['a'] = 1\n",
    "print(dic['a'])"
   ]
  },
  {
   "cell_type": "code",
   "execution_count": null,
   "metadata": {},
   "outputs": [],
   "source": []
  }
 ],
 "metadata": {
  "kernelspec": {
   "display_name": "Python 3",
   "language": "python",
   "name": "python3"
  },
  "language_info": {
   "codemirror_mode": {
    "name": "ipython",
    "version": 3
   },
   "file_extension": ".py",
   "mimetype": "text/x-python",
   "name": "python",
   "nbconvert_exporter": "python",
   "pygments_lexer": "ipython3",
   "version": "3.8.3"
  }
 },
 "nbformat": 4,
 "nbformat_minor": 4
}
