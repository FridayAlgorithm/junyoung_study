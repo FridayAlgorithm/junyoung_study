{
 "cells": [
  {
   "cell_type": "markdown",
   "metadata": {},
   "source": [
    "### [1406] [에디터](https://www.acmicpc.net/problem/1406)\n",
    "한 줄로 된 간단한 에디터를 구현하려고 한다. 이 편집기는 영어 소문자만을 기록할 수 있는 편집기로, 최대 600,000글자까지 입력할 수 있다.\n",
    "\n",
    "이 편집기에는 '커서'라는 것이 있는데, 커서는 문장의 맨 앞(첫 번째 문자의 왼쪽), 문장의 맨 뒤(마지막 문자의 오른쪽), 또는 문장 중간 임의의 곳(모든 연속된 두 문자 사이)에 위치할 수 있다. 즉 길이가 L인 문자열이 현재 편집기에 입력되어 있으면, 커서가 위치할 수 있는 곳은 L+1가지 경우가 있다.\n",
    "\n",
    "이 편집기가 지원하는 명령어는 다음과 같다.\n",
    "\n",
    "+ L : 커서를 왼쪽으로 한 칸 옮김 (커서가 문장의 맨 앞이면 무시됨)\n",
    "+ D : 커서를 오른쪽으로 한 칸 옮김 (커서가 문장의 맨 뒤이면 무시됨)\n",
    "+ B : 커서 왼쪽에 있는 문자를 삭제함 (커서가 문장의 맨 앞이면 무시됨)\n",
    "    +삭제로 인해 커서는 한 칸 왼쪽으로 이동한 것처럼 나타나지만, 실제로 커서의 오른쪽에 있던 문자는 그대로임\n",
    "+ P$ : $라는 문자를 커서 왼쪽에 추가함\n",
    "\n",
    "초기에 편집기에 입력되어 있는 문자열이 주어지고, 그 이후 입력한 명령어가 차례로 주어졌을 때, 모든 명령어를 수행하고 난 후 편집기에 입력되어 있는 문자열을 구하는 프로그램을 작성하시오. 단, 명령어가 수행되기 전에 커서는 문장의 맨 뒤에 위치하고 있다고 한다."
   ]
  },
  {
   "cell_type": "markdown",
   "metadata": {},
   "source": [
    "**[내가 생각한 풀이]**\n",
    " + list 문제? deque?\n",
    "     + 시간을 어떻게 줄이지?....???????"
   ]
  },
  {
   "cell_type": "code",
   "execution_count": 5,
   "metadata": {},
   "outputs": [
    {
     "name": "stdout",
     "output_type": "stream",
     "text": [
      "dmih\n",
      "11\n",
      "B\n",
      "B\n",
      "P x\n",
      "L\n",
      "B\n",
      "B\n",
      "B\n",
      "P y\n",
      "D\n",
      "D\n",
      "P z\n",
      "yxz"
     ]
    }
   ],
   "source": [
    "# 시간초과\n",
    "editor = list(input())\n",
    "m = int(input())\n",
    "\n",
    "cursor = len(editor)\n",
    "for i in range(m):\n",
    "    order = list(input().split())\n",
    "    if order[0] == 'L':\n",
    "        if cursor != 0:\n",
    "            cursor -= 1\n",
    "            \n",
    "    if order[0] == 'D':\n",
    "        if cursor != len(editor):\n",
    "            cursor += 1\n",
    "        \n",
    "    if order[0] == 'B':\n",
    "        if cursor != 0:\n",
    "            editor.pop(cursor-1)\n",
    "            cursor -= 1\n",
    "        \n",
    "    if order[0] == 'P':\n",
    "        if cursor == len(editor):\n",
    "            editor.append(order[1])\n",
    "        else:\n",
    "            editor.insert(cursor, order[1])\n",
    "        cursor += 1        \n",
    "        \n",
    "for i in range(len(editor)):\n",
    "    print(editor[i], end=\"\")"
   ]
  },
  {
   "cell_type": "code",
   "execution_count": 6,
   "metadata": {},
   "outputs": [
    {
     "name": "stdout",
     "output_type": "stream",
     "text": [
      "abc\n",
      "9\n",
      "L\n",
      "L\n",
      "L\n",
      "L\n",
      "L\n",
      "P x\n",
      "L\n",
      "B\n",
      "P y\n",
      "yxabc\n"
     ]
    }
   ],
   "source": [
    "# 시간초과 -> sys로 변경\n",
    "\n",
    "ed1 = list(input())\n",
    "ed2 = []\n",
    "n = int(input())\n",
    "\n",
    "for i in range(n):\n",
    "    order = list(input().split())\n",
    "    if order[0] == 'L':\n",
    "        if ed1:\n",
    "            ed2.append(ed1.pop())\n",
    "    elif order[0] == 'D':\n",
    "        if ed2:\n",
    "            ed1.append(ed2.pop())\n",
    "    elif order[0] == 'B':\n",
    "        if ed1: \n",
    "            ed1.pop()\n",
    "    elif order[0] == 'P':\n",
    "        ed1.append(order[1])\n",
    "        \n",
    "print(\"\".join(ed1+list(reversed(ed2))))"
   ]
  },
  {
   "cell_type": "code",
   "execution_count": null,
   "metadata": {},
   "outputs": [],
   "source": []
  }
 ],
 "metadata": {
  "kernelspec": {
   "display_name": "Python 3",
   "language": "python",
   "name": "python3"
  },
  "language_info": {
   "codemirror_mode": {
    "name": "ipython",
    "version": 3
   },
   "file_extension": ".py",
   "mimetype": "text/x-python",
   "name": "python",
   "nbconvert_exporter": "python",
   "pygments_lexer": "ipython3",
   "version": "3.8.3"
  }
 },
 "nbformat": 4,
 "nbformat_minor": 4
}
