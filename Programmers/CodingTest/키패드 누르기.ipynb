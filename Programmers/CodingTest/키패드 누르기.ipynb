{
 "cells": [
  {
   "cell_type": "code",
   "execution_count": 16,
   "metadata": {},
   "outputs": [
    {
     "name": "stdout",
     "output_type": "stream",
     "text": [
      "LRLLLRLLRRL\n",
      "LRLLRRLLLRR\n",
      "LLRLLRLLRL\n"
     ]
    }
   ],
   "source": [
    "def solution(numbers, hand):\n",
    "    answer = ''\n",
    "    \n",
    "    keypad = [[1, 4, 7, 10], [2, 5, 8, 0], [3, 6, 9, 12]]\n",
    "    left = (0, 3)\n",
    "    right = (2, 3)\n",
    "    \n",
    "    for n in numbers:\n",
    "        if n in keypad[0]:\n",
    "            answer += 'L'\n",
    "            left = (0, keypad[0].index(n))\n",
    "        \n",
    "        elif n in keypad[2]:\n",
    "            answer += 'R'\n",
    "            right = (2, keypad[2].index(n))\n",
    "            \n",
    "        else:\n",
    "            center_y = keypad[1].index(n)\n",
    "            len_left = abs(left[1] - center_y) + abs(left[0] - 1)\n",
    "            len_right = abs(right[1] - center_y) + abs(right[0] - 1)\n",
    "            \n",
    "            if len_left > len_right:\n",
    "                answer += 'R'\n",
    "                right = (1, center_y)\n",
    "            elif len_left < len_right:\n",
    "                answer += 'L'\n",
    "                left = (1, center_y)\n",
    "            else:\n",
    "                if hand == 'right':\n",
    "                    answer += 'R'\n",
    "                    right = (1, center_y)\n",
    "                else:\n",
    "                    answer += 'L'\n",
    "                    left = (1, center_y)\n",
    "    \n",
    "    return answer\n",
    "\n",
    "\n",
    "print(solution([1, 3, 4, 5, 8, 2, 1, 4, 5, 9, 5], \"right\")) #  LRLLLRLLRRL\n",
    "print(solution([7, 0, 8, 2, 8, 3, 1, 5, 7, 6, 2], \"left\"))  #  LRLLRRLLLRR\n",
    "print(solution([1, 2, 3, 4, 5, 6, 7, 8, 9, 0], \"right\"))    #  LLRLLRLLRL"
   ]
  },
  {
   "cell_type": "code",
   "execution_count": 4,
   "metadata": {},
   "outputs": [
    {
     "name": "stdout",
     "output_type": "stream",
     "text": [
      "9\n",
      "3\n",
      "0\n"
     ]
    }
   ],
   "source": [
    "keypad = [[1, 4, 9, 10], [2, 5, 8, 0], [3, 6, 9, 12]]\n",
    "print(keypad[0][2])\n",
    "left = (0, 3)\n",
    "print(left[1])\n",
    "print(keypad[0].index(1))"
   ]
  },
  {
   "cell_type": "code",
   "execution_count": null,
   "metadata": {},
   "outputs": [],
   "source": []
  }
 ],
 "metadata": {
  "kernelspec": {
   "display_name": "Python 3",
   "language": "python",
   "name": "python3"
  },
  "language_info": {
   "codemirror_mode": {
    "name": "ipython",
    "version": 3
   },
   "file_extension": ".py",
   "mimetype": "text/x-python",
   "name": "python",
   "nbconvert_exporter": "python",
   "pygments_lexer": "ipython3",
   "version": "3.8.3"
  }
 },
 "nbformat": 4,
 "nbformat_minor": 4
}
