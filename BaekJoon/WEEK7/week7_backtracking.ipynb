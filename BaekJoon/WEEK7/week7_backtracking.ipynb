{
 "cells": [
  {
   "cell_type": "markdown",
   "metadata": {},
   "source": [
    "### [9663] [N-Queen](https://www.acmicpc.net/problem/9663)\n",
    "N-Queen 문제는 크기가 N × N인 체스판 위에 퀸 N개를 서로 공격할 수 없게 놓는 문제이다.\n",
    "\n",
    "N이 주어졌을 때, 퀸을 놓는 방법의 수를 구하는 프로그램을 작성하시오."
   ]
  },
  {
   "cell_type": "code",
   "execution_count": 1,
   "metadata": {},
   "outputs": [
    {
     "name": "stdout",
     "output_type": "stream",
     "text": [
      "8\n",
      "92\n"
     ]
    }
   ],
   "source": [
    "'''\n",
    "퀸 -> 자신의 위치에서 상하좌우, 대각선 방향으로 이어진 직선 상의 어떤 기물도 공격 가능\n",
    "'''\n",
    "n = int(input())\n",
    "row = [0]*15 # 특정 열에 있는 퀸의 행의 값\n",
    "result = 0\n",
    "\n",
    "def checking(i):\n",
    "    for j in range(0, i):\n",
    "        # 같은 행에 이미 다른 퀸이 있거나, 대각선에 있을 경우\n",
    "        if row[j] == row[i] or abs(row[j]-row[i]) == (i-j):\n",
    "            return False\n",
    "    return True\n",
    "\n",
    "def moving_queen(i):\n",
    "    global result\n",
    "    # 모든 열에 퀸이 위치하면 종료\n",
    "    if i == n:\n",
    "        result += 1\n",
    "    # 한 행씩 DFS 방식으로 탐색 & 백트래킹\n",
    "    else:\n",
    "        for j in range(n):\n",
    "            row[i] = j\n",
    "            if checking(i):\n",
    "                moving_queen(i+1)\n",
    "                \n",
    "moving_queen(0)\n",
    "print(result)"
   ]
  },
  {
   "cell_type": "markdown",
   "metadata": {},
   "source": [
    "### [2580] [스도쿠](https://www.acmicpc.net/problem/2580)\n",
    "스도쿠는 18세기 스위스 수학자가 만든 '라틴 사각형'이랑 퍼즐에서 유래한 것으로 현재 많은 인기를 누리고 있다. 이 게임은 아래 그림과 같이 가로, 세로 각각 9개씩 총 81개의 작은 칸으로 이루어진 정사각형 판 위에서 이뤄지는데, 게임 시작 전 일부 칸에는 1부터 9까지의 숫자 중 하나가 쓰여 있다.\n",
    "\n",
    "나머지 빈 칸을 채우는 방식은 다음과 같다.\n",
    "\n",
    "1. 각각의 가로줄과 세로줄에는 1부터 9까지의 숫자가 한 번씩만 나타나야 한다.\n",
    "2. 굵은 선으로 구분되어 있는 3x3 정사각형 안에도 1부터 9까지의 숫자가 한 번씩만 나타나야 한다.\n",
    "\n",
    "위의 예의 경우, 첫째 줄에는 1을 제외한 나머지 2부터 9까지의 숫자들이 이미 나타나 있으므로 첫째 줄 빈칸에는 1이 들어가야 한다.\n",
    "\n",
    "또한 위쪽 가운데 위치한 3x3 정사각형의 경우에는 3을 제외한 나머지 숫자들이 이미 쓰여있으므로 가운데 빈 칸에는 3이 들어가야 한다.\n",
    "\n",
    "이와 같이 빈 칸을 차례로 채워 가면 다음과 같은 최종 결과를 얻을 수 있다.\n",
    "\n",
    "게임 시작 전 스도쿠 판에 쓰여 있는 숫자들의 정보가 주어질 때 모든 빈 칸이 채워진 최종 모습을 출력하는 프로그램을 작성하시오."
   ]
  },
  {
   "cell_type": "code",
   "execution_count": 10,
   "metadata": {},
   "outputs": [
    {
     "name": "stdout",
     "output_type": "stream",
     "text": [
      "0 3 5 4 6 9 2 7 8\n",
      "7 8 2 1 0 5 6 0 9\n",
      "0 6 0 2 7 8 1 3 5\n",
      "3 2 1 0 4 6 8 9 7\n",
      "8 0 4 9 1 3 5 0 6\n",
      "5 9 6 8 2 0 4 1 3\n",
      "9 1 7 6 5 2 0 8 0\n",
      "6 0 3 7 0 1 9 5 2\n",
      "2 5 8 3 9 4 7 6 0\n",
      "1 3 5 4 6 9 2 7 8 \n",
      "7 8 2 1 3 5 6 4 9 \n",
      "4 6 9 2 7 8 1 3 5 \n",
      "3 2 1 5 4 6 8 9 7 \n",
      "8 7 4 9 1 3 5 2 6 \n",
      "5 9 6 8 2 7 4 1 3 \n",
      "9 1 7 6 5 2 3 8 4 \n",
      "6 4 3 7 8 1 9 5 2 \n",
      "2 5 8 3 9 4 7 6 1 \n"
     ]
    }
   ],
   "source": [
    "# 어디가 틀렸는지 모르겠;;\n",
    "\n",
    "board = [list(map(int, input().split())) for _ in range(9)]\n",
    "zeros = []\n",
    "for i in range(9):\n",
    "    for j in range(9):\n",
    "        if board[i][j] == 0:\n",
    "            zeros.append((i, j))\n",
    "\n",
    "def checking_board(y, x, n):\n",
    "    for i in range(9):\n",
    "        if n == board[y][i] or n == board[i][x]:\n",
    "            return False\n",
    "    ny = y//3*3\n",
    "    nx = x//3*3\n",
    "    for a in range(3):\n",
    "        for b in range(3):\n",
    "            if n == board[ny+a][nx+b]:\n",
    "                return False\n",
    "    return True\n",
    "\n",
    "def sudoku(z):\n",
    "    if z == len(zeros):\n",
    "        for y in range(9):\n",
    "            for x in range(9):\n",
    "                print(board[y][x], end=\" \")\n",
    "            print()\n",
    "            \n",
    "    else:\n",
    "        ny = zeros[z][0]\n",
    "        nx = zeros[z][1]\n",
    "        for n in range(1, 10):\n",
    "            if checking_board(ny, nx, n):\n",
    "                board[ny][nx] = n\n",
    "                sudoku(z+1)\n",
    "                board[ny][nx] = 0 # 틀려서 다시 돌아왔을 때 초기화\n",
    "                \n",
    "sudoku(0)"
   ]
  },
  {
   "cell_type": "code",
   "execution_count": null,
   "metadata": {},
   "outputs": [],
   "source": []
  }
 ],
 "metadata": {
  "kernelspec": {
   "display_name": "Python 3",
   "language": "python",
   "name": "python3"
  },
  "language_info": {
   "codemirror_mode": {
    "name": "ipython",
    "version": 3
   },
   "file_extension": ".py",
   "mimetype": "text/x-python",
   "name": "python",
   "nbconvert_exporter": "python",
   "pygments_lexer": "ipython3",
   "version": "3.8.3"
  }
 },
 "nbformat": 4,
 "nbformat_minor": 4
}
