{
 "cells": [
  {
   "cell_type": "code",
   "execution_count": 10,
   "metadata": {},
   "outputs": [
    {
     "name": "stdout",
     "output_type": "stream",
     "text": [
      "10\n",
      "2\n"
     ]
    }
   ],
   "source": [
    "'''\n",
    "2020.12.24\n",
    "codeup search 2625\n",
    "삼각화단 만들기 - 만들 수 있는 삼각형의 경우의 수 \n",
    "'''\n",
    "\n",
    "def triangles(length):\n",
    "    count = 0\n",
    "    for i in range(1, length):\n",
    "        for j in range(i, length):\n",
    "            for k in range(j, length):\n",
    "                if i+j+k == length and i+j>k:\n",
    "                    count += 1\n",
    "    return count\n",
    "\n",
    "length = int(input())\n",
    "cnt = triangles(length)\n",
    "print(cnt)"
   ]
  }
 ],
 "metadata": {
  "kernelspec": {
   "display_name": "Python 3",
   "language": "python",
   "name": "python3"
  },
  "language_info": {
   "codemirror_mode": {
    "name": "ipython",
    "version": 3
   },
   "file_extension": ".py",
   "mimetype": "text/x-python",
   "name": "python",
   "nbconvert_exporter": "python",
   "pygments_lexer": "ipython3",
   "version": "3.8.3"
  }
 },
 "nbformat": 4,
 "nbformat_minor": 4
}
