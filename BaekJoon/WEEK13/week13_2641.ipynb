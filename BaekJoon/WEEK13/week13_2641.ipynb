{
 "cells": [
  {
   "cell_type": "markdown",
   "metadata": {},
   "source": [
    "### [2641] [다각형 그리기](https://www.acmicpc.net/problem/2641)\n",
    "모눈종이에 다각형을 그리려고 한다. 그리는 방법은 모양수열로 표시된다. 모양수열은 1과 4사이의 숫자가 연속되어 나열된 것으로 1은 오른쪽으로, 2는 위쪽으로, 3은 왼쪽으로, 4는 아래쪽으로 한 칸씩 그리는 것을 말한다.\n",
    "\n",
    "예를 들어 아래 그림의 다각형 (2)는 점 A에서 시작하여 화살표 방향으로 모양수열 1411433322를 따라서 그린 것이다. 다각형 (3)은 점 B에서 시작하여 화살표 방향으로 모양수열 3221411433을 따라서 그린 것이다. 또한 다각형(4)는 점 C에서 시작하여 화살표 방향으로 모양수열 4411123323을 따라서 그린 것이다. 다각형 (2), (3), (4)는 다각형 (1)과 같으므로 모양수열들 1411433322, 3221411433, 4411123323은 모두 같은 다각형을 그릴 수 있다. 단, 다각형이 회전된 것이나 뒤집어진 것은 같은 다각형이 아니다. 그러므로 아래 그림의 다각형 (5)와 (6)은 다각형 (1)과 다르다.\n",
    "\n",
    "한 개의 표본 모양수열과 여러 모양수열들이 주어졌을 때 표본 모양수열과 같은 다각형을 그릴 수 있는 모양수열들을 모두 찾는 프로그램을 작성하시오."
   ]
  },
  {
   "cell_type": "code",
   "execution_count": 4,
   "metadata": {},
   "outputs": [
    {
     "name": "stdout",
     "output_type": "stream",
     "text": [
      "10\n",
      "1 4 1 1 4 3 3 3 2 2\n",
      "3\n",
      "3 2 2 1 4 1 1 4 3 3\n",
      "1 4 4 3 3 3 2 1 1 2\n",
      "4 4 1 1 1 2 3 3 2 3\n",
      "2\n",
      "3 2 2 1 4 1 1 4 3 3\n",
      "4 4 1 1 1 2 3 3 2 3\n"
     ]
    }
   ],
   "source": [
    "# 1 : ←\n",
    "# 2 : ↑\n",
    "# 3 : → \n",
    "# 4 : ↓\n",
    "\n",
    "l = int(input())\n",
    "fig = ''.join(input().split())\n",
    "\n",
    "n = int(input())\n",
    "ex = []\n",
    "for _ in range(n):\n",
    "    ex.append(''.join(input().split()))\n",
    "    \n",
    "# 반대방향\n",
    "re_fig = list(reversed(fig))\n",
    "for r in range(l):\n",
    "    if re_fig[r] == '1':\n",
    "        re_fig[r] = '3'\n",
    "    elif re_fig[r] == '2':\n",
    "        re_fig[r] = '4'\n",
    "    elif re_fig[r] == '3':\n",
    "        re_fig[r] = '1'\n",
    "    else:\n",
    "        re_fig[r] = '2'\n",
    "        \n",
    "re_fig = ''.join(re_fig)\n",
    "\n",
    "answer = []\n",
    "for e in ex:\n",
    "    fig_r, fig_l = fig, fig\n",
    "    re_r, re_l = re_fig, re_fig\n",
    "    \n",
    "    for _ in range(l):\n",
    "        fig_r = fig_r+fig_r[1]\n",
    "        fig_r = fig_r[1:]\n",
    "\n",
    "        fig_l = fig_l[-1:]+fig_l\n",
    "        fig_l = fig_l[:-1]\n",
    "\n",
    "        re_r = re_r+re_r[1]\n",
    "        re_r = re_r[1:]\n",
    "\n",
    "        re_l = re_l[-1:]+re_l\n",
    "        re_l = re_l[:-1]\n",
    "        \n",
    "        if e == fig_r:\n",
    "            answer.append(e)\n",
    "            break\n",
    "        elif e  == fig_l:\n",
    "            answer.append(e)\n",
    "            break\n",
    "        elif e == re_r:\n",
    "            answer.append(e)\n",
    "            break\n",
    "        elif e == re_l:\n",
    "            answer.append(e)\n",
    "            break\n",
    "            \n",
    "print(len(answer))\n",
    "for a in answer:\n",
    "    print(' '.join(a))"
   ]
  },
  {
   "cell_type": "code",
   "execution_count": 2,
   "metadata": {},
   "outputs": [
    {
     "name": "stdout",
     "output_type": "stream",
     "text": [
      "1 2 3 4 5 6\n",
      "123456\n",
      "['6', '5', '4', '3', '2', '1']\n",
      "6123456\n",
      "12345\n",
      "23456\n",
      "1 2 3 4 5 6\n"
     ]
    }
   ],
   "source": [
    "fig = ''.join(input().split())\n",
    "print(fig)\n",
    "\n",
    "re_fig = list(reversed(fig))\n",
    "print(re_fig)\n",
    "\n",
    "print(fig[-1:]+fig)\n",
    "print(fig[:-1])\n",
    "print(fig[1:])\n",
    "print(' '.join(fig))"
   ]
  },
  {
   "cell_type": "code",
   "execution_count": null,
   "metadata": {},
   "outputs": [],
   "source": []
  }
 ],
 "metadata": {
  "kernelspec": {
   "display_name": "Python 3",
   "language": "python",
   "name": "python3"
  },
  "language_info": {
   "codemirror_mode": {
    "name": "ipython",
    "version": 3
   },
   "file_extension": ".py",
   "mimetype": "text/x-python",
   "name": "python",
   "nbconvert_exporter": "python",
   "pygments_lexer": "ipython3",
   "version": "3.8.3"
  }
 },
 "nbformat": 4,
 "nbformat_minor": 4
}
