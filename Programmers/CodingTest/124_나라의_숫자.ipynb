{
 "cells": [
  {
   "cell_type": "markdown",
   "metadata": {},
   "source": [
    "### [124 나라의 숫자](https://programmers.co.kr/learn/courses/30/lessons/12899?language=python3)\n",
    "\n",
    "124 나라가 있습니다. 124 나라에서는 10진법이 아닌 다음과 같은 자신들만의 규칙으로 수를 표현합니다.\n",
    "\n",
    "1. 124 나라에는 자연수만 존재합니다.\n",
    "2. 124 나라에는 모든 수를 표현할 때 1, 2, 4만 사용합니다.\n",
    "\n",
    "예를 들어서 124 나라에서 사용하는 숫자는 다음과 같이 변환됩니다.\n",
    "\n",
    "10진법\t124 나라\t10진법\t124 나라 <br>\n",
    "1   1\t6\t14 <br>\n",
    "2\t2\t7\t21 <br>\n",
    "3\t4\t8\t22 <br>\n",
    "4\t11\t9\t24 <br>\n",
    "5\t12\t10\t41 <br>\n",
    "자연수 n이 매개변수로 주어질 때, n을 124 나라에서 사용하는 숫자로 바꾼 값을 return 하도록 solution 함수를 완성해 주세요.\n",
    "\n",
    "제한사항\n",
    "n은 500,000,000이하의 자연수 입니다."
   ]
  },
  {
   "cell_type": "code",
   "execution_count": 2,
   "metadata": {},
   "outputs": [
    {
     "name": "stdout",
     "output_type": "stream",
     "text": [
      "1\n",
      "2\n",
      "4\n",
      "11\n",
      "111\n"
     ]
    }
   ],
   "source": [
    "def solution(n):\n",
    "    answer = ''\n",
    "    num = ['', '1', '2', '4']\n",
    "    while True:\n",
    "        a = n%3\n",
    "        b = n//3\n",
    "        if a == 0:\n",
    "            answer = num[3]+answer\n",
    "            b -= 1\n",
    "        else:\n",
    "            answer = num[a]+answer\n",
    "            \n",
    "        if b < 3:\n",
    "            answer = num[b]+answer\n",
    "            break\n",
    "            \n",
    "        n = b\n",
    "    return answer\n",
    "\n",
    "print(solution(1))\n",
    "print(solution(2))\n",
    "print(solution(3))\n",
    "print(solution(4))\n",
    "print(solution(13))"
   ]
  },
  {
   "cell_type": "code",
   "execution_count": null,
   "metadata": {},
   "outputs": [],
   "source": []
  }
 ],
 "metadata": {
  "kernelspec": {
   "display_name": "Python 3",
   "language": "python",
   "name": "python3"
  },
  "language_info": {
   "codemirror_mode": {
    "name": "ipython",
    "version": 3
   },
   "file_extension": ".py",
   "mimetype": "text/x-python",
   "name": "python",
   "nbconvert_exporter": "python",
   "pygments_lexer": "ipython3",
   "version": "3.8.3"
  }
 },
 "nbformat": 4,
 "nbformat_minor": 4
}
