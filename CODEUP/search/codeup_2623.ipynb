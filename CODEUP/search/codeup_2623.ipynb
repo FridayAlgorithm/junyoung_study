{
 "cells": [
  {
   "cell_type": "code",
   "execution_count": 1,
   "metadata": {},
   "outputs": [
    {
     "name": "stdout",
     "output_type": "stream",
     "text": [
      "64 128\n",
      "64\n"
     ]
    }
   ],
   "source": [
    "'''\n",
    "2020.12.24\n",
    "codeup search 2623\n",
    "\n",
    "최대공약수 구하기\n",
    "'''\n",
    "# gdc 함수 직접 구현\n",
    "# 메모리 : 33764, 시간 : 22\n",
    "def gcd(a, b):\n",
    "    if a < b :\n",
    "        (a, b) = (b, a)\n",
    "    while b != 0:\n",
    "        (a, b) = (b, a%b)\n",
    "    return a\n",
    "\n",
    "a, b = input().split()\n",
    "\n",
    "_gcd = gcd(int(a), int(b))\n",
    "print(_gcd)"
   ]
  },
  {
   "cell_type": "code",
   "execution_count": 2,
   "metadata": {},
   "outputs": [
    {
     "name": "stdout",
     "output_type": "stream",
     "text": [
      "64 128\n",
      "64\n"
     ]
    }
   ],
   "source": [
    "# 라이브러리 호출\n",
    "# 메모리 : 33752, 시간 : 18\n",
    "from math import gcd\n",
    "\n",
    "a, b = input().split()\n",
    "_gcd = gcd(int(a), int(b))\n",
    "print(_gcd)"
   ]
  },
  {
   "cell_type": "code",
   "execution_count": null,
   "metadata": {},
   "outputs": [],
   "source": []
  }
 ],
 "metadata": {
  "kernelspec": {
   "display_name": "Python 3",
   "language": "python",
   "name": "python3"
  },
  "language_info": {
   "codemirror_mode": {
    "name": "ipython",
    "version": 3
   },
   "file_extension": ".py",
   "mimetype": "text/x-python",
   "name": "python",
   "nbconvert_exporter": "python",
   "pygments_lexer": "ipython3",
   "version": "3.8.3"
  }
 },
 "nbformat": 4,
 "nbformat_minor": 4
}
