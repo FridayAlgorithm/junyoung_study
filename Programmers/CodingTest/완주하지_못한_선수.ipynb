{
 "cells": [
  {
   "cell_type": "markdown",
   "metadata": {},
   "source": [
    "### [완주하지 못한 선수](https://programmers.co.kr/learn/courses/30/lessons/42576?language=python3)\n",
    "\n",
    "수많은 마라톤 선수들이 마라톤에 참여하였습니다. 단 한 명의 선수를 제외하고는 모든 선수가 마라톤을 완주하였습니다.\n",
    "\n",
    "마라톤에 참여한 선수들의 이름이 담긴 배열 participant와 완주한 선수들의 이름이 담긴 배열 completion이 주어질 때, 완주하지 못한 선수의 이름을 return 하도록 solution 함수를 작성해주세요.\n",
    "\n",
    "제한사항\n",
    "+ 마라톤 경기에 참여한 선수의 수는 1명 이상 100,000명 이하입니다.\n",
    "+ completion의 길이는 participant의 길이보다 1 작습니다.\n",
    "+ 참가자의 이름은 1개 이상 20개 이하의 알파벳 소문자로 이루어져 있습니다.\n",
    "+ 참가자 중에는 동명이인이 있을 수 있습니다."
   ]
  },
  {
   "cell_type": "code",
   "execution_count": 1,
   "metadata": {},
   "outputs": [
    {
     "name": "stdout",
     "output_type": "stream",
     "text": [
      "leo\n",
      "vinko\n",
      "mislav\n"
     ]
    }
   ],
   "source": [
    "def solution(participant, completion):\n",
    "    participant.sort()\n",
    "    completion.sort()\n",
    "    answer = ''\n",
    "    for i in range(len(completion)):\n",
    "        if participant[i] != completion[i]:\n",
    "            answer = participant[i]\n",
    "            break\n",
    "    if answer == '':\n",
    "        answer = participant[-1]\n",
    "    return answer\n",
    "\n",
    "participant1 = [\"leo\", \"kiki\", \"eden\"]\n",
    "completion1 = [\"eden\", \"kiki\"]\n",
    "participant2 = [\"marina\", \"josipa\", \"nikola\", \"vinko\", \"filipa\"]\n",
    "completion2 = [\"josipa\", \"filipa\", \"marina\", \"nikola\"]\n",
    "participant3 = [\"mislav\", \"stanko\", \"mislav\", \"ana\"]\n",
    "completion3 = [\"stanko\", \"ana\", \"mislav\"]\n",
    "\n",
    "print(solution(participant1, completion1))\n",
    "print(solution(participant2, completion2))\n",
    "print(solution(participant3, completion3))"
   ]
  },
  {
   "cell_type": "code",
   "execution_count": null,
   "metadata": {},
   "outputs": [],
   "source": []
  }
 ],
 "metadata": {
  "kernelspec": {
   "display_name": "Python 3",
   "language": "python",
   "name": "python3"
  },
  "language_info": {
   "codemirror_mode": {
    "name": "ipython",
    "version": 3
   },
   "file_extension": ".py",
   "mimetype": "text/x-python",
   "name": "python",
   "nbconvert_exporter": "python",
   "pygments_lexer": "ipython3",
   "version": "3.8.3"
  }
 },
 "nbformat": 4,
 "nbformat_minor": 4
}
