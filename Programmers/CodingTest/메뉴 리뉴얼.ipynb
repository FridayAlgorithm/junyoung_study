{
 "cells": [
  {
   "cell_type": "code",
   "execution_count": 5,
   "metadata": {},
   "outputs": [
    {
     "name": "stdout",
     "output_type": "stream",
     "text": [
      "['AC', 'ACDE', 'BCFG', 'CDE']\n",
      "['ACD', 'AD', 'ADE', 'CD', 'XYZ']\n",
      "['WX', 'XY']\n"
     ]
    }
   ],
   "source": [
    "from itertools import combinations\n",
    "\n",
    "def solution(orders, course):\n",
    "    answer = []\n",
    "    \n",
    "    for c in course:\n",
    "        dic = {}\n",
    "        for order in orders:\n",
    "            combi = combinations(sorted(order), c)\n",
    "            for setmenu in combi:\n",
    "                sm = ''.join(setmenu)\n",
    "                if sm in dic:\n",
    "                    dic[sm] +=1\n",
    "                else:\n",
    "                    dic[sm] = 1\n",
    "                    \n",
    "        dic = dict(sorted(dic.items(), key = lambda x: x[1], reverse=True))\n",
    "        \n",
    "        max_cnt = -1\n",
    "        for i, m in enumerate(dic):\n",
    "            if i == 0:\n",
    "                max_cnt = dic[m]\n",
    "            if dic[m] == max_cnt and max_cnt >= 2:\n",
    "                answer.append(m)\n",
    "            else:\n",
    "                break\n",
    "                \n",
    "    return sorted(answer)\n",
    "\n",
    "print(solution([\"ABCFG\", \"AC\", \"CDE\", \"ACDE\", \"BCFG\", \"ACDEH\"], [2,3,4]))\n",
    "print(solution([\"ABCDE\", \"AB\", \"CD\", \"ADE\", \"XYZ\", \"XYZ\", \"ACD\"], [2,3,5]))\n",
    "print(solution([\"XYZ\", \"XWY\", \"WXA\"], [2,3,4]))"
   ]
  },
  {
   "cell_type": "code",
   "execution_count": null,
   "metadata": {},
   "outputs": [],
   "source": []
  },
  {
   "cell_type": "code",
   "execution_count": null,
   "metadata": {},
   "outputs": [],
   "source": []
  }
 ],
 "metadata": {
  "kernelspec": {
   "display_name": "Python 3",
   "language": "python",
   "name": "python3"
  },
  "language_info": {
   "codemirror_mode": {
    "name": "ipython",
    "version": 3
   },
   "file_extension": ".py",
   "mimetype": "text/x-python",
   "name": "python",
   "nbconvert_exporter": "python",
   "pygments_lexer": "ipython3",
   "version": "3.8.3"
  }
 },
 "nbformat": 4,
 "nbformat_minor": 4
}
