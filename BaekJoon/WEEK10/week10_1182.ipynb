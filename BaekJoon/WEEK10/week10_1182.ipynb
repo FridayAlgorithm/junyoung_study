{
 "cells": [
  {
   "cell_type": "markdown",
   "metadata": {},
   "source": [
    "### [1182] [부분수열의 합](https://www.acmicpc.net/problem/1182)\n",
    "N개의 정수로 이루어진 수열이 있을 때, 크기가 양수인 부분수열 중에서 그 수열의 원소를 다 더한 값이 S가 되는 경우의 수를 구하는 프로그램을 작성하시오."
   ]
  },
  {
   "cell_type": "code",
   "execution_count": 2,
   "metadata": {},
   "outputs": [
    {
     "name": "stdout",
     "output_type": "stream",
     "text": [
      "5 0\n",
      "-7 -3 -2 5 8\n",
      "1\n"
     ]
    }
   ],
   "source": [
    "from itertools import combinations\n",
    "n, s = map(int, input().split())\n",
    "nums = list(map(int, input().split()))\n",
    "\n",
    "cnt = 0\n",
    "for i in range(1, len(nums)+1):\n",
    "    comb = list(combinations(nums, i))\n",
    "    \n",
    "    for j in range(len(comb)):\n",
    "        sum_c = sum(comb[j])\n",
    "        if sum_c == s:\n",
    "            cnt += 1\n",
    "\n",
    "print(cnt)"
   ]
  }
 ],
 "metadata": {
  "kernelspec": {
   "display_name": "Python 3",
   "language": "python",
   "name": "python3"
  },
  "language_info": {
   "codemirror_mode": {
    "name": "ipython",
    "version": 3
   },
   "file_extension": ".py",
   "mimetype": "text/x-python",
   "name": "python",
   "nbconvert_exporter": "python",
   "pygments_lexer": "ipython3",
   "version": "3.8.3"
  }
 },
 "nbformat": 4,
 "nbformat_minor": 4
}
