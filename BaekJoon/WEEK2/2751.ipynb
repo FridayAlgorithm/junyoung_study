{
 "cells": [
  {
   "cell_type": "markdown",
   "metadata": {},
   "source": [
    "### [정렬] [수 정렬하기2](https://www.acmicpc.net/problem/2751)\n",
    "N개의 수가 주어졌을 때, 이를 오름차순으로 정렬하는 프로그램을 작성하시오."
   ]
  },
  {
   "cell_type": "code",
   "execution_count": 2,
   "metadata": {},
   "outputs": [
    {
     "name": "stdout",
     "output_type": "stream",
     "text": [
      "5\n",
      "3\n",
      "1\n",
      "5\n",
      "7\n",
      "4\n",
      "1\n",
      "3\n",
      "4\n",
      "5\n",
      "7\n"
     ]
    }
   ],
   "source": [
    "n = int(input())\n",
    "list = []\n",
    "for i in range(0, n):\n",
    "    a = int(input())\n",
    "    list.append(a)\n",
    "    \n",
    "for i in range(len(list)-1):\n",
    "    min_index = i\n",
    "    for j in range(i+1, len(list)):\n",
    "        if list[j]<list[min_index]:\n",
    "            min_index = j\n",
    "    tmp = list[min_index]\n",
    "    list[min_index] = list[i]\n",
    "    list[i] = tmp\n",
    "    \n",
    "for i in range(len(list)):\n",
    "    print(list[i])"
   ]
  },
  {
   "cell_type": "code",
   "execution_count": 3,
   "metadata": {},
   "outputs": [
    {
     "name": "stdout",
     "output_type": "stream",
     "text": [
      "5\n",
      "2\n",
      "8\n",
      "6\n",
      "7\n",
      "4\n",
      "[2, 4, 6, 7, 8]\n"
     ]
    }
   ],
   "source": [
    "n = int(input())\n",
    "list = []\n",
    "for i in range(0, n):\n",
    "    a = int(input())\n",
    "    list.append(a)\n",
    "    \n",
    "def mergeSort(list):\n",
    "    if len(list) <= 1:\n",
    "        return list\n",
    "    mid = len(list)//2\n",
    "    leftlist = list[:mid]\n",
    "    rightlist = list[mid:]\n",
    "    L = mergeSort(leftlist)\n",
    "    R = mergeSort(rightlist)\n",
    "    i = j = 0\n",
    "    result = []\n",
    "    while i<len(L) and j<len(R):\n",
    "        if L[i] < R[j]:\n",
    "            result.append(L[i])\n",
    "            i+=1\n",
    "        else:\n",
    "            result.append(R[j])\n",
    "            j+=1\n",
    "    result += L[i:]\n",
    "    result += R[j:]\n",
    "    return result\n",
    "\n",
    "result = mergeSort(list)\n",
    "for i in range(len(result)):\n",
    "    print(result[i])"
   ]
  },
  {
   "cell_type": "code",
   "execution_count": 4,
   "metadata": {},
   "outputs": [
    {
     "name": "stdout",
     "output_type": "stream",
     "text": [
      "5\n",
      "2\n",
      "6\n",
      "7\n",
      "5\n",
      "8\n",
      "2\n",
      "5\n",
      "6\n",
      "7\n",
      "8\n"
     ]
    }
   ],
   "source": [
    "n = int(input())\n",
    "list = []\n",
    "for i in range(0, n):\n",
    "    a = int(input())\n",
    "    list.append(a)\n",
    "    \n",
    "sorted_list = sorted(list)\n",
    "for i in range(len(sorted_list)):\n",
    "    print(sorted_list[i])"
   ]
  },
  {
   "cell_type": "code",
   "execution_count": null,
   "metadata": {},
   "outputs": [],
   "source": []
  }
 ],
 "metadata": {
  "kernelspec": {
   "display_name": "Python 3",
   "language": "python",
   "name": "python3"
  },
  "language_info": {
   "codemirror_mode": {
    "name": "ipython",
    "version": 3
   },
   "file_extension": ".py",
   "mimetype": "text/x-python",
   "name": "python",
   "nbconvert_exporter": "python",
   "pygments_lexer": "ipython3",
   "version": "3.8.3"
  }
 },
 "nbformat": 4,
 "nbformat_minor": 4
}
