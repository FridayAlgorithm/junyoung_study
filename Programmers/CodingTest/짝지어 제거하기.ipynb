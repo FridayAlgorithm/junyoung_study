{
 "cells": [
  {
   "cell_type": "code",
   "execution_count": 9,
   "metadata": {},
   "outputs": [
    {
     "name": "stdout",
     "output_type": "stream",
     "text": [
      "1\n",
      "0\n"
     ]
    }
   ],
   "source": [
    "# 괄호 문제랑 비슷 -> stack\n",
    "\n",
    "def solution(string):\n",
    "    answer = 0\n",
    "\n",
    "    stack = []\n",
    "    for s in string:\n",
    "        if len(stack) != 0 and stack[-1] == s:\n",
    "            stack.pop()\n",
    "        else:\n",
    "            stack.append(s)\n",
    "            \n",
    "    if len(stack) == 0:\n",
    "        answer = 1\n",
    "\n",
    "    return answer\n",
    "\n",
    "print(solution(\"baabaa\"))\n",
    "print(solution(\"cdcd\"))"
   ]
  },
  {
   "cell_type": "code",
   "execution_count": 7,
   "metadata": {},
   "outputs": [
    {
     "name": "stdout",
     "output_type": "stream",
     "text": [
      "[1]\n"
     ]
    }
   ],
   "source": [
    "hel = []\n",
    "if not hel:\n",
    "    hel.append(1)\n",
    "    \n",
    "print(hel)"
   ]
  },
  {
   "cell_type": "code",
   "execution_count": null,
   "metadata": {},
   "outputs": [],
   "source": []
  }
 ],
 "metadata": {
  "kernelspec": {
   "display_name": "Python 3",
   "language": "python",
   "name": "python3"
  },
  "language_info": {
   "codemirror_mode": {
    "name": "ipython",
    "version": 3
   },
   "file_extension": ".py",
   "mimetype": "text/x-python",
   "name": "python",
   "nbconvert_exporter": "python",
   "pygments_lexer": "ipython3",
   "version": "3.8.3"
  }
 },
 "nbformat": 4,
 "nbformat_minor": 4
}
