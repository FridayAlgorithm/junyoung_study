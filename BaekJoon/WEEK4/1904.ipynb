{
 "cells": [
  {
   "cell_type": "markdown",
   "metadata": {},
   "source": [
    "### [동적 계획법] [01타일](https://www.acmicpc.net/problem/1904)\n",
    "지원이에게 2진 수열을 가르쳐 주기 위해, 지원이 아버지는 그에게 타일들을 선물해주셨다. 그리고 이 각각의 타일들은 0 또는 1이 쓰여 있는 낱장의 타일들이다.\n",
    "\n",
    "어느 날 짓궂은 동주가 지원이의 공부를 방해하기 위해 0이 쓰여진 낱장의 타일들을 붙여서 한 쌍으로 이루어진 00 타일들을 만들었다. 결국 현재 1 하나만으로 이루어진 타일 또는 0타일을 두 개 붙인 한 쌍의 00타일들만이 남게 되었다.\n",
    "\n",
    "그러므로 지원이는 타일로 더 이상 크기가 N인 모든 2진 수열을 만들 수 없게 되었다. 예를 들어, N=1일 때 1만 만들 수 있고, N=2일 때는 00, 11을 만들 수 있다. (01, 10은 만들 수 없게 되었다.) 또한 N=4일 때는 0011, 0000, 1001, 1100, 1111 등 총 5개의 2진 수열을 만들 수 있다.\n",
    "\n",
    "우리의 목표는 N이 주어졌을 때 지원이가 만들 수 있는 모든 가짓수를 세는 것이다. 단 타일들은 무한히 많은 것으로 가정하자."
   ]
  },
  {
   "cell_type": "code",
   "execution_count": 18,
   "metadata": {},
   "outputs": [
    {
     "name": "stdout",
     "output_type": "stream",
     "text": [
      "5\n",
      "7\n"
     ]
    }
   ],
   "source": [
    "# 시간초과 & 틀렸음\n",
    "n = int(input())\n",
    "cnt = 0\n",
    "\n",
    "'''\n",
    "주어진 타일에서 시작,\n",
    "재귀적으로 문제를 풀어보자?\n",
    "00 타일이 몇개 들어가는지가 함수 내용\n",
    "'''\n",
    "def make_tile(now):\n",
    "    global cnt\n",
    "    if now > n :\n",
    "        return \n",
    "    for i in range(n-now+1):\n",
    "        cnt += 1\n",
    "    make_tile(now+2)\n",
    "    \n",
    "make_tile(2)\n",
    "print(cnt+1)"
   ]
  },
  {
   "cell_type": "code",
   "execution_count": 17,
   "metadata": {},
   "outputs": [
    {
     "name": "stdout",
     "output_type": "stream",
     "text": [
      "5\n",
      "8\n"
     ]
    }
   ],
   "source": [
    "# 런타임 에러 : Recursion Error\n",
    "'''\n",
    "피보나치\n",
    "1 - 1 (1) \n",
    "2 - 00, 11 (2)\n",
    "3 - 111, 100, 001 (3) \n",
    "4 - 1111, 1100, 1001, 0011, 0000 (5)\n",
    "5 - 11111, 11100, 11001, 10011, 00111, 10000, 00100, 00001 (8)\n",
    "'''\n",
    "N = int(input())\n",
    "\n",
    "def cards(n):\n",
    "    if n<=2:\n",
    "        return n\n",
    "    else:\n",
    "        return cards(n-2)+cards(n-1)\n",
    "    \n",
    "print(cards(N))"
   ]
  },
  {
   "cell_type": "code",
   "execution_count": 19,
   "metadata": {},
   "outputs": [
    {
     "name": "stdout",
     "output_type": "stream",
     "text": [
      "5\n",
      "8\n"
     ]
    }
   ],
   "source": [
    "n = int(input())\n",
    "m = [0]*1000001\n",
    "m[1] = 1\n",
    "m[2] = 2\n",
    "for i in range(3, n+1):\n",
    "    m[i] = (m[i-2]+m[i-1]) % 15746\n",
    "    \n",
    "print(m[n])"
   ]
  }
 ],
 "metadata": {
  "kernelspec": {
   "display_name": "Python 3",
   "language": "python",
   "name": "python3"
  },
  "language_info": {
   "codemirror_mode": {
    "name": "ipython",
    "version": 3
   },
   "file_extension": ".py",
   "mimetype": "text/x-python",
   "name": "python",
   "nbconvert_exporter": "python",
   "pygments_lexer": "ipython3",
   "version": "3.8.3"
  }
 },
 "nbformat": 4,
 "nbformat_minor": 4
}
