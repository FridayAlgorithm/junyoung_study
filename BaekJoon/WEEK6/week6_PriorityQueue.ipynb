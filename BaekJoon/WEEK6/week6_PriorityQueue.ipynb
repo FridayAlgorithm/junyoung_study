{
 "cells": [
  {
   "cell_type": "markdown",
   "metadata": {},
   "source": [
    "### [11286] [절댓값 힙](https://www.acmicpc.net/problem/11286)\n",
    "절댓값 힙은 다음과 같은 연산을 지원하는 자료구조이다.\n",
    "\n",
    "1. 배열에 정수 x (x ≠ 0)를 넣는다.\n",
    "2. 배열에서 절댓값이 가장 작은 값을 출력하고, 그 값을 배열에서 제거한다. 절댓값이 가장 작은 값이 여러개일 때는, 가장 작은 수를 출력하고, 그 값을 배열에서 제거한다.\n",
    "\n",
    "프로그램은 처음에 비어있는 배열에서 시작하게 된다."
   ]
  },
  {
   "cell_type": "code",
   "execution_count": 7,
   "metadata": {},
   "outputs": [
    {
     "name": "stdout",
     "output_type": "stream",
     "text": [
      "18\n",
      "1\n",
      "-1\n",
      "0\n",
      "0\n",
      "0\n",
      "1\n",
      "1\n",
      "-1\n",
      "-1\n",
      "2\n",
      "-2\n",
      "0\n",
      "0\n",
      "0\n",
      "0\n",
      "0\n",
      "0\n",
      "0\n",
      "-1\n",
      "1\n",
      "0\n",
      "-1\n",
      "-1\n",
      "1\n",
      "1\n",
      "-2\n",
      "2\n",
      "0\n"
     ]
    }
   ],
   "source": [
    "# 시간초과\n",
    "n = int(input())\n",
    "heap = [0]\n",
    "result = []\n",
    "\n",
    "def insert(x):\n",
    "    heap.append(x)\n",
    "    i = len(heap)-1\n",
    "    \n",
    "    while i > 1:\n",
    "        if abs(heap[i-1]) > abs(heap[i]):\n",
    "            tmp = heap[i]\n",
    "            heap[i] = heap[i-1]\n",
    "            heap[i-1] = tmp\n",
    "        elif abs(heap[i]) == abs(heap[i-1]) and heap[i-1] > heap[i]:\n",
    "            tmp = heap[i]\n",
    "            heap[i] = heap[i-1]\n",
    "            heap[i-1] = tmp\n",
    "        else:\n",
    "            break\n",
    "        i-=1\n",
    "            \n",
    "def remove():\n",
    "    if len(heap) == 1:\n",
    "        #print(0)\n",
    "        result.append(0)\n",
    "    else:\n",
    "        #print(heap.pop(1))\n",
    "        result.append(heap.pop(1))\n",
    "        \n",
    "for i in range(n):\n",
    "    x = int(input())\n",
    "    if x != 0:\n",
    "        insert(x)\n",
    "    else:\n",
    "        remove()\n",
    "        \n",
    "for r in result:\n",
    "    print(r)"
   ]
  },
  {
   "cell_type": "code",
   "execution_count": 10,
   "metadata": {},
   "outputs": [
    {
     "name": "stdout",
     "output_type": "stream",
     "text": [
      "18\n",
      "1\n",
      "1\n",
      "1\n",
      "0\n",
      "1\n",
      "0\n",
      "1\n",
      "0\n",
      "1\n",
      "0\n",
      "0\n",
      "1\n",
      "1\n",
      "-1\n",
      "-1\n",
      "0\n",
      "1\n",
      "0\n",
      "1\n",
      "0\n",
      "1\n",
      "0\n",
      "1\n",
      "0\n",
      "0\n",
      "0\n",
      "0\n",
      "0\n",
      "0\n"
     ]
    }
   ],
   "source": [
    "import heapq\n",
    "\n",
    "\n",
    "n = int(input())\n",
    "heap = []\n",
    "\n",
    "for i in range(n):\n",
    "    num = int(input())\n",
    "    if num == 0:\n",
    "        if heap:\n",
    "            print(heapq.heappop(heap)[1])\n",
    "        else:\n",
    "            print(0)\n",
    "    else:\n",
    "        heapq.heappush(heap, [abs(num), num])\n"
   ]
  },
  {
   "cell_type": "markdown",
   "metadata": {},
   "source": [
    "### [1655] [가운데를 말해요](https://www.acmicpc.net/problem/1655)\n",
    "수빈이는 동생에게 \"가운데를 말해요\" 게임을 가르쳐주고 있다. 수빈이가 정수를 하나씩 외칠때마다 동생은 지금까지 수빈이가 말한 수 중에서 중간값을 말해야 한다. 만약, 그동안 수빈이가 외친 수의 개수가 짝수개라면 중간에 있는 두 수 중에서 작은 수를 말해야 한다.\n",
    "\n",
    "예를 들어 수빈이가 동생에게 1, 5, 2, 10, -99, 7, 5를 순서대로 외쳤다고 하면, 동생은 1, 1, 2, 2, 2, 2, 5를 차례대로 말해야 한다. 수빈이가 외치는 수가 주어졌을 때, 동생이 말해야 하는 수를 구하는 프로그램을 작성하시오."
   ]
  },
  {
   "cell_type": "code",
   "execution_count": 17,
   "metadata": {},
   "outputs": [
    {
     "name": "stdout",
     "output_type": "stream",
     "text": [
      "7\n",
      "1\n",
      "1\n",
      "5\n",
      "1\n",
      "2\n",
      "2\n",
      "10\n",
      "2\n",
      "-99\n",
      "2\n",
      "7\n",
      "2\n",
      "5\n",
      "5\n"
     ]
    }
   ],
   "source": [
    "import heapq\n",
    "\n",
    "n = int(input())\n",
    "heap = []\n",
    "\n",
    "for i in range(n):\n",
    "    num = int(input())\n",
    "    heap.append(num)\n",
    "    heap.sort()\n",
    "    print(heap[i//2])"
   ]
  },
  {
   "cell_type": "code",
   "execution_count": 15,
   "metadata": {},
   "outputs": [
    {
     "data": {
      "text/plain": [
       "1"
      ]
     },
     "execution_count": 15,
     "metadata": {},
     "output_type": "execute_result"
    }
   ],
   "source": [
    "3//2"
   ]
  },
  {
   "cell_type": "code",
   "execution_count": null,
   "metadata": {},
   "outputs": [],
   "source": []
  }
 ],
 "metadata": {
  "kernelspec": {
   "display_name": "Python 3",
   "language": "python",
   "name": "python3"
  },
  "language_info": {
   "codemirror_mode": {
    "name": "ipython",
    "version": 3
   },
   "file_extension": ".py",
   "mimetype": "text/x-python",
   "name": "python",
   "nbconvert_exporter": "python",
   "pygments_lexer": "ipython3",
   "version": "3.8.3"
  }
 },
 "nbformat": 4,
 "nbformat_minor": 4
}
