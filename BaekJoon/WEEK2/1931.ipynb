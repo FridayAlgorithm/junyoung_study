{
 "cells": [
  {
   "cell_type": "markdown",
   "metadata": {},
   "source": [
    "### [그리디] [회의실 배정](https://www.acmicpc.net/problem/1931)\n",
    "한 개의 회의실이 있는데 이를 사용하고자 하는 N개의 회의에 대하여 회의실 사용표를 만들려고 한다. 각 회의 I에 대해 시작시간과 끝나는 시간이 주어져 있고, 각 회의가 겹치지 않게 하면서 회의실을 사용할 수 있는 회의의 최대 개수를 찾아보자. 단, 회의는 한번 시작하면 중간에 중단될 수 없으며 한 회의가 끝나는 것과 동시에 다음 회의가 시작될 수 있다. 회의의 시작시간과 끝나는 시간이 같을 수도 있다. 이 경우에는 시작하자마자 끝나는 것으로 생각하면 된다."
   ]
  },
  {
   "cell_type": "code",
   "execution_count": 17,
   "metadata": {},
   "outputs": [
    {
     "name": "stdout",
     "output_type": "stream",
     "text": [
      "11\n",
      "1 4\n",
      "3 5\n",
      "0 6\n",
      "5 7\n",
      "3 8\n",
      "5 9\n",
      "6 10\n",
      "8 11\n",
      "8 12\n",
      "2 13\n",
      "12 14\n",
      "result : 4\n"
     ]
    }
   ],
   "source": [
    "# 시간초과\n",
    "\n",
    "n = int(input())\n",
    "meetings = []\n",
    "for i in range(n):\n",
    "    x, y = map(int, input().split())\n",
    "    meetings.append((x, y))\n",
    "\n",
    "meetings.sort(key= lambda element:element[0])\n",
    "\n",
    "start = 0\n",
    "max_cnt = 0\n",
    "while start<n:\n",
    "    cnt = 1\n",
    "    now = start\n",
    "    while now<n-1:\n",
    "        for next in range(now, n):\n",
    "            if meetings[now][1] <= meetings[next][0]:\n",
    "                cnt += 1\n",
    "                now = next\n",
    "                break\n",
    "        if now == start:\n",
    "            break\n",
    "                \n",
    "    if max_cnt < cnt:\n",
    "        max_cnt = cnt\n",
    "    start += 1\n",
    "\n",
    "print(\"result : %d\" % max_cnt)"
   ]
  },
  {
   "cell_type": "code",
   "execution_count": 21,
   "metadata": {},
   "outputs": [
    {
     "name": "stdout",
     "output_type": "stream",
     "text": [
      "11\n",
      "1 4\n",
      "3 5\n",
      "0 6\n",
      "5 7\n",
      "3 8\n",
      "5 9\n",
      "6 10\n",
      "8 11\n",
      "8 12\n",
      "2 13\n",
      "12 14\n",
      "[(1, 4), (3, 5), (0, 6), (5, 7), (3, 8), (5, 9), (6, 10), (8, 11), (8, 12), (2, 13), (12, 14)]\n",
      "4\n"
     ]
    }
   ],
   "source": [
    "n = int(input())\n",
    "meetings = []\n",
    "for i in range(n):\n",
    "    x, y = map(int, input().split())\n",
    "    meetings.append((x, y))\n",
    "    \n",
    "# 빨리 끝나는 회의 기준으로 sorting\n",
    "# 빨리 끝나면서 먼저 시작하는 회의\n",
    "meetings.sort(key=lambda x: (x[1], x[0])) \n",
    "print(meetings)\n",
    "\n",
    "end_time = cnt = 0\n",
    "for i in range(len(meetings)):\n",
    "    if end_time <= meetings[i][0]:\n",
    "        end_time = meetings[i][1]\n",
    "        cnt += 1\n",
    "\n",
    "print(cnt)"
   ]
  },
  {
   "cell_type": "code",
   "execution_count": null,
   "metadata": {},
   "outputs": [],
   "source": []
  }
 ],
 "metadata": {
  "kernelspec": {
   "display_name": "Python 3",
   "language": "python",
   "name": "python3"
  },
  "language_info": {
   "codemirror_mode": {
    "name": "ipython",
    "version": 3
   },
   "file_extension": ".py",
   "mimetype": "text/x-python",
   "name": "python",
   "nbconvert_exporter": "python",
   "pygments_lexer": "ipython3",
   "version": "3.8.3"
  }
 },
 "nbformat": 4,
 "nbformat_minor": 4
}
