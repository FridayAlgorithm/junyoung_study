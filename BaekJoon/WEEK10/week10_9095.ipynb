{
 "cells": [
  {
   "cell_type": "markdown",
   "metadata": {},
   "source": [
    "### [9095] [1, 2, 3 더하기](https://www.acmicpc.net/problem/9095)\n",
    "정수 4를 1, 2, 3의 합으로 나타내는 방법은 총 7가지가 있다. 합을 나타낼 때는 수를 1개 이상 사용해야 한다.\n",
    "\n",
    " + 1+1+1+1\n",
    " + 1+1+2\n",
    " + 1+2+1\n",
    " + 2+1+1\n",
    " + 2+2\n",
    " + 1+3\n",
    " + 3+1\n",
    " \n",
    "정수 n이 주어졌을 때, n을 1, 2, 3의 합으로 나타내는 방법의 수를 구하는 프로그램을 작성하시오."
   ]
  },
  {
   "cell_type": "code",
   "execution_count": 3,
   "metadata": {},
   "outputs": [
    {
     "name": "stdout",
     "output_type": "stream",
     "text": [
      "3\n",
      "4\n",
      "7\n",
      "10\n",
      "7\n",
      "44\n",
      "274\n"
     ]
    }
   ],
   "source": [
    "t = int(input())\n",
    "testcase = []\n",
    "for _ in range(t):\n",
    "    testcase.append(int(input()))\n",
    "    \n",
    "dp = [0]*(max(testcase)+1)\n",
    "dp[1] = 1\n",
    "dp[2] = 2\n",
    "dp[3] = 4\n",
    "\n",
    "for i in range(4, len(dp)):\n",
    "    dp[i] = dp[i-3]+dp[i-2]+dp[i-1]\n",
    "    \n",
    "for test in testcase:\n",
    "    print(dp[test])"
   ]
  }
 ],
 "metadata": {
  "kernelspec": {
   "display_name": "Python 3",
   "language": "python",
   "name": "python3"
  },
  "language_info": {
   "codemirror_mode": {
    "name": "ipython",
    "version": 3
   },
   "file_extension": ".py",
   "mimetype": "text/x-python",
   "name": "python",
   "nbconvert_exporter": "python",
   "pygments_lexer": "ipython3",
   "version": "3.8.3"
  }
 },
 "nbformat": 4,
 "nbformat_minor": 4
}
