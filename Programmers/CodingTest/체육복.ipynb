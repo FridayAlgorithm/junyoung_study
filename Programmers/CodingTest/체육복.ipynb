{
 "cells": [
  {
   "cell_type": "markdown",
   "metadata": {},
   "source": [
    "## [체육복](https://programmers.co.kr/learn/courses/30/lessons/42862?language=python3)\n",
    "\n",
    "점심시간에 도둑이 들어, 일부 학생이 체육복을 도난당했습니다. 다행히 여벌 체육복이 있는 학생이 이들에게 체육복을 빌려주려 합니다. 학생들의 번호는 체격 순으로 매겨져 있어, 바로 앞번호의 학생이나 바로 뒷번호의 학생에게만 체육복을 빌려줄 수 있습니다. 예를 들어, 4번 학생은 3번 학생이나 5번 학생에게만 체육복을 빌려줄 수 있습니다. 체육복이 없으면 수업을 들을 수 없기 때문에 체육복을 적절히 빌려 최대한 많은 학생이 체육수업을 들어야 합니다.\n",
    "\n",
    "전체 학생의 수 n, 체육복을 도난당한 학생들의 번호가 담긴 배열 lost, 여벌의 체육복을 가져온 학생들의 번호가 담긴 배열 reserve가 매개변수로 주어질 때, 체육수업을 들을 수 있는 학생의 최댓값을 return 하도록 solution 함수를 작성해주세요.\n",
    "\n",
    "제한사항\n",
    "+ 전체 학생의 수는 2명 이상 30명 이하입니다.\n",
    "+ 체육복을 도난당한 학생의 수는 1명 이상 n명 이하이고 중복되는 번호는 없습니다.\n",
    "+ 여벌의 체육복을 가져온 학생의 수는 1명 이상 n명 이하이고 중복되는 번호는 없습니다.\n",
    "+ 여벌 체육복이 있는 학생만 다른 학생에게 체육복을 빌려줄 수 있습니다.\n",
    "+ 여벌 체육복을 가져온 학생이 체육복을 도난당했을 수 있습니다. 이때 이 학생은 체육복을 하나만 도난당했다고 가정하며, 남은 체육복이 하나이기에 다른 학생에게는 체육복을 빌려줄 수 없습니다."
   ]
  },
  {
   "cell_type": "code",
   "execution_count": 3,
   "metadata": {},
   "outputs": [
    {
     "name": "stdout",
     "output_type": "stream",
     "text": [
      "5\n",
      "4\n",
      "2\n"
     ]
    }
   ],
   "source": [
    "# 68점짜리 답.. 노답..\n",
    "\n",
    "def solution(n, lost, reserve):\n",
    "    answer = 0\n",
    "    \n",
    "    students = [1]*n\n",
    "    for l in lost:\n",
    "        students[l-1] = 0\n",
    "        \n",
    "    reserve.sort() \n",
    "    for r in reserve:\n",
    "        if r == 1:\n",
    "            if students[r] == 0:\n",
    "                students[r] = 1\n",
    "        elif r == n:\n",
    "            if students[r-2] == 0:\n",
    "                students[r-2] = 1\n",
    "        else:\n",
    "            if students[r-2] == 0:\n",
    "                students[r-2] = 1\n",
    "            elif students[r] == 0:\n",
    "                students[r] = 1\n",
    "    \n",
    "    answer = sum(students)\n",
    "    \n",
    "    return answer\n",
    "\n",
    "print(solution(5, [2, 4], [1, 3, 5]))\n",
    "print(solution(5, [2, 4], [3]))\n",
    "print(solution(3, [3], [1]))"
   ]
  },
  {
   "cell_type": "code",
   "execution_count": 4,
   "metadata": {},
   "outputs": [
    {
     "name": "stdout",
     "output_type": "stream",
     "text": [
      "5\n",
      "4\n",
      "2\n"
     ]
    }
   ],
   "source": [
    "def solution(n, lost, reserve):\n",
    "    answer = 0\n",
    "    \n",
    "    students = [1]*(n+2)\n",
    "    for l in lost:\n",
    "        students[l] = 0\n",
    "    \n",
    "    for r in reserve:\n",
    "        students[r] += 1\n",
    "    \n",
    "    for i in range(1, n+1):\n",
    "        if students[i-1] == 0 and students[i] == 2:\n",
    "            students[i-1], students[i] = 1, 1\n",
    "        elif students[i] == 2 and students[i+1] == 0:\n",
    "            students[i], students[i+1] = 1, 1\n",
    "    \n",
    "    answer = n - students.count(0)\n",
    "    \n",
    "    return answer\n",
    "\n",
    "print(solution(5, [2, 4], [1, 3, 5]))\n",
    "print(solution(5, [2, 4], [3]))\n",
    "print(solution(3, [3], [1]))"
   ]
  },
  {
   "cell_type": "code",
   "execution_count": null,
   "metadata": {},
   "outputs": [],
   "source": []
  }
 ],
 "metadata": {
  "kernelspec": {
   "display_name": "Python 3",
   "language": "python",
   "name": "python3"
  },
  "language_info": {
   "codemirror_mode": {
    "name": "ipython",
    "version": 3
   },
   "file_extension": ".py",
   "mimetype": "text/x-python",
   "name": "python",
   "nbconvert_exporter": "python",
   "pygments_lexer": "ipython3",
   "version": "3.8.3"
  }
 },
 "nbformat": 4,
 "nbformat_minor": 4
}
