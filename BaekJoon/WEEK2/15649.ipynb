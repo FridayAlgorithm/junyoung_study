{
 "cells": [
  {
   "cell_type": "markdown",
   "metadata": {},
   "source": [
    "### [백트래킹] [N과 M(1)](https://www.acmicpc.net/problem/15649)\n",
    "자연수 N과 M이 주어졌을 때, 아래 조건을 만족하는 길이가 M인 수열을 모두 구하는 프로그램을 작성하시오.\n",
    "+ 1부터 N까지 자연수 중에서 중복 없이 M개를 고른 수열"
   ]
  },
  {
   "cell_type": "code",
   "execution_count": 13,
   "metadata": {},
   "outputs": [
    {
     "name": "stdout",
     "output_type": "stream",
     "text": [
      "4 2\n",
      "1 2\n",
      "1 3\n",
      "1 4\n",
      "2 1\n",
      "2 3\n",
      "2 4\n",
      "3 1\n",
      "3 2\n",
      "3 4\n",
      "4 1\n",
      "4 2\n",
      "4 3\n"
     ]
    }
   ],
   "source": [
    "n, m = map(int, input().split())\n",
    "visited = [False]*n\n",
    "out = []\n",
    "\n",
    "def DFS(depth):\n",
    "    if depth == m:   # 탈출 조건\n",
    "        print(*out)\n",
    "        return\n",
    "    for i in range(n):          # 탐사 체크 하면서\n",
    "        if not visited[i]:      # 탐사를 안한 경우\n",
    "            visited[i] = True   # 탐사 시작(중복 제거)\n",
    "            out.append(i+1)      # 탐사 내용\n",
    "            \n",
    "            DFS(depth+1)\n",
    "            \n",
    "            visited[i] = False   # 깊이 탐사 완료\n",
    "            out.pop()             # 탐사 내용 제거\n",
    "\n",
    "DFS(0)"
   ]
  },
  {
   "cell_type": "code",
   "execution_count": 10,
   "metadata": {},
   "outputs": [
    {
     "name": "stdout",
     "output_type": "stream",
     "text": [
      "4 2\n",
      "1 2\n",
      "1 3\n",
      "1 4\n",
      "2 1\n",
      "2 3\n",
      "2 4\n",
      "3 1\n",
      "3 2\n",
      "3 4\n",
      "4 1\n",
      "4 2\n",
      "4 3\n"
     ]
    }
   ],
   "source": [
    "from itertools import permutations\n",
    "n, m = map(int, input().split())\n",
    "P = permutations(range(1, n+1), m)\n",
    "for i in P:\n",
    "    print(' '.join(map(str, i)))"
   ]
  },
  {
   "cell_type": "code",
   "execution_count": null,
   "metadata": {},
   "outputs": [],
   "source": []
  }
 ],
 "metadata": {
  "kernelspec": {
   "display_name": "Python 3",
   "language": "python",
   "name": "python3"
  },
  "language_info": {
   "codemirror_mode": {
    "name": "ipython",
    "version": 3
   },
   "file_extension": ".py",
   "mimetype": "text/x-python",
   "name": "python",
   "nbconvert_exporter": "python",
   "pygments_lexer": "ipython3",
   "version": "3.8.3"
  }
 },
 "nbformat": 4,
 "nbformat_minor": 4
}
