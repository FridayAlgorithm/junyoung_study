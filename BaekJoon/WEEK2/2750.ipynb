{
 "cells": [
  {
   "cell_type": "markdown",
   "metadata": {},
   "source": [
    "### [정렬] [수 정렬하기](https://www.acmicpc.net/problem/2750)\n",
    "N개의 수가 주어졌을 때, 이를 오름차순으로 정렬하는 프로그램을 작성하시오."
   ]
  },
  {
   "cell_type": "code",
   "execution_count": 4,
   "metadata": {},
   "outputs": [
    {
     "name": "stdout",
     "output_type": "stream",
     "text": [
      "5\n",
      "1\n",
      "2\n",
      "5\n",
      "4\n",
      "3\n",
      "1\n",
      "2\n",
      "3\n",
      "4\n",
      "5\n"
     ]
    }
   ],
   "source": [
    "n = int(input())\n",
    "list = []\n",
    "for i in range(0, n):\n",
    "    a = int(input())\n",
    "    list.append(a)\n",
    "\n",
    "#bubble sort : 시간복잠도 O(n^2), 공간복잡도 O(n)\n",
    "for i in range(len(list)):\n",
    "    for j in range(i, len(list)):\n",
    "        if list[i]>list[j]:\n",
    "            tmp = list[i]\n",
    "            list[i] = list[j]\n",
    "            list[j] = tmp\n",
    "            \n",
    "for i in range(len(list)):\n",
    "    print(list[i])"
   ]
  }
 ],
 "metadata": {
  "kernelspec": {
   "display_name": "Python 3",
   "language": "python",
   "name": "python3"
  },
  "language_info": {
   "codemirror_mode": {
    "name": "ipython",
    "version": 3
   },
   "file_extension": ".py",
   "mimetype": "text/x-python",
   "name": "python",
   "nbconvert_exporter": "python",
   "pygments_lexer": "ipython3",
   "version": "3.8.3"
  }
 },
 "nbformat": 4,
 "nbformat_minor": 4
}
