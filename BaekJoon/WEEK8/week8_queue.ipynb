{
 "cells": [
  {
   "cell_type": "markdown",
   "metadata": {},
   "source": [
    "### [10866] [덱](https://www.acmicpc.net/problem/10866)\n",
    "정수를 저장하는 덱(Deque)를 구현한 다음, 입력으로 주어지는 명령을 처리하는 프로그램을 작성하시오.\n",
    "\n",
    "명령은 총 여덟 가지이다.\n",
    "\n",
    "+ push_front X: 정수 X를 덱의 앞에 넣는다.\n",
    "+ push_back X: 정수 X를 덱의 뒤에 넣는다.\n",
    "+ pop_front: 덱의 가장 앞에 있는 수를 빼고, 그 수를 출력한다. 만약, 덱에 들어있는 정수가 없는 경우에는 -1을 출력한다.\n",
    "+ pop_back: 덱의 가장 뒤에 있는 수를 빼고, 그 수를 출력한다. 만약, 덱에 들어있는 정수가 없는 경우에는 -1을 출력한다.\n",
    "+ size: 덱에 들어있는 정수의 개수를 출력한다.\n",
    "+ empty: 덱이 비어있으면 1을, 아니면 0을 출력한다.\n",
    "+ front: 덱의 가장 앞에 있는 정수를 출력한다. 만약 덱에 들어있는 정수가 없는 경우에는 -1을 출력한다.\n",
    "+ back: 덱의 가장 뒤에 있는 정수를 출력한다. 만약 덱에 들어있는 정수가 없는 경우에는 -1을 출력한다."
   ]
  },
  {
   "cell_type": "code",
   "execution_count": 11,
   "metadata": {},
   "outputs": [
    {
     "name": "stdout",
     "output_type": "stream",
     "text": [
      "15\n",
      "push_back 1\n",
      "push_front 2\n",
      "front\n",
      "2\n",
      "back\n",
      "1\n",
      "size\n",
      "2\n",
      "empty\n",
      "0\n",
      "pop_front\n",
      "2\n",
      "pop_back\n",
      "1\n",
      "pop_front\n",
      "-1\n",
      "size\n",
      "0\n",
      "empty\n",
      "1\n",
      "pop_back\n",
      "-1\n",
      "push_front 3\n",
      "empty\n",
      "0\n",
      "front\n",
      "3\n"
     ]
    }
   ],
   "source": [
    "import sys\n",
    "n = int(input())\n",
    "deque = []\n",
    "\n",
    "def push_front(x):\n",
    "    deque.insert(0, x)\n",
    "\n",
    "def push_back(x):\n",
    "    deque.append(x)\n",
    "    \n",
    "def pop_front():\n",
    "    if len(deque) == 0:\n",
    "        print(-1)\n",
    "    else:\n",
    "        n = deque.pop(0)\n",
    "        print(n)\n",
    "        \n",
    "def pop_back():\n",
    "    if len(deque) == 0:\n",
    "        print(-1)\n",
    "    else:\n",
    "        n = deque.pop()\n",
    "        print(n)\n",
    "        \n",
    "def size():\n",
    "    print(len(deque))\n",
    "    \n",
    "def empty():\n",
    "    if len(deque) == 0:\n",
    "        print(1)\n",
    "    else:\n",
    "        print(0)\n",
    "        \n",
    "def front():\n",
    "    if len(deque) == 0:\n",
    "        print(-1)\n",
    "    else:\n",
    "        print(deque[0])\n",
    "        \n",
    "def back():\n",
    "    if len(deque) == 0:\n",
    "        print(-1)\n",
    "    else:\n",
    "        print(deque[-1])\n",
    "        \n",
    "for _ in range(n):\n",
    "    order = list(input().split())\n",
    "    if order[0] == 'push_front': push_front(order[1])\n",
    "    elif order[0] == 'push_back': push_back(order[1])\n",
    "    elif order[0] == 'pop_front': pop_front()\n",
    "    elif order[0] == 'pop_back': pop_back()\n",
    "    elif order[0] == 'size': size()\n",
    "    elif order[0] == 'empty': empty()\n",
    "    elif order[0] == 'front': front()\n",
    "    elif order[0] == 'back': back()"
   ]
  },
  {
   "cell_type": "markdown",
   "metadata": {},
   "source": [
    "### [1021] [회전하는 큐](https://www.acmicpc.net/problem/1021)\n",
    "지민이는 N개의 원소를 포함하고 있는 양방향 순환 큐를 가지고 있다. 지민이는 이 큐에서 몇 개의 원소를 뽑아내려고 한다.\n",
    "\n",
    "지민이는 이 큐에서 다음과 같은 3가지 연산을 수행할 수 있다.\n",
    "\n",
    "1. 첫 번째 원소를 뽑아낸다. 이 연산을 수행하면, 원래 큐의 원소가 a1, ..., ak이었던 것이 a2, ..., ak와 같이 된다.\n",
    "2. 왼쪽으로 한 칸 이동시킨다. 이 연산을 수행하면, a1, ..., ak가 a2, ..., ak, a1이 된다.\n",
    "3. 오른쪽으로 한 칸 이동시킨다. 이 연산을 수행하면, a1, ..., ak가 ak, a1, ..., ak-1이 된다.\n",
    "\n",
    "큐에 처음에 포함되어 있던 수 N이 주어진다. 그리고 지민이가 뽑아내려고 하는 원소의 위치가 주어진다. (이 위치는 가장 처음 큐에서의 위치이다.) 이때, 그 원소를 주어진 순서대로 뽑아내는데 드는 2번, 3번 연산의 최솟값을 출력하는 프로그램을 작성하시오."
   ]
  },
  {
   "cell_type": "code",
   "execution_count": 17,
   "metadata": {},
   "outputs": [
    {
     "name": "stdout",
     "output_type": "stream",
     "text": [
      "10 10\n",
      "1 6 3 2 7 9 8 4 10 5\n",
      "14\n"
     ]
    }
   ],
   "source": [
    "n, m = map(int, input().split())\n",
    "deque = []\n",
    "for i in range(n):\n",
    "    deque.append(i+1)\n",
    "\n",
    "pop_num = list(map(int, input().split()))\n",
    "\n",
    "cnt = 0\n",
    "for i in range(m):\n",
    "    if deque[0] == pop_num[i]:\n",
    "        deque.pop(0)\n",
    "    else:\n",
    "        if(deque.index(pop_num[i]) <= len(deque)//2):\n",
    "            while True:\n",
    "                if pop_num[i] == deque[0]:\n",
    "                    deque.pop(0)\n",
    "                    break\n",
    "                else:\n",
    "                    num = deque.pop(0)\n",
    "                    deque.append(num)\n",
    "                    cnt += 1\n",
    "        else:\n",
    "            while True:\n",
    "                if pop_num[i] == deque[0]:\n",
    "                    deque.pop(0)\n",
    "                    break\n",
    "                else:\n",
    "                    num = deque.pop()\n",
    "                    deque.insert(0, num)\n",
    "                    cnt += 1\n",
    "\n",
    "print(cnt)"
   ]
  }
 ],
 "metadata": {
  "kernelspec": {
   "display_name": "Python 3",
   "language": "python",
   "name": "python3"
  },
  "language_info": {
   "codemirror_mode": {
    "name": "ipython",
    "version": 3
   },
   "file_extension": ".py",
   "mimetype": "text/x-python",
   "name": "python",
   "nbconvert_exporter": "python",
   "pygments_lexer": "ipython3",
   "version": "3.8.3"
  }
 },
 "nbformat": 4,
 "nbformat_minor": 4
}
