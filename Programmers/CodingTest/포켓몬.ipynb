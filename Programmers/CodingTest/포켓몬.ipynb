{
 "cells": [
  {
   "cell_type": "code",
   "execution_count": 3,
   "metadata": {},
   "outputs": [
    {
     "name": "stdout",
     "output_type": "stream",
     "text": [
      "2\n",
      "3\n",
      "2\n"
     ]
    }
   ],
   "source": [
    "# 전체에서 절반을 가져가는데 최대한 많은 종류를 고르는 것이 목적\n",
    "# 수 > 종류 : 종류 (수가 많아도 종류가 한정)\n",
    "# 수 <= 종류 : 수 (종류가 많아도 수가 한정)\n",
    "\n",
    "def solution(nums):\n",
    "    answer = 0\n",
    "    get = len(nums)//2\n",
    "    kinds = len(list(set(nums)))\n",
    "    \n",
    "    if get > kinds:\n",
    "        answer = kinds\n",
    "    else:\n",
    "        answer = get\n",
    "    \n",
    "    return answer\n",
    "\n",
    "print(solution([3,1,2,3]))\n",
    "print(solution([3,3,3,2,2,4]))\n",
    "print(solution([3,3,3,2,2,2]))"
   ]
  },
  {
   "cell_type": "code",
   "execution_count": null,
   "metadata": {},
   "outputs": [],
   "source": []
  }
 ],
 "metadata": {
  "kernelspec": {
   "display_name": "Python 3",
   "language": "python",
   "name": "python3"
  },
  "language_info": {
   "codemirror_mode": {
    "name": "ipython",
    "version": 3
   },
   "file_extension": ".py",
   "mimetype": "text/x-python",
   "name": "python",
   "nbconvert_exporter": "python",
   "pygments_lexer": "ipython3",
   "version": "3.8.3"
  }
 },
 "nbformat": 4,
 "nbformat_minor": 4
}
