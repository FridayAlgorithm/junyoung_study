{
 "cells": [
  {
   "cell_type": "code",
   "execution_count": 1,
   "metadata": {},
   "outputs": [
    {
     "name": "stdout",
     "output_type": "stream",
     "text": [
      "[2, 1, 3, 4]\n",
      "[2, 1, 3, 4]\n",
      "[111, 20]\n",
      "[123]\n",
      "[3, 2, 4, 1]\n"
     ]
    }
   ],
   "source": [
    "def solution(s):\n",
    "    answer = []\n",
    "    \n",
    "    s = s[2:-2]\n",
    "    s = s.split('},{')\n",
    "    s = sorted(s, key = lambda x: len(x))\n",
    "    \n",
    "    for i in s:\n",
    "        i = i.split(',')\n",
    "        for j in i:\n",
    "            if int(j) not in answer:\n",
    "                answer.append(int(j))\n",
    "                \n",
    "    return answer\n",
    "\n",
    "print(solution(\"{{2},{2,1},{2,1,3},{2,1,3,4}}\"))\n",
    "print(solution(\"{{1,2,3},{2,1},{1,2,4,3},{2}}\"))\n",
    "print(solution(\"{{20,111},{111}}\"))\n",
    "print(solution(\"{{123}}\"))\n",
    "print(solution(\"{{4,2,3},{3},{2,3,4,1},{2,3}}\"))"
   ]
  },
  {
   "cell_type": "code",
   "execution_count": null,
   "metadata": {},
   "outputs": [],
   "source": []
  }
 ],
 "metadata": {
  "kernelspec": {
   "display_name": "Python 3",
   "language": "python",
   "name": "python3"
  },
  "language_info": {
   "codemirror_mode": {
    "name": "ipython",
    "version": 3
   },
   "file_extension": ".py",
   "mimetype": "text/x-python",
   "name": "python",
   "nbconvert_exporter": "python",
   "pygments_lexer": "ipython3",
   "version": "3.8.3"
  }
 },
 "nbformat": 4,
 "nbformat_minor": 4
}
