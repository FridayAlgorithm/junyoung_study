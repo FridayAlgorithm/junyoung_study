{
 "cells": [
  {
   "cell_type": "markdown",
   "metadata": {},
   "source": [
    "### [1912] [연속합](https://www.acmicpc.net/problem/1912)\n",
    "n개의 정수로 이루어진 임의의 수열이 주어진다. 우리는 이 중 연속된 몇 개의 수를 선택해서 구할 수 있는 합 중 가장 큰 합을 구하려고 한다. 단, 수는 한 개 이상 선택해야 한다.\n",
    "\n",
    "예를 들어서 10, -4, 3, 1, 5, 6, -35, 12, 21, -1 이라는 수열이 주어졌다고 하자. 여기서 정답은 12+21인 33이 정답이 된다."
   ]
  },
  {
   "cell_type": "markdown",
   "metadata": {},
   "source": [
    "**[내가 생각한 풀이]**\n",
    " + dp 문제?\n",
    "     + 이전 값들의 합 + 현재의 합 -> 연속\n",
    "     + 이전 값이 0보다 작으면 새로 시작"
   ]
  },
  {
   "cell_type": "code",
   "execution_count": 6,
   "metadata": {},
   "outputs": [
    {
     "name": "stdout",
     "output_type": "stream",
     "text": [
      "10\n",
      "10 -4 3 1 5 6 -35 12 21 -1\n",
      "33\n"
     ]
    }
   ],
   "source": [
    "n = int(input())\n",
    "nums = list(map(int, input().split()))\n",
    "\n",
    "dp = [0]*n\n",
    "dp[0] = nums[0]\n",
    "for i in range(1, n):\n",
    "    if dp[i-1] < 0:\n",
    "        dp[i] = nums[i]\n",
    "    else:\n",
    "        dp[i] = dp[i-1]+nums[i]\n",
    "    \n",
    "print(max(dp))"
   ]
  }
 ],
 "metadata": {
  "kernelspec": {
   "display_name": "Python 3",
   "language": "python",
   "name": "python3"
  },
  "language_info": {
   "codemirror_mode": {
    "name": "ipython",
    "version": 3
   },
   "file_extension": ".py",
   "mimetype": "text/x-python",
   "name": "python",
   "nbconvert_exporter": "python",
   "pygments_lexer": "ipython3",
   "version": "3.8.3"
  }
 },
 "nbformat": 4,
 "nbformat_minor": 4
}
