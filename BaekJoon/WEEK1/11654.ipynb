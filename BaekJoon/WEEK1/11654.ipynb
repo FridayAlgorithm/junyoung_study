{
 "cells": [
  {
   "cell_type": "markdown",
   "metadata": {},
   "source": [
    "### 아스키코드\n",
    "[11654] 알파벳 소문자, 대문자, 숫자 0-9중 하나가 주어졌을 때, 주어진 글자의 아스키 코드값을 출력하는 프로그램을 작성하시오.\n",
    "\n",
    "+ **입력**<br>\n",
    "    + 알파벳 소문자, 대문자, 숫자 0-9 중 하나가 첫째 줄에 주어진다.\n",
    "+ **출력**<br>\n",
    "    + 입력으로 주어진 글자의 아스키 코드 값을 출력한다."
   ]
  },
  {
   "cell_type": "code",
   "execution_count": 1,
   "metadata": {},
   "outputs": [
    {
     "name": "stdout",
     "output_type": "stream",
     "text": [
      "C\n",
      "67\n"
     ]
    }
   ],
   "source": [
    "a = input()\n",
    "print(ord(a))"
   ]
  }
 ],
 "metadata": {
  "kernelspec": {
   "display_name": "Python 3",
   "language": "python",
   "name": "python3"
  },
  "language_info": {
   "codemirror_mode": {
    "name": "ipython",
    "version": 3
   },
   "file_extension": ".py",
   "mimetype": "text/x-python",
   "name": "python",
   "nbconvert_exporter": "python",
   "pygments_lexer": "ipython3",
   "version": "3.8.3"
  }
 },
 "nbformat": 4,
 "nbformat_minor": 4
}
