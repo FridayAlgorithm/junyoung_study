{
 "cells": [
  {
   "cell_type": "markdown",
   "metadata": {},
   "source": [
    "### [2660] [회장뽑기](https://www.acmicpc.net/problem/2660)\n",
    "월드컵 축구의 응원을 위한 모임에서 회장을 선출하려고 한다. 이 모임은 만들어진지 얼마 되지 않았기 때문에 회원 사이에 서로 모르는 사람도 있지만, 몇 사람을 통하면 모두가 서로 알 수 있다. 각 회원은 다른 회원들과 가까운 정도에 따라 점수를 받게 된다.\n",
    "\n",
    "예를 들어 어느 회원이 다른 모든 회원과 친구이면, 이 회원의 점수는 1점이다. 어느 회원의 점수가 2점이면, 다른 모든 회원이 친구이거나 친구의 친구임을 말한다. 또한 어느 회원의 점수가 3점이면, 다른 모든 회원이 친구이거나, 친구의 친구이거나, 친구의 친구의 친구임을 말한다.\n",
    "\n",
    "4점, 5점 등은 같은 방법으로 정해진다. 각 회원의 점수를 정할 때 주의할 점은 어떤 두 회원이 친구사이이면서 동시에 친구의 친구사이이면, 이 두사람은 친구사이라고 본다.\n",
    "\n",
    "회장은 회원들 중에서 점수가 가장 작은 사람이 된다. 회장의 점수와 회장이 될 수 있는 모든 사람을 찾는 프로그램을 작성하시오."
   ]
  },
  {
   "cell_type": "markdown",
   "metadata": {},
   "source": [
    "## 플로이드와샬 알고리즘\n",
    "+ BFS : 한 정점에서 모든 정점으로의 최단 거리\n",
    "+ 플로이드와샬 : 그래프에서 모든 정점 사이의 최단거리\n",
    "\n",
    "시간 복잡도는 3중 for 문으로 인해 O(v^3)이지만 이 알고리즘을 사용해야 하는 상황이 존재함.\n",
    "\n",
    "1. 하나의 정점에서 다른 정점으로 바로 갈 수 있으면 최소 비용을, 갈 수 없다면 INF로 배열에 값을 저장함\n",
    "2. 3중 for문을 통해 거쳐가는 정점을 설정한 후 해당 정점을 거쳐가서 비용이 줄어드는 경우 값을 바꿔줌\n",
    "3. 위의 과정을 반복해 모든 정점 사이의 최단 경로를 탐색함\n",
    "\n",
    "https://it-garden.tistory.com/247"
   ]
  },
  {
   "cell_type": "code",
   "execution_count": 4,
   "metadata": {},
   "outputs": [
    {
     "name": "stdout",
     "output_type": "stream",
     "text": [
      "5\n",
      "1 2\n",
      "2 3\n",
      "3 4\n",
      "4 5\n",
      "2 4\n",
      "5 3\n",
      "-1 -1\n",
      "2 3\n",
      "2 3 4 "
     ]
    }
   ],
   "source": [
    "INF = 1000\n",
    "\n",
    "n = int(input())\n",
    "a = [[INF]*(n+1) for _ in range(n+1)]\n",
    "\n",
    "while True:\n",
    "    s1, s2 = map(int, input().split())\n",
    "    if s1 == -1 and s2 == -1:\n",
    "        break\n",
    "        \n",
    "    a[s1][s2] = 1\n",
    "    a[s2][s1] = 1\n",
    "    \n",
    "for i in range(1, n+1):\n",
    "    a[i][i] = 0\n",
    "    \n",
    "'''\n",
    "i에서 출발해 j로 가는 경로\n",
    "i를 출발해서 j로 바로 가는 것보다 k를 거쳐 j로 가는게\n",
    "효율적일 경우 해당 값을 갱신해준다.\n",
    "k의 값을 가장 바깥 for문에서 반복해주므로 하나의 경우지 k만\n",
    "거치는 것 뿐만 아니라 여러 경유지를 거치는 경로 또한 포함\n",
    "\n",
    "'''\n",
    "for k in range(1, n+1):\n",
    "    for i in range(1, n+1):\n",
    "        for j in range(1, n+1):\n",
    "            a[i][j] = min(a[i][j], a[i][k]+a[k][j])\n",
    "                \n",
    "r = []\n",
    "for i in range(1, n+1):\n",
    "    r.append(max(a[i][1:]))\n",
    "    \n",
    "m=min(r)\n",
    "print(m, r.count(m))\n",
    "for i, v in enumerate(r):\n",
    "    if v == m:\n",
    "        print(i+1, end=' ')"
   ]
  },
  {
   "cell_type": "code",
   "execution_count": null,
   "metadata": {},
   "outputs": [],
   "source": []
  }
 ],
 "metadata": {
  "kernelspec": {
   "display_name": "Python 3",
   "language": "python",
   "name": "python3"
  },
  "language_info": {
   "codemirror_mode": {
    "name": "ipython",
    "version": 3
   },
   "file_extension": ".py",
   "mimetype": "text/x-python",
   "name": "python",
   "nbconvert_exporter": "python",
   "pygments_lexer": "ipython3",
   "version": "3.8.3"
  }
 },
 "nbformat": 4,
 "nbformat_minor": 4
}
