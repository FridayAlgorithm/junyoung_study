{
 "cells": [
  {
   "cell_type": "markdown",
   "metadata": {},
   "source": [
    "## 땅따먹기\n",
    "https://programmers.co.kr/learn/courses/30/lessons/12913?language=python3"
   ]
  },
  {
   "cell_type": "code",
   "execution_count": 2,
   "metadata": {},
   "outputs": [
    {
     "name": "stdout",
     "output_type": "stream",
     "text": [
      "[[1, 2, 3, 5], [10, 11, 12, 11], [4, 3, 2, 1]]\n",
      "[[1, 2, 3, 5], [10, 11, 12, 11], [16, 15, 13, 13]]\n",
      "16\n"
     ]
    }
   ],
   "source": [
    "def solution(land):\n",
    "    answer = 0\n",
    "    \n",
    "    for i in range(len(land)-1):\n",
    "        land[i+1][0] += max(land[i][1], land[i][2], land[i][3])\n",
    "        land[i+1][1] += max(land[i][0], land[i][2], land[i][3])\n",
    "        land[i+1][2] += max(land[i][0], land[i][1], land[i][3])\n",
    "        land[i+1][3] += max(land[i][0], land[i][1], land[i][2])\n",
    "        print(land)\n",
    "    \n",
    "    answer = max(land[-1])\n",
    "    return answer\n",
    "\n",
    "print(solution([[1,2,3,5],[5,6,7,8],[4,3,2,1]]))"
   ]
  },
  {
   "cell_type": "code",
   "execution_count": null,
   "metadata": {},
   "outputs": [],
   "source": []
  }
 ],
 "metadata": {
  "kernelspec": {
   "display_name": "Python 3",
   "language": "python",
   "name": "python3"
  },
  "language_info": {
   "codemirror_mode": {
    "name": "ipython",
    "version": 3
   },
   "file_extension": ".py",
   "mimetype": "text/x-python",
   "name": "python",
   "nbconvert_exporter": "python",
   "pygments_lexer": "ipython3",
   "version": "3.8.3"
  }
 },
 "nbformat": 4,
 "nbformat_minor": 4
}
