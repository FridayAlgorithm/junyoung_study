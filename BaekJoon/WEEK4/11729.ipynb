{
 "cells": [
  {
   "cell_type": "markdown",
   "metadata": {},
   "source": [
    "### [재귀] [하노이 탑 이동 순서](https://www.acmicpc.net/problem/11729)\n",
    "\n",
    "세 개의 장대가 있고 첫 번째 장대에는 반경이 서로 다른 n개의 원판이 쌓여 있다. 각 원판은 반경이 큰 순서대로 쌓여있다. 이제 수도승들이 다음 규칙에 따라 첫 번째 장대에서 세 번째 장대로 옮기려 한다.\n",
    "\n",
    "+ 한 번에 한 개의 원판만을 다른 탑으로 옮길 수 있다.\n",
    "+ 쌓아 놓은 원판은 항상 위의 것이 아래의 것보다 작아야 한다.\n",
    "\n",
    "이 작업을 수행하는데 필요한 이동 순서를 출력하는 프로그램을 작성하라. 단, 이동 횟수는 최소가 되어야 한다."
   ]
  },
  {
   "cell_type": "code",
   "execution_count": 1,
   "metadata": {},
   "outputs": [
    {
     "name": "stdout",
     "output_type": "stream",
     "text": [
      "3\n",
      "7\n",
      "1 3\n",
      "1 2\n",
      "3 2\n",
      "1 3\n",
      "2 1\n",
      "2 3\n",
      "1 3\n"
     ]
    }
   ],
   "source": [
    "'''\n",
    "n이 짝수 일 때는 1번 원판을 2번 원판으로 먼저 이동\n",
    "n이 홀수 일 때는 1번 원판을 3번 원판으로 먼저 이동\n",
    "'''\n",
    "n = int(input())\n",
    "\n",
    "def hanoi(n, a, b, c):\n",
    "    if n==1:\n",
    "        print(a, c)\n",
    "    else:\n",
    "        hanoi(n-1, a, c, b)  # 2번 원판을 3번에 옮기기 위해서 1번 원판이 2번에 있어야 함\n",
    "        print(a, c)          # 2번 원판을 3으로 옮긴 후  \n",
    "        hanoi(n-1, b, a, c)  # 다시 1번을 3번으로 옮겨야 함\n",
    "sum = 1\n",
    "for i in range(n-1):\n",
    "    sum = sum*2+1\n",
    "print(sum)\n",
    "hanoi(n, 1, 2, 3)"
   ]
  },
  {
   "cell_type": "code",
   "execution_count": 4,
   "metadata": {},
   "outputs": [
    {
     "name": "stdout",
     "output_type": "stream",
     "text": [
      "4\n",
      "15\n",
      "1 2\n",
      "1 3\n",
      "2 3\n",
      "1 2\n",
      "3 1\n",
      "3 2\n",
      "1 2\n",
      "1 3\n",
      "2 3\n",
      "2 1\n",
      "3 1\n",
      "2 3\n",
      "1 2\n",
      "1 3\n",
      "2 3\n"
     ]
    }
   ],
   "source": [
    "def hanoi(n, a, b, c):\n",
    "    if n==1:\n",
    "        move.append([a, c])\n",
    "    else:\n",
    "        hanoi(n-1, a, c, b)\n",
    "        move.append([a, c])\n",
    "        hanoi(n-1, b, a, c)\n",
    "\n",
    "move = []\n",
    "hanoi(int(input()), 1, 2, 3)\n",
    "\n",
    "print(len(move))\n",
    "print(\"\\n\".join([' '.join(str(i) for i in row) for row in move]))"
   ]
  },
  {
   "cell_type": "code",
   "execution_count": null,
   "metadata": {},
   "outputs": [],
   "source": []
  }
 ],
 "metadata": {
  "kernelspec": {
   "display_name": "Python 3",
   "language": "python",
   "name": "python3"
  },
  "language_info": {
   "codemirror_mode": {
    "name": "ipython",
    "version": 3
   },
   "file_extension": ".py",
   "mimetype": "text/x-python",
   "name": "python",
   "nbconvert_exporter": "python",
   "pygments_lexer": "ipython3",
   "version": "3.8.3"
  }
 },
 "nbformat": 4,
 "nbformat_minor": 4
}
