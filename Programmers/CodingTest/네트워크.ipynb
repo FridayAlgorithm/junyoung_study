{
 "cells": [
  {
   "cell_type": "markdown",
   "metadata": {},
   "source": [
    "## 네트워크\n",
    "https://programmers.co.kr/learn/courses/30/lessons/43162?language=python3\n",
    "\n",
    "* A와 B 연결, B와 C 연결 → A와 C 간접적 연결\n",
    "* 구해야 할 것 : 네트워크 개수"
   ]
  },
  {
   "cell_type": "code",
   "execution_count": 3,
   "metadata": {},
   "outputs": [
    {
     "name": "stdout",
     "output_type": "stream",
     "text": [
      "2\n",
      "1\n"
     ]
    }
   ],
   "source": [
    "def solution(n, computers):\n",
    "    network = 0\n",
    "    visited = [False]*n\n",
    "    \n",
    "    # 네트워크 탐색 DFS 함수\n",
    "    def dfs(n, computers, start):\n",
    "        visited[start] = True\n",
    "        for i in range(n):\n",
    "            if computers[start][i] == 1 and not visited[i]:\n",
    "                visited[i] = True\n",
    "                dfs(n, computers, i)\n",
    "    \n",
    "    for i in range(n):\n",
    "        if not visited[i]:\n",
    "            dfs(n, computers, i)\n",
    "            network += 1\n",
    "    \n",
    "    return network\n",
    "\n",
    "print(solution(3, [[1, 1, 0], [1, 1, 0], [0, 0, 1]])) \n",
    "print(solution(3, [[1, 1, 0], [1, 1, 1], [0, 1, 1]]))"
   ]
  },
  {
   "cell_type": "code",
   "execution_count": null,
   "metadata": {},
   "outputs": [],
   "source": []
  }
 ],
 "metadata": {
  "kernelspec": {
   "display_name": "Python 3",
   "language": "python",
   "name": "python3"
  },
  "language_info": {
   "codemirror_mode": {
    "name": "ipython",
    "version": 3
   },
   "file_extension": ".py",
   "mimetype": "text/x-python",
   "name": "python",
   "nbconvert_exporter": "python",
   "pygments_lexer": "ipython3",
   "version": "3.8.3"
  }
 },
 "nbformat": 4,
 "nbformat_minor": 4
}
