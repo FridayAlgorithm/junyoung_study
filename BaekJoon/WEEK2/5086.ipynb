{
 "cells": [
  {
   "cell_type": "markdown",
   "metadata": {},
   "source": [
    "### [정수론 및 조합론] [배수와 약수](https://www.acmicpc.net/problem/5086)\n",
    "4 × 3 = 12이다.\n",
    "이 식을 통해 다음과 같은 사실을 알 수 있다.\n",
    "\n",
    "3은 12의 약수이고, 12는 3의 배수이다.\n",
    "4도 12의 약수이고, 12는 4의 배수이다.\n",
    "두 수가 주어졌을 때, 다음 3가지 중 어떤 관계인지 구하는 프로그램을 작성하시오.\n",
    "\n",
    "+ 첫 번째 숫자가 두 번째 숫자의 약수이다.\n",
    "+ 첫 번째 숫자가 두 번째 숫자의 배수이다.\n",
    "+ 첫 번째 숫자가 두 번째 숫자의 약수와 배수 모두 아니다."
   ]
  },
  {
   "cell_type": "code",
   "execution_count": 4,
   "metadata": {},
   "outputs": [
    {
     "name": "stdout",
     "output_type": "stream",
     "text": [
      "8 16\n",
      "32 4\n",
      "17 5\n",
      "0 0\n",
      "factor\n",
      "multiple\n",
      "neither\n"
     ]
    }
   ],
   "source": [
    "data = []\n",
    "x, y = map(int, input().split())\n",
    "data.append((x,y))\n",
    "while True:\n",
    "    x, y = map(int, input().split())\n",
    "    if x==0 and y==0:\n",
    "        break\n",
    "    data.append((x,y))\n",
    "    \n",
    "for i in range(len(data)):\n",
    "    first = data[i][0]\n",
    "    second = data[i][1]\n",
    "    if first<second and second%first==0:\n",
    "        print('factor')\n",
    "    elif first>second and first%second==0:\n",
    "        print('multiple')\n",
    "    else:\n",
    "        print('neither')"
   ]
  },
  {
   "cell_type": "code",
   "execution_count": null,
   "metadata": {},
   "outputs": [],
   "source": []
  }
 ],
 "metadata": {
  "kernelspec": {
   "display_name": "Python 3",
   "language": "python",
   "name": "python3"
  },
  "language_info": {
   "codemirror_mode": {
    "name": "ipython",
    "version": 3
   },
   "file_extension": ".py",
   "mimetype": "text/x-python",
   "name": "python",
   "nbconvert_exporter": "python",
   "pygments_lexer": "ipython3",
   "version": "3.8.3"
  }
 },
 "nbformat": 4,
 "nbformat_minor": 4
}
