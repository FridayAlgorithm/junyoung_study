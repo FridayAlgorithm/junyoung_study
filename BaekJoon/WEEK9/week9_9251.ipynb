{
 "cells": [
  {
   "cell_type": "markdown",
   "metadata": {},
   "source": [
    "### [9251] [LCS](https://www.acmicpc.net/problem/9251)\n",
    "LCS(Longest Common Subsequence, 최장 공통 부분 수열)문제는 두 수열이 주어졌을 때, 모두의 부분 수열이 되는 수열 중 가장 긴 것을 찾는 문제이다.\n",
    "\n",
    "예를 들어, ACAYKP와 CAPCAK의 LCS는 ACAK가 된다."
   ]
  },
  {
   "cell_type": "markdown",
   "metadata": {},
   "source": [
    "**[내가 생각한 풀이]**\n",
    " + 예전에 풀었던 증가하는 수열 찾는 dp 문제와 비슷?\n",
    " + 첫번째 수열에서 차례로 문자를 비교\n",
    "     + 두번째 수열에서 해당 문자가 있는 경우 → 포인터가 필요\n",
    "     + 두번째 수열의 포인터보다 앞에 해당 문자가 있는 경우 제외"
   ]
  },
  {
   "cell_type": "code",
   "execution_count": 4,
   "metadata": {},
   "outputs": [
    {
     "name": "stdout",
     "output_type": "stream",
     "text": [
      "FKDBCAE\n",
      "ABECA\n",
      "0\n",
      "6\n",
      "6\n",
      "7\n",
      "2\n"
     ]
    }
   ],
   "source": [
    "a = input()\n",
    "b = input()\n",
    "\n",
    "if len(a)>len(b):\n",
    "    tmp = b\n",
    "    b = a\n",
    "    a = tmp\n",
    "\n",
    "now = 0\n",
    "answer = ''\n",
    "for i in range(len(a)):\n",
    "    print(now)\n",
    "    if now == len(b):\n",
    "        break\n",
    "    else:\n",
    "        for j in range(now, len(b)):\n",
    "            if a[i] == b[j]:\n",
    "                now = j+1\n",
    "                answer += a[i]\n",
    "                break\n",
    "                \n",
    "print(len(answer))"
   ]
  },
  {
   "cell_type": "markdown",
   "metadata": {},
   "source": [
    "  0 C A P C A K <br>\n",
    "0 0 0 0 0 0 0 0 <br>\n",
    "A 0 0 1 1 1 1 1 <br>\n",
    "C 0 1 1 1 **2** 2 2   -> A, CAP --> AC, CAPC <br>\n",
    "A 0 1 2 **2** 2 3 3   -> ACA, CAP --> AC, CAP / ACA, CA : 하나씩 추가하기 전을 비교<br>\n",
    "Y 0 0 0 0 0 0 0 <br>\n",
    "K 0 0 0 0 0 0 0 <br>\n",
    "P 0 0 0 0 0 0 0 <br>"
   ]
  },
  {
   "cell_type": "code",
   "execution_count": 5,
   "metadata": {},
   "outputs": [
    {
     "name": "stdout",
     "output_type": "stream",
     "text": [
      "ACAYKP\n",
      "CAPCAK\n",
      "0 0 0 0 0 0 0\n",
      "0 0 1 1 1 1 1\n",
      "0 0 0 0 0 0 0\n",
      "0 0 0 0 0 0 0\n",
      "0 0 0 0 0 0 0\n",
      "0 0 0 0 0 0 0\n",
      "0 0 0 0 0 0 0\n",
      "0 0 0 0 0 0 0\n",
      "0 0 1 1 1 1 1\n",
      "0 1 1 1 2 2 2\n",
      "0 0 0 0 0 0 0\n",
      "0 0 0 0 0 0 0\n",
      "0 0 0 0 0 0 0\n",
      "0 0 0 0 0 0 0\n",
      "0 0 0 0 0 0 0\n",
      "0 0 1 1 1 1 1\n",
      "0 1 1 1 2 2 2\n",
      "0 1 2 2 2 3 3\n",
      "0 0 0 0 0 0 0\n",
      "0 0 0 0 0 0 0\n",
      "0 0 0 0 0 0 0\n",
      "0 0 0 0 0 0 0\n",
      "0 0 1 1 1 1 1\n",
      "0 1 1 1 2 2 2\n",
      "0 1 2 2 2 3 3\n",
      "0 1 2 2 2 3 3\n",
      "0 0 0 0 0 0 0\n",
      "0 0 0 0 0 0 0\n",
      "0 0 0 0 0 0 0\n",
      "0 0 1 1 1 1 1\n",
      "0 1 1 1 2 2 2\n",
      "0 1 2 2 2 3 3\n",
      "0 1 2 2 2 3 3\n",
      "0 1 2 2 2 3 4\n",
      "0 0 0 0 0 0 0\n",
      "0 0 0 0 0 0 0\n",
      "0 0 1 1 1 1 1\n",
      "0 1 1 1 2 2 2\n",
      "0 1 2 2 2 3 3\n",
      "0 1 2 2 2 3 3\n",
      "0 1 2 2 2 3 4\n",
      "0 1 2 3 3 3 4\n",
      "4\n"
     ]
    }
   ],
   "source": [
    "#https://velog.io/@piopiop/%EB%B0%B1%EC%A4%80-9251-LCS-%ED%8C%8C%EC%9D%B4%EC%8D%AC\n",
    "a = input()\n",
    "b = input()\n",
    "\n",
    "dp = [[0]*(len(b)+1) for _ in range(len(a)+1)]\n",
    "for i in range(len(a)):\n",
    "    for j in range(len(b)):\n",
    "        # 각 문자열에 a[i], b[i]가 추가되기 전의 LCS 길이에 1만큼 더해줌\n",
    "        if a[i] == b[j]:\n",
    "            dp[i+1][j+1] = dp[i][j]+1\n",
    "        # 각각 한글자씩 추가되었을 때, 그 중 큰 값을 가져와야 함\n",
    "        else:\n",
    "            dp[i+1][j+1] = max(dp[i][j+1], dp[i+1][j])\n",
    "    for i in range(len(dp)):\n",
    "        print(*dp[i])\n",
    "print(dp[len(a)][len(b)])"
   ]
  },
  {
   "cell_type": "code",
   "execution_count": null,
   "metadata": {},
   "outputs": [],
   "source": []
  },
  {
   "cell_type": "code",
   "execution_count": null,
   "metadata": {},
   "outputs": [],
   "source": []
  }
 ],
 "metadata": {
  "kernelspec": {
   "display_name": "Python 3",
   "language": "python",
   "name": "python3"
  },
  "language_info": {
   "codemirror_mode": {
    "name": "ipython",
    "version": 3
   },
   "file_extension": ".py",
   "mimetype": "text/x-python",
   "name": "python",
   "nbconvert_exporter": "python",
   "pygments_lexer": "ipython3",
   "version": "3.8.3"
  }
 },
 "nbformat": 4,
 "nbformat_minor": 4
}
