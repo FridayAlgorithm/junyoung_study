{
 "cells": [
  {
   "cell_type": "markdown",
   "metadata": {},
   "source": [
    "### [10844] [쉬운 계단 수](https://www.acmicpc.net/problem/10844)\n",
    "45656이란 수를 보자.\n",
    "\n",
    "이 수는 인접한 모든 자리수의 차이가 1이 난다. 이런 수를 계단 수라고 한다.\n",
    "\n",
    "세준이는 수의 길이가 N인 계단 수가 몇 개 있는지 궁금해졌다.\n",
    "\n",
    "N이 주어질 때, 길이가 N인 계단 수가 총 몇 개 있는지 구하는 프로그램을 작성하시오. (0으로 시작하는 수는 없다.)"
   ]
  },
  {
   "cell_type": "code",
   "execution_count": 27,
   "metadata": {},
   "outputs": [
    {
     "name": "stdout",
     "output_type": "stream",
     "text": [
      "5\n",
      "[1, 1, 1, 1, 1, 1, 1, 1, 1, 1]\n",
      "[1, 2, 2, 2, 2, 2, 2, 2, 2, 1]\n",
      "[2, 3, 4, 4, 4, 4, 4, 4, 3, 2]\n",
      "[3, 6, 7, 8, 8, 8, 8, 7, 6, 3]\n",
      "116\n"
     ]
    }
   ],
   "source": [
    "n = int(input())\n",
    "before = [1 for _ in range(10)]\n",
    "now = [1 for _ in range(10)]\n",
    "\n",
    "if n == 1:\n",
    "    print(sum(now)-now[0])\n",
    "else:\n",
    "    for _ in range(n-1):\n",
    "        print(before)\n",
    "        for i in range(10):\n",
    "            if i == 0:\n",
    "                now[i] = before[i+1]\n",
    "            elif i == 9:\n",
    "                now[i] = before[i-1]\n",
    "            else:\n",
    "                now[i] = before[i-1]+before[i+1]\n",
    "        \n",
    "        for n in range(len(now)):\n",
    "            before[n] = now[n]\n",
    "\n",
    "    print((sum(now)-now[0])%1000000000)\n"
   ]
  },
  {
   "cell_type": "markdown",
   "metadata": {},
   "source": [
    "### [2156] [포도주 시식](https://www.acmicpc.net/problem/2156)\n",
    "효주는 포도주 시식회에 갔다. 그 곳에 갔더니, 테이블 위에 다양한 포도주가 들어있는 포도주 잔이 일렬로 놓여 있었다. 효주는 포도주 시식을 하려고 하는데, 여기에는 다음과 같은 두 가지 규칙이 있다.\n",
    "\n",
    "1. 포도주 잔을 선택하면 그 잔에 들어있는 포도주는 모두 마셔야 하고, 마신 후에는 원래 위치에 다시 놓아야 한다.\n",
    "2. 연속으로 놓여 있는 3잔을 모두 마실 수는 없다.\n",
    "\n",
    "효주는 될 수 있는 대로 많은 양의 포도주를 맛보기 위해서 어떤 포도주 잔을 선택해야 할지 고민하고 있다. 1부터 n까지의 번호가 붙어 있는 n개의 포도주 잔이 순서대로 테이블 위에 놓여 있고, 각 포도주 잔에 들어있는 포도주의 양이 주어졌을 때, 효주를 도와 가장 많은 양의 포도주를 마실 수 있도록 하는 프로그램을 작성하시오. \n",
    "\n",
    "예를 들어 6개의 포도주 잔이 있고, 각각의 잔에 순서대로 6, 10, 13, 9, 8, 1 만큼의 포도주가 들어 있을 때, 첫 번째, 두 번째, 네 번째, 다섯 번째 포도주 잔을 선택하면 총 포도주 양이 33으로 최대로 마실 수 있다."
   ]
  },
  {
   "cell_type": "code",
   "execution_count": 33,
   "metadata": {},
   "outputs": [
    {
     "name": "stdout",
     "output_type": "stream",
     "text": [
      "1\n",
      "5\n",
      "5\n"
     ]
    }
   ],
   "source": [
    "n = int(input())\n",
    "wine = [0]\n",
    "for _ in range(n):\n",
    "    wine.append(int(input()))\n",
    "dp = [0]\n",
    "\n",
    "dp.append(wine[1])\n",
    "if n>1:\n",
    "    dp.append(wine[1]+wine[2])\n",
    "    for i in range(3, n+1):\n",
    "        dp.append(max(dp[i-1], dp[i-2]+wine[i], dp[i-3]+wine[i-1]+wine[i]))\n",
    "    \n",
    "print(dp[n])"
   ]
  },
  {
   "cell_type": "code",
   "execution_count": null,
   "metadata": {},
   "outputs": [],
   "source": []
  }
 ],
 "metadata": {
  "kernelspec": {
   "display_name": "Python 3",
   "language": "python",
   "name": "python3"
  },
  "language_info": {
   "codemirror_mode": {
    "name": "ipython",
    "version": 3
   },
   "file_extension": ".py",
   "mimetype": "text/x-python",
   "name": "python",
   "nbconvert_exporter": "python",
   "pygments_lexer": "ipython3",
   "version": "3.8.3"
  }
 },
 "nbformat": 4,
 "nbformat_minor": 4
}
