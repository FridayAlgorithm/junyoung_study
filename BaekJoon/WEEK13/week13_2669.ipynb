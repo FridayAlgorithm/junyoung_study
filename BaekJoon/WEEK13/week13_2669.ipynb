{
 "cells": [
  {
   "cell_type": "markdown",
   "metadata": {},
   "source": [
    "### [2669] [직사각형 네개의 합집합의 면적구하기](https://www.acmicpc.net/problem/2669)\n",
    "평면에 네 개의 직사각형이 놓여 있는데 그 밑변은 모두 가로축에 평행하다. 이 네 개의 직사각형들은 서로 떨어져 있을 수도 있고, 겹쳐 있을 수도 있고, 하나가 다른 하나를 포함할 수도 있으며, 변이나 꼭짓점이 겹칠 수도 있다.\n",
    "\n",
    "이 직사각형들이 차지하는 면적을 구하는 프로그램을 작성하시오."
   ]
  },
  {
   "cell_type": "code",
   "execution_count": 1,
   "metadata": {},
   "outputs": [
    {
     "name": "stdout",
     "output_type": "stream",
     "text": [
      "1 2 4 4\n",
      "2 3 5 7\n",
      "3 1 6 5\n",
      "7 3 8 6\n",
      "26\n"
     ]
    }
   ],
   "source": [
    "square = [[0]*101 for _ in range(101)]\n",
    "\n",
    "for _ in range(4):\n",
    "    lx, ly, rx, ry = map(int, input().split())\n",
    "    \n",
    "    for i in range(ly, ry):\n",
    "        for j in range(lx, rx):\n",
    "            square[i][j] = 1\n",
    "\n",
    "area = 0\n",
    "for row in square:\n",
    "    area += sum(row)\n",
    "print(area)"
   ]
  },
  {
   "cell_type": "code",
   "execution_count": null,
   "metadata": {},
   "outputs": [],
   "source": []
  }
 ],
 "metadata": {
  "kernelspec": {
   "display_name": "Python 3",
   "language": "python",
   "name": "python3"
  },
  "language_info": {
   "codemirror_mode": {
    "name": "ipython",
    "version": 3
   },
   "file_extension": ".py",
   "mimetype": "text/x-python",
   "name": "python",
   "nbconvert_exporter": "python",
   "pygments_lexer": "ipython3",
   "version": "3.8.3"
  }
 },
 "nbformat": 4,
 "nbformat_minor": 4
}
