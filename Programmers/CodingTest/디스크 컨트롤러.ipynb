{
 "cells": [
  {
   "cell_type": "markdown",
   "metadata": {},
   "source": [
    "## 디스크 컨트롤러\n",
    "https://programmers.co.kr/learn/courses/30/lessons/42627?language=python3\n",
    "\n",
    "* 구해야 할 것 : 요청부터 종료까지 걸린 시간의 평균\n",
    "* 회의실 배정 문제와 비슷한 느낌?\n"
   ]
  },
  {
   "cell_type": "code",
   "execution_count": 3,
   "metadata": {},
   "outputs": [
    {
     "name": "stdout",
     "output_type": "stream",
     "text": [
      "finish : 3\n",
      "answer : 3\n",
      "finish : 9\n",
      "answer : 10\n",
      "finish : 18\n",
      "answer : 27\n",
      "9\n"
     ]
    }
   ],
   "source": [
    "import heapq\n",
    "import math\n",
    "def solution(jobs):\n",
    "    answer = 0\n",
    "    heap = []\n",
    "    finish = 0\n",
    "    for i in range(len(jobs)):\n",
    "        heapq.heappush(heap, (jobs[i][0]+jobs[i][1], jobs[i][0], jobs[i][1]) )\n",
    "        \n",
    "    for i in range(len(heap)):\n",
    "        job = heapq.heappop(heap)\n",
    "        if finish == 0:\n",
    "            finish = job[1]+job[2]\n",
    "            answer = job[2]\n",
    "        else:\n",
    "            if finish > job[1]:\n",
    "                answer += finish - job[1] + job[2]\n",
    "                finish += job[2]\n",
    "            elif finish == job[1]:\n",
    "                finish = job[1]+job[2]\n",
    "                answer += job[2]\n",
    "            else:\n",
    "                answer += job[2]-(job[1]-finish)\n",
    "                finish += job[2]-(job[1]-finish)\n",
    "        print(\"finish : %d\" %finish)\n",
    "        print(\"answer : %d\" %answer)\n",
    "    return answer//len(jobs)\n",
    "\n",
    "print(solution([[0, 3], [1, 9], [2, 6]]))"
   ]
  },
  {
   "cell_type": "code",
   "execution_count": 14,
   "metadata": {},
   "outputs": [
    {
     "name": "stdout",
     "output_type": "stream",
     "text": [
      "[[21, 1], [20, 2], [0, 3], [2, 6], [1, 9]]\n",
      "[[21, 1], [20, 2], [0, 3], [2, 6], [1, 9]]\n",
      "[[21, 1], [20, 2], [0, 3], [2, 6], [1, 9]]\n",
      "3\n",
      "[[21, 1], [20, 2], [2, 6], [1, 9]]\n",
      "[[21, 1], [20, 2], [2, 6], [1, 9]]\n",
      "[[21, 1], [20, 2], [2, 6], [1, 9]]\n",
      "9\n",
      "[[21, 1], [20, 2], [1, 9]]\n",
      "[[21, 1], [20, 2], [1, 9]]\n",
      "[[21, 1], [20, 2], [1, 9]]\n",
      "18\n",
      "[[21, 1], [20, 2]]\n",
      "[[21, 1], [20, 2]]\n",
      "19\n",
      "[[21, 1], [20, 2]]\n",
      "[[21, 1], [20, 2]]\n",
      "20\n",
      "[[21, 1], [20, 2]]\n",
      "[[21, 1], [20, 2]]\n",
      "22\n",
      "[[21, 1]]\n",
      "23\n",
      "6\n"
     ]
    }
   ],
   "source": [
    "def solution(jobs):\n",
    "    answer = 0\n",
    "    now = 0\n",
    "    count = len(jobs)\n",
    "    \n",
    "    # 요청시점, 소요시간\n",
    "    jobs = sorted(jobs, key=lambda x: x[1])\n",
    "    \n",
    "    while len(jobs) != 0:\n",
    "        for i in range(len(jobs)):\n",
    "            print(jobs)\n",
    "            if jobs[i][0] <= now:\n",
    "                now += jobs[i][1]\n",
    "                answer += now - jobs[i][0]\n",
    "                jobs.pop(i)\n",
    "                break\n",
    "            if i == len(jobs)-1:\n",
    "                now += 1\n",
    "        print(now)\n",
    "                \n",
    "    return answer // count \n",
    "\n",
    "print(solution([[0, 3], [1, 9], [2, 6], [20, 2], [21, 1]]))"
   ]
  },
  {
   "cell_type": "code",
   "execution_count": null,
   "metadata": {},
   "outputs": [],
   "source": []
  }
 ],
 "metadata": {
  "kernelspec": {
   "display_name": "Python 3",
   "language": "python",
   "name": "python3"
  },
  "language_info": {
   "codemirror_mode": {
    "name": "ipython",
    "version": 3
   },
   "file_extension": ".py",
   "mimetype": "text/x-python",
   "name": "python",
   "nbconvert_exporter": "python",
   "pygments_lexer": "ipython3",
   "version": "3.8.3"
  }
 },
 "nbformat": 4,
 "nbformat_minor": 4
}
