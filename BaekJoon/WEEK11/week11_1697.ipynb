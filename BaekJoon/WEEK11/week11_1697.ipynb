{
 "cells": [
  {
   "cell_type": "markdown",
   "metadata": {},
   "source": [
    "### [1697] [숨바꼭질](https://www.acmicpc.net/problem/1697)\n",
    "수빈이는 동생과 숨바꼭질을 하고 있다. 수빈이는 현재 점 N(0 ≤ N ≤ 100,000)에 있고, 동생은 점 K(0 ≤ K ≤ 100,000)에 있다. 수빈이는 걷거나 순간이동을 할 수 있다. 만약, 수빈이의 위치가 X일 때 걷는다면 1초 후에 X-1 또는 X+1로 이동하게 된다. 순간이동을 하는 경우에는 1초 후에 2*X의 위치로 이동하게 된다.\n",
    "\n",
    "수빈이와 동생의 위치가 주어졌을 때, 수빈이가 동생을 찾을 수 있는 가장 빠른 시간이 몇 초 후인지 구하는 프로그램을 작성하시오."
   ]
  },
  {
   "cell_type": "code",
   "execution_count": 1,
   "metadata": {},
   "outputs": [
    {
     "name": "stdout",
     "output_type": "stream",
     "text": [
      "5 17\n",
      "4\n"
     ]
    }
   ],
   "source": [
    "from collections import deque \n",
    "n, k = map(int, input().split())\n",
    "point = [0]*100001\n",
    "\n",
    "queue = deque()\n",
    "queue.append((n, 0))\n",
    "\n",
    "answer = 0\n",
    "while queue:\n",
    "    p, t = queue.popleft()\n",
    "    if p == k:\n",
    "        answer = t\n",
    "        break\n",
    "    point[p] = 1\n",
    "    if p-1 >= 0 and point[p-1] == 0:\n",
    "        queue.append((p-1, t+1))\n",
    "    if p+1 <= 100000 and point[p+1] == 0:\n",
    "        queue.append((p+1, t+1))\n",
    "    if p*2 <= 100000 and point[p*2] == 0:\n",
    "        queue.append((p*2, t+1))\n",
    "        \n",
    "print(answer)"
   ]
  },
  {
   "cell_type": "code",
   "execution_count": null,
   "metadata": {},
   "outputs": [],
   "source": []
  }
 ],
 "metadata": {
  "kernelspec": {
   "display_name": "Python 3",
   "language": "python",
   "name": "python3"
  },
  "language_info": {
   "codemirror_mode": {
    "name": "ipython",
    "version": 3
   },
   "file_extension": ".py",
   "mimetype": "text/x-python",
   "name": "python",
   "nbconvert_exporter": "python",
   "pygments_lexer": "ipython3",
   "version": "3.8.3"
  }
 },
 "nbformat": 4,
 "nbformat_minor": 4
}
