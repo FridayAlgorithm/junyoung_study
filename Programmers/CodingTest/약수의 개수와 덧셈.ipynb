{
 "cells": [
  {
   "cell_type": "code",
   "execution_count": 4,
   "metadata": {},
   "outputs": [
    {
     "name": "stdout",
     "output_type": "stream",
     "text": [
      "-1\n",
      "43\n",
      "52\n"
     ]
    }
   ],
   "source": [
    "def solution(left, right):\n",
    "    answer = 0\n",
    "    \n",
    "    for i in range(left, right+1):\n",
    "        cnt = 0\n",
    "        for j in range(1, i):\n",
    "            if i%j == 0:\n",
    "                cnt += 1\n",
    "                \n",
    "        if cnt%2 == 1:\n",
    "            answer += i\n",
    "        else:\n",
    "            answer -= i\n",
    "                \n",
    "    return answer\n",
    "\n",
    "print(solution(1, 1))\n",
    "print(solution(13, 17))\n",
    "print(solution(24, 27))"
   ]
  },
  {
   "cell_type": "code",
   "execution_count": null,
   "metadata": {},
   "outputs": [],
   "source": []
  }
 ],
 "metadata": {
  "kernelspec": {
   "display_name": "Python 3",
   "language": "python",
   "name": "python3"
  },
  "language_info": {
   "codemirror_mode": {
    "name": "ipython",
    "version": 3
   },
   "file_extension": ".py",
   "mimetype": "text/x-python",
   "name": "python",
   "nbconvert_exporter": "python",
   "pygments_lexer": "ipython3",
   "version": "3.8.3"
  }
 },
 "nbformat": 4,
 "nbformat_minor": 4
}
