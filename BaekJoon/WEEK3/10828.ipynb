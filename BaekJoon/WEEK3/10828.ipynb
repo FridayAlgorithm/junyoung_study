{
 "cells": [
  {
   "cell_type": "markdown",
   "metadata": {},
   "source": [
    "### [스택] [스택](https://www.acmicpc.net/problem/10828)\n",
    "정수를 저장하는 스택을 구현한 다음, 입력으로 주어지는 명령을 처리하는 프로그램을 작성하시오.<br>\n",
    "명령은 총 다섯 가지이다.\n",
    "+ push X: 정수 X를 스택에 넣는 연산이다.\n",
    "+ pop: 스택에서 가장 위에 있는 정수를 빼고, 그 수를 출력한다. 만약 스택에 들어있는 정수가 없는 경우에는 -1을 출력한다.\n",
    "+ size: 스택에 들어있는 정수의 개수를 출력한다.\n",
    "+ empty: 스택이 비어있으면 1, 아니면 0을 출력한다.\n",
    "+ top: 스택의 가장 위에 있는 정수를 출력한다. 만약 스택에 들어있는 정수가 없는 경우에는 -1을 출력한다."
   ]
  },
  {
   "cell_type": "code",
   "execution_count": null,
   "metadata": {},
   "outputs": [],
   "source": [
    "import sys\n",
    "\n",
    "# push X : stack에 넣는 연산\n",
    "def push(n):\n",
    "    stack.append(n)\n",
    "\n",
    "# pop : stack의 top을 뽑는 연산\n",
    "def pop():\n",
    "    if len(stack) == 0:\n",
    "        print(-1)\n",
    "    else:\n",
    "        out = stack.pop()\n",
    "        print(out)\n",
    "\n",
    "# size : 스택의 크기를 출력하는 연산\n",
    "def size():\n",
    "    print(len(stack))\n",
    "\n",
    "# empty : 스택이 비어있는지 확인하는 연산\n",
    "def empty():\n",
    "    if len(stack) == 0:\n",
    "        print(1)\n",
    "    else:\n",
    "        print(0)\n",
    "\n",
    "# top : 스택 가장 위에 있는 정수 출력하는 연산\n",
    "def top():\n",
    "    if len(stack) == 0:\n",
    "        print(-1)\n",
    "    else:\n",
    "        print(stack[-1])\n",
    "        \n",
    "\n",
    "n = int(sys.stdin.readline()) # 주어지는 명령의 수\n",
    "stack = []\n",
    "\n",
    "while(n > 0):\n",
    "    n -= 1\n",
    "    order = sys.stdin.readline().split()\n",
    "    if order[0] == 'push':\n",
    "        push(order[1])\n",
    "    elif order[0] == 'pop':\n",
    "        pop()\n",
    "    elif order[0] == 'size':\n",
    "        size()\n",
    "    elif order[0] == 'empty':\n",
    "        empty()\n",
    "    elif order[0] == 'top':\n",
    "        top()"
   ]
  }
 ],
 "metadata": {
  "kernelspec": {
   "display_name": "Python 3",
   "language": "python",
   "name": "python3"
  },
  "language_info": {
   "codemirror_mode": {
    "name": "ipython",
    "version": 3
   },
   "file_extension": ".py",
   "mimetype": "text/x-python",
   "name": "python",
   "nbconvert_exporter": "python",
   "pygments_lexer": "ipython3",
   "version": "3.8.3"
  }
 },
 "nbformat": 4,
 "nbformat_minor": 4
}
