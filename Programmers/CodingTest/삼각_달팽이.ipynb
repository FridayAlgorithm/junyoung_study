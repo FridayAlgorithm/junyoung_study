{
 "cells": [
  {
   "cell_type": "markdown",
   "metadata": {},
   "source": [
    "## [삼각달팽이](https://programmers.co.kr/learn/courses/30/lessons/68645?language=python3)\n",
    "\n",
    "정수 n이 매개변수로 주어집니다. 다음 그림과 같이 밑변의 길이와 높이가 n인 삼각형에서 맨 위 꼭짓점부터 반시계 방향으로 달팽이 채우기를 진행한 후, 첫 행부터 마지막 행까지 모두 순서대로 합친 새로운 배열을 return 하도록 solution 함수를 완성해주세요."
   ]
  },
  {
   "cell_type": "code",
   "execution_count": 3,
   "metadata": {},
   "outputs": [
    {
     "name": "stdout",
     "output_type": "stream",
     "text": [
      "[1, 2, 9, 3, 10, 8, 4, 5, 6, 7]\n",
      "[1, 2, 12, 3, 13, 11, 4, 14, 15, 10, 5, 6, 7, 8, 9]\n"
     ]
    }
   ],
   "source": [
    "def solution(n):\n",
    "    answer = []\n",
    "    ret = [[0]*n for _ in range(n)]\n",
    "    y, x = -1, 0\n",
    "    num = 1\n",
    "    \n",
    "    for i in range(n):\n",
    "        for j in range(i, n):\n",
    "            if i%3 == 0:\n",
    "                y += 1  #down\n",
    "            elif i%3 == 1:\n",
    "                x += 1  #right\n",
    "            elif i%3 == 2:\n",
    "                y -= 1\n",
    "                x -= 1  #up\n",
    "                \n",
    "            ret[y][x] = num\n",
    "            num += 1\n",
    "            \n",
    "    for i in ret:\n",
    "        for j in i:\n",
    "            if j != 0:\n",
    "                answer.append(j)\n",
    "                \n",
    "    return answer\n",
    "\n",
    "print(solution(4))\n",
    "print(solution(5))"
   ]
  },
  {
   "cell_type": "code",
   "execution_count": null,
   "metadata": {},
   "outputs": [],
   "source": []
  }
 ],
 "metadata": {
  "kernelspec": {
   "display_name": "Python 3",
   "language": "python",
   "name": "python3"
  },
  "language_info": {
   "codemirror_mode": {
    "name": "ipython",
    "version": 3
   },
   "file_extension": ".py",
   "mimetype": "text/x-python",
   "name": "python",
   "nbconvert_exporter": "python",
   "pygments_lexer": "ipython3",
   "version": "3.8.3"
  }
 },
 "nbformat": 4,
 "nbformat_minor": 4
}
