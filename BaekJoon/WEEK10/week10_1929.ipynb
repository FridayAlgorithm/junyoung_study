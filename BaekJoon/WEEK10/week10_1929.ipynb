{
 "cells": [
  {
   "cell_type": "markdown",
   "metadata": {},
   "source": [
    "### [1929] [소수 구하기](https://www.acmicpc.net/problem/1929)\n",
    "M이상 N이하의 소수를 모두 출력하는 프로그램을 작성하시오."
   ]
  },
  {
   "cell_type": "code",
   "execution_count": 9,
   "metadata": {},
   "outputs": [
    {
     "name": "stdout",
     "output_type": "stream",
     "text": [
      "1 3\n",
      "2\n",
      "3\n"
     ]
    }
   ],
   "source": [
    "import math\n",
    "m, n = map(int, input().split())\n",
    "\n",
    "def check_dec(n):\n",
    "    if n == 1:\n",
    "        return False # 1도 체크해야 함!\n",
    "    for i in range(2, int(math.sqrt(n))+1):\n",
    "        if n%i == 0:\n",
    "            return False\n",
    "    return True\n",
    "\n",
    "for num in range(m, n+1):\n",
    "    if check_dec(num):\n",
    "        print(num)"
   ]
  }
 ],
 "metadata": {
  "kernelspec": {
   "display_name": "Python 3",
   "language": "python",
   "name": "python3"
  },
  "language_info": {
   "codemirror_mode": {
    "name": "ipython",
    "version": 3
   },
   "file_extension": ".py",
   "mimetype": "text/x-python",
   "name": "python",
   "nbconvert_exporter": "python",
   "pygments_lexer": "ipython3",
   "version": "3.8.3"
  }
 },
 "nbformat": 4,
 "nbformat_minor": 4
}
