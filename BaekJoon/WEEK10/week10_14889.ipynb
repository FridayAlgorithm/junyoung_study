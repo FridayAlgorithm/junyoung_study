{
 "cells": [
  {
   "cell_type": "markdown",
   "metadata": {},
   "source": [
    "### [14889] [스타트와 링크](https://www.acmicpc.net/problem/14889)\n",
    "오늘은 스타트링크에 다니는 사람들이 모여서 축구를 해보려고 한다. 축구는 평일 오후에 하고 의무 참석도 아니다. 축구를 하기 위해 모인 사람은 총 N명이고 신기하게도 N은 짝수이다. 이제 N/2명으로 이루어진 스타트 팀과 링크 팀으로 사람들을 나눠야 한다.\n",
    "\n",
    "BOJ를 운영하는 회사 답게 사람에게 번호를 1부터 N까지로 배정했고, 아래와 같은 능력치를 조사했다. 능력치 Sij는 i번 사람과 j번 사람이 같은 팀에 속했을 때, 팀에 더해지는 능력치이다. 팀의 능력치는 팀에 속한 모든 쌍의 능력치 Sij의 합이다. Sij는 Sji와 다를 수도 있으며, i번 사람과 j번 사람이 같은 팀에 속했을 때, 팀에 더해지는 능력치는 Sij와 Sji이다.\n",
    "\n",
    "N=4이고, S가 아래와 같은 경우를 살펴보자.\n",
    "예를 들어, 1, 2번이 스타트 팀, 3, 4번이 링크 팀에 속한 경우에 두 팀의 능력치는 아래와 같다.\n",
    "\n",
    "+ 스타트 팀: S12 + S21 = 1 + 4 = 5\n",
    "+ 링크 팀: S34 + S43 = 2 + 5 = 7\n",
    "\n",
    "1, 3번이 스타트 팀, 2, 4번이 링크 팀에 속하면, 두 팀의 능력치는 아래와 같다.\n",
    "\n",
    "+ 스타트 팀: S13 + S31 = 2 + 7 = 9\n",
    "+ 링크 팀: S24 + S42 = 6 + 4 = 10\n",
    "\n",
    "축구를 재미있게 하기 위해서 스타트 팀의 능력치와 링크 팀의 능력치의 차이를 최소로 하려고 한다. 위의 예제와 같은 경우에는 1, 4번이 스타트 팀, 2, 3번 팀이 링크 팀에 속하면 스타트 팀의 능력치는 6, 링크 팀의 능력치는 6이 되어서 차이가 0이 되고 이 값이 최소이다."
   ]
  },
  {
   "cell_type": "code",
   "execution_count": 10,
   "metadata": {},
   "outputs": [
    {
     "name": "stdout",
     "output_type": "stream",
     "text": [
      "8\n",
      "0 5 4 5 4 5 4 5\n",
      "4 0 5 1 2 3 4 5\n",
      "9 8 0 1 2 3 1 2\n",
      "9 9 9 0 9 9 9 9\n",
      "1 1 1 1 0 1 1 1\n",
      "8 7 6 5 4 0 3 2\n",
      "9 1 9 1 9 1 0 9\n",
      "6 5 4 3 2 1 9 0\n",
      "1\n"
     ]
    }
   ],
   "source": [
    "from itertools import combinations\n",
    "\n",
    "n = int(input())\n",
    "powers = [list(map(int, input().split())) for _ in range(n)]\n",
    "members = [i for i in range(n)]\n",
    "\n",
    "# 팀을 조합으로 찾음 -> 정렬\n",
    "teams = list(combinations(members, n//2))\n",
    "\n",
    "# 능력치 계산\n",
    "def cal_stat(n, team):\n",
    "    stat = 0\n",
    "    for i in range(n//2):\n",
    "        mem = team[i]\n",
    "        for m in team:\n",
    "            stat += powers[mem][m]\n",
    "    return stat\n",
    "\n",
    "gap = 100000\n",
    "for i in range(len(teams)//2):\n",
    "    stat_A = cal_stat(n, teams[i])\n",
    "    stat_B = cal_stat(n, teams[-i-1])\n",
    "    \n",
    "    gap = min(gap, abs(stat_A - stat_B))\n",
    "    \n",
    "print(gap)"
   ]
  },
  {
   "cell_type": "code",
   "execution_count": null,
   "metadata": {},
   "outputs": [],
   "source": []
  }
 ],
 "metadata": {
  "kernelspec": {
   "display_name": "Python 3",
   "language": "python",
   "name": "python3"
  },
  "language_info": {
   "codemirror_mode": {
    "name": "ipython",
    "version": 3
   },
   "file_extension": ".py",
   "mimetype": "text/x-python",
   "name": "python",
   "nbconvert_exporter": "python",
   "pygments_lexer": "ipython3",
   "version": "3.8.3"
  }
 },
 "nbformat": 4,
 "nbformat_minor": 4
}
