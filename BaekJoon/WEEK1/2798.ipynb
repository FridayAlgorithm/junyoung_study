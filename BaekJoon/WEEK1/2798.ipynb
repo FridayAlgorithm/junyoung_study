{
 "cells": [
  {
   "cell_type": "markdown",
   "metadata": {},
   "source": [
    "### [브루트포스] [블랙잭](https://www.acmicpc.net/problem/2798)\n",
    "카지노에서 제일 인기 있는 게임 블랙잭의 규칙은 상당히 쉽다. 카드의 합이 21을 넘지 않는 한도 내에서, 카드의 합을 최대한 크게 만드는 게임이다. 블랙잭은 카지노마다 다양한 규정이 있다.\n",
    "\n",
    "한국 최고의 블랙잭 고수 김정인은 새로운 블랙잭 규칙을 만들어 상근, 창영이와 게임하려고 한다.\n",
    "\n",
    "김정인 버전의 블랙잭에서 각 카드에는 양의 정수가 쓰여 있다. 그 다음, 딜러는 N장의 카드를 모두 숫자가 보이도록 바닥에 놓는다. 그런 후에 딜러는 숫자 M을 크게 외친다.\n",
    "\n",
    "이제 플레이어는 제한된 시간 안에 N장의 카드 중에서 3장의 카드를 골라야 한다. 블랙잭 변형 게임이기 때문에, 플레이어가 고른 카드의 합은 M을 넘지 않으면서 M과 최대한 가깝게 만들어야 한다.\n",
    "\n",
    "N장의 카드에 써져 있는 숫자가 주어졌을 때, M을 넘지 않으면서 M에 최대한 가까운 카드 3장의 합을 구해 출력하시오."
   ]
  },
  {
   "cell_type": "code",
   "execution_count": 7,
   "metadata": {},
   "outputs": [
    {
     "name": "stdout",
     "output_type": "stream",
     "text": [
      "5 21\n",
      "5 6 7 8 9\n",
      "21\n"
     ]
    }
   ],
   "source": [
    "N, M = input().split()\n",
    "n = int(N)\n",
    "m = int(M)\n",
    "\n",
    "cards = [int(x) for x in input().split()]\n",
    "\n",
    "gap = m      # m과 카드3장 합의 차이\n",
    "min_sum = 0  # 최소 차이 합\n",
    "\n",
    "# 0 0 0 0 0 0 0 0 X X\n",
    "# X 0 0 0 0 0 0 0 0 X\n",
    "# X X 0 0 0 0 0 0 0 0\n",
    "for i in range(0, len(cards)-2):\n",
    "    for j in range(i+1, len(cards)-1):\n",
    "        for k in range(j+1, len(cards)):\n",
    "            sum = cards[i]+cards[j]+cards[k]\n",
    "            if gap>abs(m-sum) and sum<=m:\n",
    "                gap = abs(m-sum)\n",
    "                min_sum = sum\n",
    "\n",
    "print(min_sum)"
   ]
  }
 ],
 "metadata": {
  "kernelspec": {
   "display_name": "Python 3",
   "language": "python",
   "name": "python3"
  },
  "language_info": {
   "codemirror_mode": {
    "name": "ipython",
    "version": 3
   },
   "file_extension": ".py",
   "mimetype": "text/x-python",
   "name": "python",
   "nbconvert_exporter": "python",
   "pygments_lexer": "ipython3",
   "version": "3.8.3"
  }
 },
 "nbformat": 4,
 "nbformat_minor": 4
}
