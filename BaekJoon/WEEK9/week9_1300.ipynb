{
 "cells": [
  {
   "cell_type": "markdown",
   "metadata": {},
   "source": [
    "### [1300] [K번째 수](https://www.acmicpc.net/problem/1300)\n",
    "세준이는 크기가 N×N인 배열 A를 만들었다. 배열에 들어있는 수 A[i][j] = i×j 이다. 이 수를 일차원 배열 B에 넣으면 B의 크기는 N×N이 된다. B를 오름차순 정렬했을 때, B[k]를 구해보자.\n",
    "\n",
    "배열 A와 B의 인덱스는 1부터 시작한다."
   ]
  },
  {
   "cell_type": "markdown",
   "metadata": {},
   "source": [
    "**[남이 생각한 풀이]**\n",
    " + 이분탐색!!!\n",
    " + 이분탐색으로 어떤 수보다 작은 자연수의 곱(i*j)이 몇 개인지 알아낼 수 있음\n",
    "     + A보다 작은 숫자가 몇 개인지 찾아내면 A가 몇 번째 숫자인지 알 수 있음\n",
    "     \n",
    "ex) 10*10 에서 20보다 작거나 같은 수?<br>\n",
    "1 X 1 ~ 1 X 10 → 10<br> \n",
    "2 X 1 ~ 2 X 10 → 10 == 20//2<br>\n",
    "3 X 1 ~ 3 X 6 → 6 == 20//3<br>\n",
    "4 X 1 ~ 4 X 5 → 5 == 20//4<br>\n",
    "...<br>\n",
    "10 X 1 ~ 10 X 2<br>\n",
    "    \n",
    "== 20을 행으로 나눈 것과 같음<br>\n",
    "1의 경우 20//1 == 20이지만 열의 숫자를 초과할 수 없기 때문에 10"
   ]
  },
  {
   "cell_type": "code",
   "execution_count": 2,
   "metadata": {},
   "outputs": [
    {
     "name": "stdout",
     "output_type": "stream",
     "text": [
      "3\n",
      "7\n",
      "6\n"
     ]
    }
   ],
   "source": [
    "n = int(input())\n",
    "k = int(input())\n",
    "\n",
    "start = 1\n",
    "end = k\n",
    "\n",
    "while start <= end:\n",
    "    mid = (start+end)//2\n",
    "    \n",
    "    tmp = 0\n",
    "    for i in range(1, n+1):\n",
    "        tmp += min(mid//i, n)\n",
    "        \n",
    "    if tmp >= k:\n",
    "        answer = mid\n",
    "        end = mid-1\n",
    "    else:\n",
    "        start = mid+1\n",
    "        \n",
    "print(answer)"
   ]
  }
 ],
 "metadata": {
  "kernelspec": {
   "display_name": "Python 3",
   "language": "python",
   "name": "python3"
  },
  "language_info": {
   "codemirror_mode": {
    "name": "ipython",
    "version": 3
   },
   "file_extension": ".py",
   "mimetype": "text/x-python",
   "name": "python",
   "nbconvert_exporter": "python",
   "pygments_lexer": "ipython3",
   "version": "3.8.3"
  }
 },
 "nbformat": 4,
 "nbformat_minor": 4
}
