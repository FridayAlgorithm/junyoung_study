{
 "cells": [
  {
   "cell_type": "code",
   "execution_count": 25,
   "metadata": {},
   "outputs": [
    {
     "name": "stdout",
     "output_type": "stream",
     "text": [
      "[(0,), (0, 1), (0, 2), (0, 3), (1, 2), (0, 1, 2), (0, 1, 3), (0, 2, 3), (1, 2, 3), (0, 1, 2, 3)]\n",
      "{0}\n",
      "{0}\n",
      "{0}\n",
      "{0}\n",
      "{0}\n",
      "{0}\n",
      "{0}\n",
      "{0, 1}\n",
      "{0, 1}\n",
      "{0, 1}\n",
      "{0, 2}\n",
      "{0, 2}\n",
      "{0, 2}\n",
      "{0, 3}\n",
      "{0, 3}\n",
      "{0, 3}\n",
      "{1, 2}\n",
      "{1, 2}\n",
      "{1, 2}\n",
      "{0, 1, 2}\n",
      "{0, 1, 3}\n",
      "{0, 2, 3}\n",
      "{1, 2, 3}\n",
      "{(1, 2), (0,)}\n",
      "2\n"
     ]
    }
   ],
   "source": [
    "from itertools import combinations\n",
    "\n",
    "def solution(relation):\n",
    "    answer = []\n",
    "    \n",
    "    row = len(relation)\n",
    "    col = len(relation[0])\n",
    "    \n",
    "    candidates = []\n",
    "    for i in range(1, col+1):\n",
    "        candidates.extend(combinations(range(col), i))\n",
    "    \n",
    "    unique = []\n",
    "    for can in candidates:\n",
    "        tmp = []\n",
    "        for i in range(row):\n",
    "            t = []\n",
    "            for j in can:\n",
    "                t.append(relation[i][j])\n",
    "            tmp.append(tuple(t))\n",
    "        if len(set(tmp)) == row:\n",
    "            unique.append(can)\n",
    "    print(unique)\n",
    "    \n",
    "    answer = set(unique)\n",
    "    for i in range(len(unique)):\n",
    "        for j in range(i+1, len(unique)):\n",
    "            if len(unique[i]) == len(set(unique[i]) & set(unique[j])):\n",
    "                test = set(unique[i])&set(unique[j])\n",
    "                print(test)\n",
    "                answer.discard(unique[j])\n",
    "    print(answer)\n",
    "        \n",
    "    return len(answer)\n",
    "    \n",
    "    \n",
    "print(solution([[\"100\",\"ryan\",\"music\",\"2\"],[\"200\",\"apeach\",\"math\",\"2\"],\n",
    "                  [\"300\",\"tube\",\"computer\",\"3\"],[\"400\",\"con\",\"computer\",\"4\"],\n",
    "                  [\"500\",\"muzi\",\"music\",\"3\"],[\"600\",\"apeach\",\"music\",\"2\"]]))"
   ]
  },
  {
   "cell_type": "code",
   "execution_count": null,
   "metadata": {},
   "outputs": [],
   "source": []
  },
  {
   "cell_type": "code",
   "execution_count": null,
   "metadata": {},
   "outputs": [],
   "source": []
  }
 ],
 "metadata": {
  "kernelspec": {
   "display_name": "Python 3",
   "language": "python",
   "name": "python3"
  },
  "language_info": {
   "codemirror_mode": {
    "name": "ipython",
    "version": 3
   },
   "file_extension": ".py",
   "mimetype": "text/x-python",
   "name": "python",
   "nbconvert_exporter": "python",
   "pygments_lexer": "ipython3",
   "version": "3.8.3"
  }
 },
 "nbformat": 4,
 "nbformat_minor": 4
}
