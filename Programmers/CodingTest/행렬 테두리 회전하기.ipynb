{
 "cells": [
  {
   "cell_type": "code",
   "execution_count": 36,
   "metadata": {},
   "outputs": [
    {
     "name": "stdout",
     "output_type": "stream",
     "text": [
      "[8, 15, 25]\n",
      "[1, 1, 4, 4]\n",
      "[1]\n"
     ]
    }
   ],
   "source": [
    "def solution(rows, columns, queries):\n",
    "    answer = []\n",
    "    \n",
    "    # 배열 만들기\n",
    "    array = [[0 for col in range(columns)] for row in range(rows)]\n",
    "    num = 1\n",
    "    for y in range(rows):\n",
    "        for x in range(columns):\n",
    "            array[y][x] = num\n",
    "            num += 1\n",
    "    \n",
    "    for y1, x1, y2, x2 in queries:\n",
    "        y1, x1, y2, x2 = y1-1, x1-1, y2-1, x2-1\n",
    "        tmp = array[y1][x1]\n",
    "        min_arr = tmp\n",
    "        \n",
    "        for i in range(y1, y2):\n",
    "            now = array[i+1][x1]\n",
    "            array[i][x1] = now\n",
    "            min_arr = min(min_arr, now)\n",
    "        \n",
    "        for i in range(x1, x2):\n",
    "            now = array[y2][i+1]\n",
    "            array[y2][i] = now\n",
    "            min_arr = min(min_arr, now)\n",
    "            \n",
    "        for i in range(y2, y1, -1):\n",
    "            now = array[i-1][x1]\n",
    "            array[i][x1] = now\n",
    "            min_arr = min(min_arr, now)\n",
    "            \n",
    "        for i in range(x2, x1, -1):\n",
    "            now = array[y1][i-1]\n",
    "            array[y1][i] = now\n",
    "            min_arr = min(min_arr, now)\n",
    "            \n",
    "        array[y1][x1+1] = tmp\n",
    "        answer.append(min_arr)\n",
    "        \n",
    "    return answer\n",
    "\n",
    "print(solution(6, 6, [[2,2,5,4],[3,3,6,6],[5,1,6,3]]))\n",
    "print(solution(3, 3, [[1,1,2,2],[1,2,2,3],[2,1,3,2],[2,2,3,3]]))\n",
    "print(solution(100, 97, [[1,1,100,97]]))"
   ]
  },
  {
   "cell_type": "code",
   "execution_count": 37,
   "metadata": {},
   "outputs": [
    {
     "name": "stdout",
     "output_type": "stream",
     "text": [
      "[8, 10, 25]\n",
      "[1, 1, 5, 3]\n",
      "[1]\n"
     ]
    }
   ],
   "source": [
    "def solution(rows, columns, queries):\n",
    "    matrix = [[row * columns + col + 1 for col in range(columns)] for row in range(rows)]\n",
    "    answer = []\n",
    "    \n",
    "    for t, l, b, r in queries:\n",
    "        top, left, bottom, right = t-1, l-1, b-1, r-1\n",
    "        tmp = matrix[top][left]\n",
    "        minimum = tmp\n",
    "\n",
    "        for y in range(top, bottom):\n",
    "            value = matrix[y+1][left]\n",
    "            matrix[y][left] = value\n",
    "            minimum = min(minimum, value)\n",
    "            \n",
    "        for x in range(left, right):\n",
    "            value = matrix[bottom][x+1]\n",
    "            matrix[bottom][x] = value\n",
    "            minimum = min(minimum, value)\n",
    "            \n",
    "        for y in range(bottom, top, -1):\n",
    "            value = matrix[y-1][right]\n",
    "            matrix[y][right] = value\n",
    "            minimum = min(minimum, value)\n",
    "            \n",
    "        for x in range(right, left, -1):\n",
    "            value = matrix[top][x-1]\n",
    "            matrix[top][x] = value\n",
    "            minimum = min(minimum, value)\n",
    "        \n",
    "        matrix[top][left+1] = tmp\n",
    "        answer.append(minimum)\n",
    "        \n",
    "    return answer\n",
    "\n",
    "print(solution(6, 6, [[2,2,5,4],[3,3,6,6],[5,1,6,3]]))\n",
    "print(solution(3, 3, [[1,1,2,2],[1,2,2,3],[2,1,3,2],[2,2,3,3]]))\n",
    "print(solution(100, 97, [[1,1,100,97]]))"
   ]
  },
  {
   "cell_type": "code",
   "execution_count": null,
   "metadata": {},
   "outputs": [],
   "source": []
  }
 ],
 "metadata": {
  "kernelspec": {
   "display_name": "Python 3",
   "language": "python",
   "name": "python3"
  },
  "language_info": {
   "codemirror_mode": {
    "name": "ipython",
    "version": 3
   },
   "file_extension": ".py",
   "mimetype": "text/x-python",
   "name": "python",
   "nbconvert_exporter": "python",
   "pygments_lexer": "ipython3",
   "version": "3.8.3"
  }
 },
 "nbformat": 4,
 "nbformat_minor": 4
}
