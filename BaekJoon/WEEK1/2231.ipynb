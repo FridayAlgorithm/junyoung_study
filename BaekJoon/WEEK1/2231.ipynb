{
 "cells": [
  {
   "cell_type": "markdown",
   "metadata": {},
   "source": [
    "### [브루트포스] [분해합](https://www.acmicpc.net/problem/2231)\n",
    "어떤 자연수 N이 있을 때, 그 자연수 N의 분해합은 N과 N을 이루는 각 자리수의 합을 의미한다. 어떤 자연수 M의 분해합이 N인 경우, M을 N의 생성자라 한다. 예를 들어, 245의 분해합은 256(=245+2+4+5)이 된다. 따라서 245는 256의 생성자가 된다. 물론, 어떤 자연수의 경우에는 생성자가 없을 수도 있다. 반대로, 생성자가 여러 개인 자연수도 있을 수 있다.\n",
    "\n",
    "자연수 N이 주어졌을 때, N의 가장 작은 생성자를 구해내는 프로그램을 작성하시오."
   ]
  },
  {
   "cell_type": "code",
   "execution_count": 102,
   "metadata": {},
   "outputs": [
    {
     "name": "stdout",
     "output_type": "stream",
     "text": [
      "65\n",
      "55\n"
     ]
    }
   ],
   "source": [
    "'''\n",
    "최소 생성자의 값을 구해야 하므로 \n",
    "자연수 n의 최대 자릿수에서 나올 수 있는 최대값에서 시작\n",
    "∵ 생성자가 여러 개인 경우 가장 작은 생성자를 구해야 함 \n",
    "ex) 15 -> 99 ∴ 9+9 = 18\n",
    "'''\n",
    "\n",
    "n = int(input())\n",
    "sum9 = (len(str(n)))*9  #자릿수 만큼 9를 곱함\n",
    "\n",
    "def digit_sum(n):\n",
    "    num = str(n)\n",
    "    sum = 0\n",
    "    for i in range(len(num)):\n",
    "        sum += int(num[i])\n",
    "    return sum\n",
    "\n",
    "while sum9 >= 0:\n",
    "    now = (n - sum9)  #자연수 n에서 자릿수 최댓값을 뺀 값\n",
    "    if now>0:\n",
    "        if n == digit_sum(now)+now:\n",
    "            break\n",
    "        else:\n",
    "            now = 0\n",
    "    sum9 -= 1 \n",
    "\n",
    "print(now)"
   ]
  },
  {
   "cell_type": "code",
   "execution_count": 96,
   "metadata": {},
   "outputs": [
    {
     "name": "stdout",
     "output_type": "stream",
     "text": [
      "65\n",
      "55\n"
     ]
    }
   ],
   "source": [
    "def digit_sum(n):\n",
    "    num = str(n)\n",
    "    sum = 0\n",
    "    for i in range(len(num)):\n",
    "        sum += int(num[i])\n",
    "    return sum\n",
    "\n",
    "n = int(input())\n",
    "for num in range(1, n+1):\n",
    "    num_sum = num + digit_sum(num)\n",
    "    if num_sum == n:\n",
    "        print(num)\n",
    "        break\n",
    "    if num==n:\n",
    "        print(0) "
   ]
  },
  {
   "cell_type": "code",
   "execution_count": 97,
   "metadata": {},
   "outputs": [
    {
     "name": "stdout",
     "output_type": "stream",
     "text": [
      "65\n",
      "55\n"
     ]
    }
   ],
   "source": [
    "n = int(input())\n",
    "for num in range(1, n+1):\n",
    "    num_list = list(map(int, str(num)))\n",
    "    num_sum = num + sum(num_list)\n",
    "    if num_sum == n:\n",
    "        print(num)\n",
    "        break\n",
    "    if num==n:\n",
    "        print(0) "
   ]
  }
 ],
 "metadata": {
  "kernelspec": {
   "display_name": "Python 3",
   "language": "python",
   "name": "python3"
  },
  "language_info": {
   "codemirror_mode": {
    "name": "ipython",
    "version": 3
   },
   "file_extension": ".py",
   "mimetype": "text/x-python",
   "name": "python",
   "nbconvert_exporter": "python",
   "pygments_lexer": "ipython3",
   "version": "3.8.3"
  }
 },
 "nbformat": 4,
 "nbformat_minor": 4
}
