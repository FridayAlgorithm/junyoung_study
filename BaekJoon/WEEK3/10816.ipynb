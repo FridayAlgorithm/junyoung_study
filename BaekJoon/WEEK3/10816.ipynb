{
 "cells": [
  {
   "cell_type": "markdown",
   "metadata": {},
   "source": [
    "### [이분 탐색] [숫자 카드 2](acmicpc.net/problem/10816)\n",
    "숫자 카드는 정수 하나가 적혀져 있는 카드이다. 상근이는 숫자 카드 N개를 가지고 있다. 정수 M개가 주어졌을 때, 이 수가 적혀있는 숫자 카드를 상근이가 몇 개 가지고 있는지 구하는 프로그램을 작성하시오."
   ]
  },
  {
   "cell_type": "code",
   "execution_count": 2,
   "metadata": {},
   "outputs": [
    {
     "name": "stdout",
     "output_type": "stream",
     "text": [
      "10\n",
      "6 3 2 10 10 10 -10 -10 7 3 \n",
      "8 \n",
      "10 9 -5 2 3 4 5 -10\n",
      "3 0 0 1 2 0 0 2 "
     ]
    }
   ],
   "source": [
    "# 런타임에러... 왜???\n",
    "# 상근이가 가지고 있는 카드\n",
    "n = int(input())\n",
    "cards = list(map(int, input().split()))\n",
    "cards.sort()\n",
    "\n",
    "# 이 카드를 얼마나 가지고 있는가?\n",
    "m = int(input())\n",
    "m_list = list(map(int, input().split()))\n",
    "\n",
    "\n",
    "def find_cnt(x):\n",
    "    low = 0\n",
    "    high = n-1\n",
    "    \n",
    "    # 중복 배열에서 가장 앞의 위치를 찾는 방법\n",
    "    while low<=high:\n",
    "        mid = (low+high)//2\n",
    "        if cards[mid]<x:\n",
    "            low = mid+1\n",
    "        else:\n",
    "            high = mid-1\n",
    "    \n",
    "    if cards[low] == x:\n",
    "        end = finish_duples(x)\n",
    "        return end-low+1\n",
    "    else:\n",
    "        return 0\n",
    "\n",
    "# 중복 배열에서 가장 뒤의 위치를 찾는 방법\n",
    "def finish_duples(x):\n",
    "    low = 0\n",
    "    high = n-1\n",
    "    while low<=high:\n",
    "        mid = (low+high)//2\n",
    "        if cards[mid]<=x:\n",
    "            low = mid+1\n",
    "        else:\n",
    "            high = mid-1\n",
    "    return high\n",
    "\n",
    "\n",
    "for i in range(m):\n",
    "    print(find_cnt(m_list[i]), end=\" \")"
   ]
  },
  {
   "cell_type": "code",
   "execution_count": 10,
   "metadata": {},
   "outputs": [
    {
     "name": "stdout",
     "output_type": "stream",
     "text": [
      "10\n",
      "6 3 2 10 10 10 -10 -10 7 3\n",
      "8\n",
      "10 9 -5 2 3 4 5 -10\n",
      "3 0 0 1 2 0 0 2 "
     ]
    }
   ],
   "source": [
    "# 상근이가 가지고 있는 카드\n",
    "n = int(input())\n",
    "cards = list(map(int, input().split()))\n",
    "cards.sort()\n",
    "\n",
    "# 이 카드를 얼마나 가지고 있는가?\n",
    "m = int(input())\n",
    "m_list = list(map(int, input().split()))\n",
    "\n",
    "dic = {}\n",
    "for i in cards:\n",
    "    if i in dic:\n",
    "        dic[i] += 1\n",
    "    else:\n",
    "        dic[i] = 1\n",
    "\n",
    "for i in m_list:\n",
    "    if i in dic:\n",
    "        print(dic[i], end=\" \")\n",
    "    else:\n",
    "        print(0, end=\" \")"
   ]
  },
  {
   "cell_type": "code",
   "execution_count": null,
   "metadata": {},
   "outputs": [],
   "source": []
  }
 ],
 "metadata": {
  "kernelspec": {
   "display_name": "Python 3",
   "language": "python",
   "name": "python3"
  },
  "language_info": {
   "codemirror_mode": {
    "name": "ipython",
    "version": 3
   },
   "file_extension": ".py",
   "mimetype": "text/x-python",
   "name": "python",
   "nbconvert_exporter": "python",
   "pygments_lexer": "ipython3",
   "version": "3.8.3"
  }
 },
 "nbformat": 4,
 "nbformat_minor": 4
}
