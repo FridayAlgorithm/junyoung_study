{
 "cells": [
  {
   "cell_type": "markdown",
   "metadata": {},
   "source": [
    "### [7576] [토마토](https://www.acmicpc.net/problem/7576)\n",
    "철수의 토마토 농장에서는 토마토를 보관하는 큰 창고를 가지고 있다. 토마토는 아래의 그림과 같이 격자 모양 상자의 칸에 하나씩 넣어서 창고에 보관한다. \n",
    "\n",
    "\n",
    "\n",
    "창고에 보관되는 토마토들 중에는 잘 익은 것도 있지만, 아직 익지 않은 토마토들도 있을 수 있다. 보관 후 하루가 지나면, 익은 토마토들의 인접한 곳에 있는 익지 않은 토마토들은 익은 토마토의 영향을 받아 익게 된다. 하나의 토마토의 인접한 곳은 왼쪽, 오른쪽, 앞, 뒤 네 방향에 있는 토마토를 의미한다. 대각선 방향에 있는 토마토들에게는 영향을 주지 못하며, 토마토가 혼자 저절로 익는 경우는 없다고 가정한다. 철수는 창고에 보관된 토마토들이 며칠이 지나면 다 익게 되는지, 그 최소 일수를 알고 싶어 한다.\n",
    "\n",
    "토마토를 창고에 보관하는 격자모양의 상자들의 크기와 익은 토마토들과 익지 않은 토마토들의 정보가 주어졌을 때, 며칠이 지나면 토마토들이 모두 익는지, 그 최소 일수를 구하는 프로그램을 작성하라. 단, 상자의 일부 칸에는 토마토가 들어있지 않을 수도 있다."
   ]
  },
  {
   "cell_type": "markdown",
   "metadata": {},
   "source": [
    "**[내가 생각하는 문제 풀이]**\n",
    " + bfs, dfs로 풀 수 있는 문제\n",
    " + 이미 익은 토마토가 2개 이상 존재하는 경우, 시작을 같이 해야 날짜가 추가로 더해지지 않을 것..\n",
    "     + 처음 시작하는 토마토의 개수 구하고 총 날짜에서 나눈다 -> 위치에 따라 반례가 발생할 듯\n",
    "     + 저장할 때 현재 날짜와 함께 저장..?\n",
    " + dx, dy를 사용해서 동서남북을 체크한 뒤, 인덱스 범위 내에 있고 & 안익은 토마토인 경우\n",
    "     + 익은 토마토로 바꾸고 그 토마토 동서남북을 확인 -> bfs queue 사용"
   ]
  },
  {
   "cell_type": "code",
   "execution_count": 16,
   "metadata": {},
   "outputs": [
    {
     "name": "stdout",
     "output_type": "stream",
     "text": [
      "6 4\n",
      "1 -1 0 0 0 0\n",
      "0 -1 0 0 0 0\n",
      "0 0 0 0 -1 0\n",
      "0 0 0 0 -1 1\n",
      "6\n"
     ]
    }
   ],
   "source": [
    "# 시간 초과\n",
    "# 안익은 토마토가 있는지 다시 체크하는 부분 때문?\n",
    "# queue.pop(0) -> queue.pop() \n",
    "\n",
    "n, m = map(int, input().split())\n",
    "farm = [list(map(int, input().split())) for _ in range(m)]\n",
    "\n",
    "dx = [-1, 1, 0, 0]\n",
    "dy = [0, 0, 1, -1]\n",
    "queue = []\n",
    "def bfs(m, n):\n",
    "    day = 0\n",
    "    while queue:\n",
    "        fy, fx, day = queue.pop(0)\n",
    "        for i in range(4):\n",
    "            ny = fy+dy[i]\n",
    "            nx = fx+dx[i]\n",
    "            if ny>=0 and ny<m and nx>=0 and nx<n:\n",
    "                if farm[ny][nx] == 0:\n",
    "                    farm[ny][nx] = 1\n",
    "                    queue.append((ny, nx, day+1))\n",
    "    return day\n",
    "\n",
    "# 현재 익은 토마토가 있는지 체크\n",
    "for i in range(m):\n",
    "    for j in range(n):\n",
    "        if farm[i][j] == 1:\n",
    "            queue.append((i, j, 0))\n",
    "\n",
    "# 토마토 익히기!!\n",
    "answer = bfs(m, n)\n",
    "\n",
    "# 안익은 토마토가 남아있는지 체크\n",
    "for i in range(m):\n",
    "    for j in range(n):\n",
    "        if farm[i][j] == 0:\n",
    "            answer = -1\n",
    "            break\n",
    "            \n",
    "print(answer)"
   ]
  },
  {
   "cell_type": "code",
   "execution_count": 20,
   "metadata": {},
   "outputs": [
    {
     "name": "stdout",
     "output_type": "stream",
     "text": [
      "6 4\n",
      "1 -1 0 0 0 0\n",
      "0 -1 0 0 0 0\n",
      "0 0 0 0 -1 0\n",
      "0 0 0 0 -1 1\n",
      "6\n"
     ]
    }
   ],
   "source": [
    "# queue -> dequeue\n",
    "# queue.pop(0): O(N) -> deque.popleft(): O(1)\n",
    "\n",
    "from collections import deque\n",
    "n, m = map(int, input().split())\n",
    "farm = [list(map(int, input().split())) for _ in range(m)]\n",
    "\n",
    "dx = [-1, 1, 0, 0]\n",
    "dy = [0, 0, 1, -1]\n",
    "deque = deque()\n",
    "def bfs(m, n):\n",
    "    day = 0\n",
    "    while deque:\n",
    "        fy, fx, day = deque.popleft()\n",
    "        for i in range(4):\n",
    "            ny = fy+dy[i]\n",
    "            nx = fx+dx[i]\n",
    "            if ny>=0 and ny<m and nx>=0 and nx<n:\n",
    "                if farm[ny][nx] == 0:\n",
    "                    farm[ny][nx] = 1\n",
    "                    deque.append((ny, nx, day+1))\n",
    "    return day\n",
    "\n",
    "# 현재 익은 토마토가 있는지 체크\n",
    "for i in range(m):\n",
    "    for j in range(n):\n",
    "        if farm[i][j] == 1:\n",
    "            deque.append((i, j, 0))\n",
    "\n",
    "# 토마토 익히기!!\n",
    "answer = bfs(m, n)\n",
    "\n",
    "# 안익은 토마토가 남아있는지 체크\n",
    "for i in range(m):\n",
    "    for j in range(n):\n",
    "        if farm[i][j] == 0:\n",
    "            answer = -1\n",
    "            break\n",
    "            \n",
    "print(answer)"
   ]
  },
  {
   "cell_type": "code",
   "execution_count": null,
   "metadata": {},
   "outputs": [],
   "source": []
  }
 ],
 "metadata": {
  "kernelspec": {
   "display_name": "Python 3",
   "language": "python",
   "name": "python3"
  },
  "language_info": {
   "codemirror_mode": {
    "name": "ipython",
    "version": 3
   },
   "file_extension": ".py",
   "mimetype": "text/x-python",
   "name": "python",
   "nbconvert_exporter": "python",
   "pygments_lexer": "ipython3",
   "version": "3.8.3"
  }
 },
 "nbformat": 4,
 "nbformat_minor": 4
}
