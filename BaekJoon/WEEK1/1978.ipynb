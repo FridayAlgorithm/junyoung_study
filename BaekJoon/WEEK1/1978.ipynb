{
 "cells": [
  {
   "cell_type": "markdown",
   "metadata": {},
   "source": [
    "### [수학2] [소수찾기](https://www.acmicpc.net/problem/1978)\n",
    "주어진 수 N개 중에서 소수가 몇 개인지 찾아서 출력하는 프로그램을 작성하시오."
   ]
  },
  {
   "cell_type": "code",
   "execution_count": 2,
   "metadata": {},
   "outputs": [
    {
     "name": "stdout",
     "output_type": "stream",
     "text": [
      "2\n",
      "91 3\n",
      "1\n"
     ]
    }
   ],
   "source": [
    "# 약수를 구해서 1과 자기자신이 나오면 소수\n",
    "def decimal(data):\n",
    "    dec = 0  \n",
    "    for d in range(len(data)):\n",
    "        # 1은 소수가 아님\n",
    "        if data[d] == 1:\n",
    "            continue\n",
    "            \n",
    "        # 약수 구하기\n",
    "        div = 0\n",
    "        for i in range(1, data[d]+1):\n",
    "            if data[d]%i == 0:\n",
    "                div += 1\n",
    "                \n",
    "        # 1과 자기 자신을 포함한 경우       \n",
    "        if div == 2:\n",
    "            dec += 1\n",
    "    return dec\n",
    "\n",
    "n = int(input())\n",
    "data = [int(x) for x in input().split()]\n",
    "print(decimal(data)) "
   ]
  },
  {
   "cell_type": "code",
   "execution_count": null,
   "metadata": {},
   "outputs": [],
   "source": [
    "2"
   ]
  }
 ],
 "metadata": {
  "kernelspec": {
   "display_name": "Python 3",
   "language": "python",
   "name": "python3"
  },
  "language_info": {
   "codemirror_mode": {
    "name": "ipython",
    "version": 3
   },
   "file_extension": ".py",
   "mimetype": "text/x-python",
   "name": "python",
   "nbconvert_exporter": "python",
   "pygments_lexer": "ipython3",
   "version": "3.8.3"
  }
 },
 "nbformat": 4,
 "nbformat_minor": 4
}
