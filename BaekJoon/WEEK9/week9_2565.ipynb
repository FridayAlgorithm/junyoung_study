{
 "cells": [
  {
   "cell_type": "markdown",
   "metadata": {},
   "source": [
    "### [2565] [전깃줄](https://www.acmicpc.net/problem/2565)\n",
    "두 전봇대 A와 B 사이에 하나 둘씩 전깃줄을 추가하다 보니 전깃줄이 서로 교차하는 경우가 발생하였다. 합선의 위험이 있어 이들 중 몇 개의 전깃줄을 없애 전깃줄이 교차하지 않도록 만들려고 한다.\n",
    "\n",
    "예를 들어, <그림 1>과 같이 전깃줄이 연결되어 있는 경우 A의 1번 위치와 B의 8번 위치를 잇는 전깃줄, A의 3번 위치와 B의 9번 위치를 잇는 전깃줄, A의 4번 위치와 B의 1번 위치를 잇는 전깃줄을 없애면 남아있는 모든 전깃줄이 서로 교차하지 않게 된다.\n",
    "\n",
    "\n",
    "\n",
    "전깃줄이 전봇대에 연결되는 위치는 전봇대 위에서부터 차례대로 번호가 매겨진다. 전깃줄의 개수와 전깃줄들이 두 전봇대에 연결되는 위치의 번호가 주어질 때, 남아있는 모든 전깃줄이 서로 교차하지 않게 하기 위해 없애야 하는 전깃줄의 최소 개수를 구하는 프로그램을 작성하시오."
   ]
  },
  {
   "cell_type": "markdown",
   "metadata": {},
   "source": [
    "**[내가 생각한 풀이]**\n",
    " * 일직선 : 그대로\n",
    " * ↗, ↘ : 수를 세어서 더 작은 것으로 한다"
   ]
  },
  {
   "cell_type": "code",
   "execution_count": 4,
   "metadata": {},
   "outputs": [
    {
     "name": "stdout",
     "output_type": "stream",
     "text": [
      "8\n",
      "1 8\n",
      "3 9\n",
      "2 2\n",
      "4 1\n",
      "6 4\n",
      "10 10\n",
      "9 7\n",
      "7 6\n",
      "2\n"
     ]
    }
   ],
   "source": [
    "n = int(input())\n",
    "up, down = 0, 0\n",
    "for _ in range(n):\n",
    "    a, b = map(int, input().split())\n",
    "    if a > b: down += 1\n",
    "    elif a < b : up += 1\n",
    "        \n",
    "print(min(up, down))"
   ]
  },
  {
   "cell_type": "markdown",
   "metadata": {},
   "source": [
    " * A로 정렬을 하고, B에서 증가하는 수열을 찾자\n",
    " * 최종적으로 전체 전깃줄에서 증가하는 수열의 길이를 뺀다!\n",
    " * DP 문제 : #11053(https://www.acmicpc.net/problem/11053) 문제와 유사"
   ]
  },
  {
   "cell_type": "code",
   "execution_count": 5,
   "metadata": {},
   "outputs": [
    {
     "name": "stdout",
     "output_type": "stream",
     "text": [
      "8\n",
      "1 8\n",
      "3 9\n",
      "2 2\n",
      "4 1\n",
      "6 4\n",
      "10 10\n",
      "9 7\n",
      "7 6\n",
      "3\n"
     ]
    }
   ],
   "source": [
    "n = int(input())\n",
    "lines = []\n",
    "for _ in range(n):\n",
    "    a, b = map(int, input().split())\n",
    "    lines.append((a, b))\n",
    "    \n",
    "lines.sort(key = lambda x: x[0])\n",
    "\n",
    "dp = [1]*n\n",
    "for i in range(1, n):\n",
    "    for j in range(i):\n",
    "        if lines[j][1] < lines[i][1]:\n",
    "            dp[i] = max(dp[i], dp[j]+1)\n",
    "            \n",
    "print(n-max(dp))"
   ]
  }
 ],
 "metadata": {
  "kernelspec": {
   "display_name": "Python 3",
   "language": "python",
   "name": "python3"
  },
  "language_info": {
   "codemirror_mode": {
    "name": "ipython",
    "version": 3
   },
   "file_extension": ".py",
   "mimetype": "text/x-python",
   "name": "python",
   "nbconvert_exporter": "python",
   "pygments_lexer": "ipython3",
   "version": "3.8.3"
  }
 },
 "nbformat": 4,
 "nbformat_minor": 4
}
