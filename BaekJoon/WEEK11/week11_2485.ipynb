{
 "cells": [
  {
   "cell_type": "markdown",
   "metadata": {},
   "source": [
    "### [2485] [가로수](https://www.acmicpc.net/problem/2485)\n",
    "직선으로 되어있는 도로의 한 편에 가로수가 임의의 간격으로 심어져있다. KOI 시에서는 가로수들이 모두 같은 간격이 되도록 가로수를 추가로 심는 사업을 추진하고 있다. KOI 시에서는 예산문제로 가능한 한 가장 적은 수의 나무를 심고 싶다.\n",
    "\n",
    "편의상 가로수의 위치는 기준점으로 부터 떨어져 있는 거리로 표현되며, 가로수의 위치는 모두 양의 정수이다.\n",
    "\n",
    "예를 들어, 가로수가 (1, 3, 7, 13)의 위치에 있다면 (5, 9, 11)의 위치에 가로수를 더 심으면 모든 가로수들의 간격이 같게 된다. 또한, 가로수가 (2, 6, 12, 18)에 있다면 (4, 8, 10, 14, 16)에 가로수를 더 심어야 한다.\n",
    "\n",
    "심어져 있는 가로수의 위치가 주어질 때, 모든 가로수가 같은 간격이 되도록 새로 심어야 하는 가로수의 최소수를 구하는 프로그램을 작성하라. 단, 추가되는 나무는 기존의 나무들 사이에만 심을 수 있다."
   ]
  },
  {
   "cell_type": "markdown",
   "metadata": {},
   "source": [
    "**[내가 생각한 풀이]**\n",
    " + 간격의 최대공약수 구하기\n",
    " + 간격을 최대공약수로 나눈 것 - 1 이 사이에 심을 나무 수 "
   ]
  },
  {
   "cell_type": "code",
   "execution_count": 6,
   "metadata": {},
   "outputs": [
    {
     "name": "stdout",
     "output_type": "stream",
     "text": [
      "4\n",
      "1\n",
      "3\n",
      "7\n",
      "13\n",
      "3\n"
     ]
    }
   ],
   "source": [
    "from math import gcd\n",
    "n = int(input())\n",
    "trees = []\n",
    "\n",
    "for _ in range(n):\n",
    "    trees.append(int(input()))\n",
    "    \n",
    "gap = []\n",
    "for i in range(1, n):\n",
    "    gap.append(trees[i]-trees[i-1])\n",
    "    \n",
    "min_gap = gcd(gap[0], gap[1])\n",
    "for i in range(2, len(gap)):\n",
    "    min_gap = gcd(min_gap, gap[i])\n",
    "\n",
    "cnt = 0\n",
    "for i in range(len(gap)):\n",
    "    cnt += (gap[i]//min_gap)-1 \n",
    "\n",
    "print(cnt)"
   ]
  },
  {
   "cell_type": "code",
   "execution_count": null,
   "metadata": {},
   "outputs": [],
   "source": []
  }
 ],
 "metadata": {
  "kernelspec": {
   "display_name": "Python 3",
   "language": "python",
   "name": "python3"
  },
  "language_info": {
   "codemirror_mode": {
    "name": "ipython",
    "version": 3
   },
   "file_extension": ".py",
   "mimetype": "text/x-python",
   "name": "python",
   "nbconvert_exporter": "python",
   "pygments_lexer": "ipython3",
   "version": "3.8.3"
  }
 },
 "nbformat": 4,
 "nbformat_minor": 4
}
