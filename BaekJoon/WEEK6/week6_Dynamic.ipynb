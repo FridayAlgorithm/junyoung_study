{
 "cells": [
  {
   "cell_type": "markdown",
   "metadata": {},
   "source": [
    "### [2579] [계단 오르기](https://www.acmicpc.net/problem/2579)\n",
    "계단 오르기 게임은 계단 아래 시작점부터 계단 꼭대기에 위치한 도착점까지 가는 게임이다. <그림 1>과 같이 각각의 계단에는 일정한 점수가 쓰여 있는데 계단을 밟으면 그 계단에 쓰여 있는 점수를 얻게 된다.\n",
    "\n",
    "예를 들어 <그림 2>와 같이 시작점에서부터 첫 번째, 두 번째, 네 번째, 여섯 번째 계단을 밟아 도착점에 도달하면 총 점수는 10 + 20 + 25 + 20 = 75점이 된다.\n",
    "\n",
    "계단 오르는 데는 다음과 같은 규칙이 있다.\n",
    "\n",
    "1. 계단은 한 번에 한 계단씩 또는 두 계단씩 오를 수 있다. 즉, 한 계단을 밟으면서 이어서 다음 계단이나, 다음 다음 계단으로 오를 수 있다.\n",
    "2. 연속된 세 개의 계단을 모두 밟아서는 안 된다. 단, 시작점은 계단에 포함되지 않는다.\n",
    "3. 마지막 도착 계단은 반드시 밟아야 한다.\n",
    "\n",
    "따라서 첫 번째 계단을 밟고 이어 두 번째 계단이나, 세 번째 계단으로 오를 수 있다. 하지만, 첫 번째 계단을 밟고 이어 네 번째 계단으로 올라가거나, 첫 번째, 두 번째, 세 번째 계단을 연속해서 모두 밟을 수는 없다.\n",
    "\n",
    "각 계단에 쓰여 있는 점수가 주어질 때 이 게임에서 얻을 수 있는 총 점수의 최댓값을 구하는 프로그램을 작성하시오."
   ]
  },
  {
   "cell_type": "code",
   "execution_count": 4,
   "metadata": {},
   "outputs": [
    {
     "name": "stdout",
     "output_type": "stream",
     "text": [
      "6\n",
      "10\n",
      "20\n",
      "15\n",
      "25\n",
      "10\n",
      "20\n",
      "[10, 30, 35, 55]\n",
      "[10, 30, 35, 55, 65]\n",
      "[10, 30, 35, 55, 65, 75]\n",
      "75\n"
     ]
    }
   ],
   "source": [
    "'''\n",
    "1. 한 계단 / 두 계단씩 오를 수 있음\n",
    "2. 세 개의 계단을 모두 밟으면 X -> 한 칸씩 2번이면 그 다음은 두 칸\n",
    "3. 마지막 도착 계단을 밟아야 함\n",
    "'''\n",
    "n = int(input())\n",
    "stairs = []\n",
    "for i in range(n):\n",
    "    stairs.append(int(input()))\n",
    "dp = []\n",
    "\n",
    "dp.append(stairs[0])\n",
    "dp.append(max(stairs[0]+stairs[1], stairs[1]))\n",
    "dp.append(max(stairs[0]+stairs[2], stairs[1]+stairs[2]))\n",
    "for i in range(3, n):\n",
    "    dp.append(max(dp[i-2]+stairs[i], dp[i-3]+stairs[i-1]+stairs[i]))\n",
    "    \n",
    "print(dp.pop())\n",
    "    "
   ]
  },
  {
   "cell_type": "code",
   "execution_count": 4,
   "metadata": {},
   "outputs": [
    {
     "name": "stdout",
     "output_type": "stream",
     "text": [
      "6\n",
      "10\n",
      "20\n",
      "15\n",
      "25\n",
      "10\n",
      "20\n",
      "75\n"
     ]
    }
   ],
   "source": [
    "n = int(input())\n",
    "dp = [0 for _ in range(301)]\n",
    "stairs = [0 for _ in range(301)]\n",
    "for i in range(n):\n",
    "    stairs[i] = int(input())\n",
    "\n",
    "dp[0] = stairs[0]\n",
    "dp[1] = max(stairs[0]+stairs[1], stairs[1])\n",
    "dp[2] = max(stairs[0]+stairs[2], stairs[1]+stairs[2])\n",
    "for i in range(3, n):\n",
    "    dp[i] = max(dp[i-2]+stairs[i], dp[i-3]+stairs[i-1]+stairs[i])\n",
    "    \n",
    "print(dp[n-1])"
   ]
  },
  {
   "cell_type": "markdown",
   "metadata": {},
   "source": [
    "### [1463] [1로 만들기](https://www.acmicpc.net/problem/1463)\n",
    "정수 X에 사용할 수 있는 연산은 다음과 같이 세 가지 이다.\n",
    "\n",
    "1. X가 3으로 나누어 떨어지면, 3으로 나눈다.\n",
    "2. X가 2로 나누어 떨어지면, 2로 나눈다.\n",
    "3. 1을 뺀다.\n",
    "\n",
    "정수 N이 주어졌을 때, 위와 같은 연산 세 개를 적절히 사용해서 1을 만들려고 한다. 연산을 사용하는 횟수의 최솟값을 출력하시오."
   ]
  },
  {
   "cell_type": "code",
   "execution_count": 6,
   "metadata": {},
   "outputs": [
    {
     "name": "stdout",
     "output_type": "stream",
     "text": [
      "21\n",
      "4\n"
     ]
    }
   ],
   "source": [
    "n = int(input())\n",
    "dp = []\n",
    "cnt = 0\n",
    "while n != 1:\n",
    "    cnt += 1\n",
    "    if n%3 == 1 or n%3==2:\n",
    "        n-=1\n",
    "    elif n%3 == 0:\n",
    "        n //= 3\n",
    "    elif n%2 == 0:\n",
    "        n //= 2\n",
    "    else:\n",
    "        n -= 1\n",
    "print(cnt)"
   ]
  },
  {
   "cell_type": "code",
   "execution_count": 3,
   "metadata": {},
   "outputs": [
    {
     "name": "stdout",
     "output_type": "stream",
     "text": [
      "10\n",
      "[0, 0, 1, 0, 0, 0, 0, 0, 0, 0, 0, 0]\n",
      "[0, 0, 1, 1, 0, 0, 0, 0, 0, 0, 0, 0]\n",
      "[0, 0, 1, 1, 2, 0, 0, 0, 0, 0, 0, 0]\n",
      "[0, 0, 1, 1, 2, 3, 0, 0, 0, 0, 0, 0]\n",
      "[0, 0, 1, 1, 2, 3, 2, 0, 0, 0, 0, 0]\n",
      "[0, 0, 1, 1, 2, 3, 2, 3, 0, 0, 0, 0]\n",
      "[0, 0, 1, 1, 2, 3, 2, 3, 3, 0, 0, 0]\n",
      "[0, 0, 1, 1, 2, 3, 2, 3, 3, 2, 0, 0]\n",
      "[0, 0, 1, 1, 2, 3, 2, 3, 3, 2, 3, 0]\n",
      "[0, 0, 1, 1, 2, 3, 2, 3, 3, 2, 3, 4]\n",
      "3\n"
     ]
    }
   ],
   "source": [
    "'''\n",
    "1 -> 0\n",
    "2 -> 2//2 (1)\n",
    "3 -> 3//3 (1)\n",
    "4 -> 4//2//2 (2)\n",
    "5 -> (5-1)//2//2 (3)\n",
    "6 -> 6//3//2 (2)\n",
    "9 -> 9//3//3 \n",
    "'''\n",
    "n = int(input())\n",
    "dp = [0 for _ in range(n+2)]\n",
    "dp[2] = 1\n",
    " \n",
    "for i in range(2, len(dp)):\n",
    "    dp[i] = dp[i-1]+1\n",
    "    \n",
    "    if i%3 == 0:\n",
    "        if dp[i] > dp[i//3]+1:\n",
    "            dp[i] = dp[i//3]+1\n",
    "    if i%2 == 0:\n",
    "        if dp[i] > dp[i//2]+1:\n",
    "            dp[i] =dp[i//2]+1\n",
    "    print(dp)\n",
    "            \n",
    "print(dp[n])"
   ]
  },
  {
   "cell_type": "code",
   "execution_count": null,
   "metadata": {},
   "outputs": [],
   "source": []
  }
 ],
 "metadata": {
  "kernelspec": {
   "display_name": "Python 3",
   "language": "python",
   "name": "python3"
  },
  "language_info": {
   "codemirror_mode": {
    "name": "ipython",
    "version": 3
   },
   "file_extension": ".py",
   "mimetype": "text/x-python",
   "name": "python",
   "nbconvert_exporter": "python",
   "pygments_lexer": "ipython3",
   "version": "3.8.3"
  }
 },
 "nbformat": 4,
 "nbformat_minor": 4
}
