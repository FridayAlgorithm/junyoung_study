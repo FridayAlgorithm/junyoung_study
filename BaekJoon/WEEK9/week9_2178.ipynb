{
 "cells": [
  {
   "cell_type": "markdown",
   "metadata": {},
   "source": [
    "### [2178] [미로 탐색](https://www.acmicpc.net/problem/2178)\n",
    "미로에서 1은 이동할 수 있는 칸을 나타내고, 0은 이동할 수 없는 칸을 나타낸다. 이러한 미로가 주어졌을 때, (1, 1)에서 출발하여 (N, M)의 위치로 이동할 때 지나야 하는 최소의 칸 수를 구하는 프로그램을 작성하시오. 한 칸에서 다른 칸으로 이동할 때, 서로 인접한 칸으로만 이동할 수 있다.\n",
    "\n",
    "위의 예에서는 15칸을 지나야 (N, M)의 위치로 이동할 수 있다. 칸을 셀 때에는 시작 위치와 도착 위치도 포함한다."
   ]
  },
  {
   "cell_type": "markdown",
   "metadata": {},
   "source": [
    "**[내가 생각하는 풀이]**\n",
    " + dfs, bfs 문제\n",
    " + 동서남북을 체크하면서 1로만 이동\n",
    " + 어떻게 n, m까지 이동?\n",
    "     + 이전에 갔단 곳으로 다시 가지 않기 위해 현재 도착한 곳을 0\n",
    "     + 이동 횟수를 튜플에 저장\n",
    " + 시작 위치와 도착 위치도 포함 -> count 1로 초기화, 마지막에 1을 더하기\n",
    " \n",
    "→ 토마토 문제(7576)와 비슷"
   ]
  },
  {
   "cell_type": "code",
   "execution_count": 20,
   "metadata": {},
   "outputs": [
    {
     "name": "stdout",
     "output_type": "stream",
     "text": [
      "7 7\n",
      "1011111\n",
      "1110001\n",
      "1000001\n",
      "1000001\n",
      "1000001\n",
      "1000001\n",
      "1111111\n",
      "0 0 0\n",
      "1 0 1\n",
      "2 0 2\n",
      "1 1 2\n",
      "3 0 3\n",
      "1 2 3\n",
      "4 0 4\n",
      "0 2 4\n",
      "5 0 5\n",
      "0 3 5\n",
      "6 0 6\n",
      "0 4 6\n",
      "6 1 7\n",
      "0 5 7\n",
      "6 2 8\n",
      "0 6 8\n",
      "6 3 9\n",
      "1 6 9\n",
      "6 4 10\n",
      "2 6 10\n",
      "6 5 11\n",
      "3 6 11\n",
      "6 6 12\n",
      "13\n"
     ]
    }
   ],
   "source": [
    "from collections import deque\n",
    "n, m = map(int, input().split())\n",
    "miro = [list(input()) for _ in range(n)]\n",
    "\n",
    "dy = [-1, 1, 0, 0]\n",
    "dx = [0, 0, 1, -1]\n",
    "deque = deque()\n",
    "def bfs(y, x):\n",
    "    way = 1\n",
    "    deque.append((x, y, 0))\n",
    "    while deque:\n",
    "        my, mx, way = deque.popleft()\n",
    "        if my == n-1 and mx == m-1:\n",
    "            break\n",
    "        for i in range(4):\n",
    "            ny = my+dy[i]\n",
    "            nx = mx+dx[i]\n",
    "            if ny>=0 and ny<n and nx>=0 and nx<m:\n",
    "                if miro[ny][nx] == '1':\n",
    "                    deque.append((ny, nx, way+1))\n",
    "                    miro[ny][nx] = '0'\n",
    "    return way\n",
    "        \n",
    "miro[0][0] = '0'\n",
    "answer = bfs(0, 0)\n",
    "print(answer+1)\n"
   ]
  },
  {
   "cell_type": "code",
   "execution_count": null,
   "metadata": {},
   "outputs": [],
   "source": []
  }
 ],
 "metadata": {
  "kernelspec": {
   "display_name": "Python 3",
   "language": "python",
   "name": "python3"
  },
  "language_info": {
   "codemirror_mode": {
    "name": "ipython",
    "version": 3
   },
   "file_extension": ".py",
   "mimetype": "text/x-python",
   "name": "python",
   "nbconvert_exporter": "python",
   "pygments_lexer": "ipython3",
   "version": "3.8.3"
  }
 },
 "nbformat": 4,
 "nbformat_minor": 4
}
