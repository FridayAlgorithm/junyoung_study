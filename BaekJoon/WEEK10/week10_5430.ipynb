{
 "cells": [
  {
   "cell_type": "markdown",
   "metadata": {},
   "source": [
    "### [5430] [AC](https://www.acmicpc.net/problem/5430)\n",
    "선영이는 주말에 할 일이 없어서 새로운 언어 AC를 만들었다. AC는 정수 배열에 연산을 하기 위해 만든 언어이다. 이 언어에는 두 가지 함수 R(뒤집기)과 D(버리기)가 있다.\n",
    "\n",
    "함수 R은 배열에 있는 숫자의 순서를 뒤집는 함수이고, D는 첫 번째 숫자를 버리는 함수이다. 배열이 비어있는데 D를 사용한 경우에는 에러가 발생한다.\n",
    "\n",
    "함수는 조합해서 한 번에 사용할 수 있다. 예를 들어, \"AB\"는 A를 수행한 다음에 바로 이어서 B를 수행하는 함수이다. 예를 들어, \"RDD\"는 배열을 뒤집은 다음 처음 두 숫자를 버리는 함수이다.\n",
    "\n",
    "배열의 초기값과 수행할 함수가 주어졌을 때, 최종 결과를 구하는 프로그램을 작성하시오."
   ]
  },
  {
   "cell_type": "code",
   "execution_count": 30,
   "metadata": {},
   "outputs": [
    {
     "name": "stdout",
     "output_type": "stream",
     "text": [
      "1\n",
      "D\n",
      "0\n",
      "[]\n",
      "['']\n",
      "error\n"
     ]
    }
   ],
   "source": [
    "from collections import deque\n",
    "t = int(input())\n",
    "\n",
    "def AC(nums, order):\n",
    "    nums = deque(nums[:len(nums)])\n",
    "    order = order.replace(\"RR\", \"\")\n",
    "    for o in order:\n",
    "        if o == 'R':\n",
    "            nums.reverse()\n",
    "        else:\n",
    "            if len(nums) == 0:\n",
    "                print(\"error\")\n",
    "                return\n",
    "            else:\n",
    "                nums.popleft()\n",
    "    print('['+','.join(nums)+']')\n",
    "    return\n",
    "    \n",
    "\n",
    "for _ in range(t):\n",
    "    order = input()\n",
    "    n = int(input())\n",
    "    nums = input().strip()[1:-1].split(',')\n",
    "    if nums[0] == '':\n",
    "        nums = []\n",
    "    AC(nums, order)"
   ]
  },
  {
   "cell_type": "code",
   "execution_count": 27,
   "metadata": {},
   "outputs": [
    {
     "name": "stdout",
     "output_type": "stream",
     "text": [
      "[]\n",
      "['']\n",
      "1\n",
      "deque([''])\n"
     ]
    }
   ],
   "source": [
    "nums = input().strip()[1:-1].split(',')\n",
    "print(nums)\n",
    "nums = deque(nums[:len(nums)])\n",
    "print(len(nums))\n",
    "print(nums)"
   ]
  },
  {
   "cell_type": "code",
   "execution_count": null,
   "metadata": {},
   "outputs": [],
   "source": []
  }
 ],
 "metadata": {
  "kernelspec": {
   "display_name": "Python 3",
   "language": "python",
   "name": "python3"
  },
  "language_info": {
   "codemirror_mode": {
    "name": "ipython",
    "version": 3
   },
   "file_extension": ".py",
   "mimetype": "text/x-python",
   "name": "python",
   "nbconvert_exporter": "python",
   "pygments_lexer": "ipython3",
   "version": "3.8.3"
  }
 },
 "nbformat": 4,
 "nbformat_minor": 4
}
