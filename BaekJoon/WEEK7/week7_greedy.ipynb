{
 "cells": [
  {
   "cell_type": "markdown",
   "metadata": {},
   "source": [
    "### [13305] [주유소](https://www.acmicpc.net/problem/13305)\n",
    "어떤 나라에 N개의 도시가 있다. 이 도시들은 일직선 도로 위에 있다. 편의상 일직선을 수평 방향으로 두자. 제일 왼쪽의 도시에서 제일 오른쪽의 도시로 자동차를 이용하여 이동하려고 한다. 인접한 두 도시 사이의 도로들은 서로 길이가 다를 수 있다. 도로 길이의 단위는 km를 사용한다.\n",
    "\n",
    "처음 출발할 때 자동차에는 기름이 없어서 주유소에서 기름을 넣고 출발하여야 한다. 기름통의 크기는 무제한이어서 얼마든지 많은 기름을 넣을 수 있다. 도로를 이용하여 이동할 때 1km마다 1리터의 기름을 사용한다. 각 도시에는 단 하나의 주유소가 있으며, 도시 마다 주유소의 리터당 가격은 다를 수 있다. 가격의 단위는 원을 사용한다.\n",
    "\n",
    "예를 들어, 이 나라에 다음 그림처럼 4개의 도시가 있다고 하자. 원 안에 있는 숫자는 그 도시에 있는 주유소의 리터당 가격이다. 도로 위에 있는 숫자는 도로의 길이를 표시한 것이다. \n",
    "\n",
    "\n",
    "\n",
    "제일 왼쪽 도시에서 6리터의 기름을 넣고, 더 이상의 주유 없이 제일 오른쪽 도시까지 이동하면 총 비용은 30원이다. 만약 제일 왼쪽 도시에서 2리터의 기름을 넣고(2×5 = 10원) 다음 번 도시까지 이동한 후 3리터의 기름을 넣고(3×2 = 6원) 다음 도시에서 1리터의 기름을 넣어(1×4 = 4원) 제일 오른쪽 도시로 이동하면, 총 비용은 20원이다. 또 다른 방법으로 제일 왼쪽 도시에서 2리터의 기름을 넣고(2×5 = 10원) 다음 번 도시까지 이동한 후 4리터의 기름을 넣고(4×2 = 8원) 제일 오른쪽 도시까지 이동하면, 총 비용은 18원이다.\n",
    "\n",
    "각 도시에 있는 주유소의 기름 가격과, 각 도시를 연결하는 도로의 길이를 입력으로 받아 제일 왼쪽 도시에서 제일 오른쪽 도시로 이동하는 최소의 비용을 계산하는 프로그램을 작성하시오."
   ]
  },
  {
   "cell_type": "code",
   "execution_count": 42,
   "metadata": {},
   "outputs": [
    {
     "name": "stdout",
     "output_type": "stream",
     "text": [
      "7\n",
      "3 2 1 1 2 3\n",
      "3 2 5 9 7 1 3\n",
      "24\n"
     ]
    }
   ],
   "source": [
    "n = int(input())\n",
    "road = list(map(int, input().split()))\n",
    "oil = list(map(int, input().split()))\n",
    "\n",
    "pay = 0\n",
    "i = 1\n",
    "low = 0\n",
    "while i < len(oil):\n",
    "    # 최저 기름값이 없는 경우\n",
    "    if low == 0:\n",
    "        # 이전 기름값이 지금 기름값보다 같거나 작은 경우 -> 최저 갱신\n",
    "        if oil[i-1] <= oil[i]:\n",
    "            low = oil[i-1]\n",
    "            pay += low*road[i-1]\n",
    "        # 이전 기름값이 지금 기름값보다 큰 경우 -> 1회성 기름값\n",
    "        else:\n",
    "            pay += oil[i-1]*road[i-1]\n",
    "            \n",
    "    # 최저 기름값이 있는 경우\n",
    "    else:\n",
    "        # 현재 기름값이 최저 기름값보다 크거나 같은 경우\n",
    "        if low <= oil[i]:\n",
    "            pay += low*road[i-1]\n",
    "        # 현재 기름값이 최저 기름값보다 작은 경우 -> 최저 갱신\n",
    "        else:\n",
    "            pay += low*road[i-1]\n",
    "            low = oil[i]\n",
    "    i += 1\n",
    "\n",
    "print(pay)"
   ]
  },
  {
   "cell_type": "code",
   "execution_count": 43,
   "metadata": {},
   "outputs": [
    {
     "name": "stdout",
     "output_type": "stream",
     "text": [
      "7\n",
      "3 2 1 1 2 3\n",
      "3 2 5 9 7 1 3\n",
      "24\n"
     ]
    }
   ],
   "source": [
    "n = int(input())\n",
    "road = list(map(int, input().split()))\n",
    "oil = list(map(int, input().split()))\n",
    "\n",
    "pay = 0\n",
    "low_money = oil[0]\n",
    "for i in range(n-1):\n",
    "    if oil[i] < low_money:\n",
    "        low_money = oil[i]\n",
    "    pay += low_money*road[i]\n",
    "    \n",
    "print(pay)"
   ]
  },
  {
   "cell_type": "code",
   "execution_count": null,
   "metadata": {},
   "outputs": [],
   "source": []
  }
 ],
 "metadata": {
  "kernelspec": {
   "display_name": "Python 3",
   "language": "python",
   "name": "python3"
  },
  "language_info": {
   "codemirror_mode": {
    "name": "ipython",
    "version": 3
   },
   "file_extension": ".py",
   "mimetype": "text/x-python",
   "name": "python",
   "nbconvert_exporter": "python",
   "pygments_lexer": "ipython3",
   "version": "3.8.3"
  }
 },
 "nbformat": 4,
 "nbformat_minor": 4
}
