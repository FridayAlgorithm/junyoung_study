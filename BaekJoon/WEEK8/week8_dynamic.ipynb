{
 "cells": [
  {
   "cell_type": "markdown",
   "metadata": {},
   "source": [
    "### [11053] [가장 긴 증가하는 부분 수열](https://www.acmicpc.net/problem/11053)\n",
    "수열 A가 주어졌을 때, 가장 긴 증가하는 부분 수열을 구하는 프로그램을 작성하시오.\n",
    "\n",
    "예를 들어, 수열 A = {10, 20, 10, 30, 20, 50} 인 경우에 가장 긴 증가하는 부분 수열은 A = {**10, 20**, 10, **30**, 20, **50**} 이고, 길이는 4이다."
   ]
  },
  {
   "cell_type": "code",
   "execution_count": 6,
   "metadata": {},
   "outputs": [
    {
     "name": "stdout",
     "output_type": "stream",
     "text": [
      "6\n",
      "10 20 10 30 20 50\n",
      "[1, 2, 1, 1, 1, 1]\n",
      "[1, 2, 1, 1, 1, 1]\n",
      "[1, 2, 1, 3, 1, 1]\n",
      "[1, 2, 1, 3, 2, 1]\n",
      "[1, 2, 1, 3, 2, 4]\n",
      "4\n"
     ]
    }
   ],
   "source": [
    "n = int(input())\n",
    "nums = list(map(int, input().split()))\n",
    "cnt = [1]*n\n",
    "\n",
    "for i in range(1, n):\n",
    "    for j in range(i):\n",
    "        if nums[j] < nums[i]:\n",
    "            cnt[i] = max(cnt[i], cnt[j]+1)\n",
    "            \n",
    "print(max(cnt))"
   ]
  },
  {
   "cell_type": "markdown",
   "metadata": {},
   "source": [
    "### [11054] [가장 긴 바이토닉 부분 수열](https://www.acmicpc.net/problem/11054)\n",
    "수열 S가 어떤 수 Sk를 기준으로 S1 < S2 < ... Sk-1 < Sk > Sk+1 > ... SN-1 > SN을 만족한다면, 그 수열을 바이토닉 수열이라고 한다.\n",
    "\n",
    "예를 들어, {10, 20, 30, 25, 20}과 {10, 20, 30, 40}, {50, 40, 25, 10} 은 바이토닉 수열이지만,  {1, 2, 3, 2, 1, 2, 3, 2, 1}과 {10, 20, 30, 40, 20, 30} 은 바이토닉 수열이 아니다.\n",
    "\n",
    "수열 A가 주어졌을 때, 그 수열의 부분 수열 중 바이토닉 수열이면서 가장 긴 수열의 길이를 구하는 프로그램을 작성하시오."
   ]
  },
  {
   "cell_type": "code",
   "execution_count": 31,
   "metadata": {},
   "outputs": [
    {
     "name": "stdout",
     "output_type": "stream",
     "text": [
      "10\n",
      "1 5 2 1 4 3 4 5 2 1\n",
      "8\n"
     ]
    }
   ],
   "source": [
    "n = int(input())\n",
    "nums = list(map(int, input().split()))\n",
    "increase = [1]*n\n",
    "decrease = [1]*n\n",
    "cnt = [0]*n\n",
    "\n",
    "for i in range(1, n):\n",
    "    for j in range(i):\n",
    "        if nums[j] < nums[i]:\n",
    "            increase[i] = max(increase[i], increase[j]+1)\n",
    "\n",
    "for i in range(n-1, -1, -1):\n",
    "    for j in range(n-1, i, -1):\n",
    "        if nums[j] < nums[i]:\n",
    "            decrease[i] = max(decrease[i], decrease[j]+1)\n",
    "    cnt[i] = increase[i]+decrease[i]-1\n",
    "print(max(cnt))\n"
   ]
  },
  {
   "cell_type": "code",
   "execution_count": null,
   "metadata": {},
   "outputs": [],
   "source": []
  }
 ],
 "metadata": {
  "kernelspec": {
   "display_name": "Python 3",
   "language": "python",
   "name": "python3"
  },
  "language_info": {
   "codemirror_mode": {
    "name": "ipython",
    "version": 3
   },
   "file_extension": ".py",
   "mimetype": "text/x-python",
   "name": "python",
   "nbconvert_exporter": "python",
   "pygments_lexer": "ipython3",
   "version": "3.8.3"
  }
 },
 "nbformat": 4,
 "nbformat_minor": 4
}
