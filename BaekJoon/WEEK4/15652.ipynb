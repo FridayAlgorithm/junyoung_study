{
 "cells": [
  {
   "cell_type": "markdown",
   "metadata": {},
   "source": [
    "### [백트래킹] [N과 M (4)](acmicpc.net/problem/15652)\n",
    "\n",
    "자연수 N과 M이 주어졌을 때, 아래 조건을 만족하는 길이가 M인 수열을 모두 구하는 프로그램을 작성하시오.\n",
    "\n",
    "+ 1부터 N까지 자연수 중에서 M개를 고른 수열\n",
    "+ 같은 수를 여러 번 골라도 된다.\n",
    "+ 고른 수열은 비내림차순이어야 한다.\n",
    "    + 길이가 K인 수열 A가 A1 ≤ A2 ≤ ... ≤ AK-1 ≤ AK를 만족하면, 비내림차순이라고 한다."
   ]
  },
  {
   "cell_type": "code",
   "execution_count": 4,
   "metadata": {},
   "outputs": [
    {
     "name": "stdout",
     "output_type": "stream",
     "text": [
      "4 2\n",
      "1 1\n",
      "1 2\n",
      "1 3\n",
      "1 4\n",
      "2 2\n",
      "2 3\n",
      "2 4\n",
      "3 3\n",
      "3 4\n",
      "4 4\n"
     ]
    }
   ],
   "source": [
    "# 시간초과\n",
    "n, m = map(int, input().split())\n",
    "out, out_all = [], []\n",
    "\n",
    "def DFS(depth):\n",
    "    if depth == m:\n",
    "        out_str = ' '.join(map(str, sorted(out)))\n",
    "        if out_str not in out_all:\n",
    "            out_all.append(out_str)\n",
    "        return\n",
    "    for i in range(n):\n",
    "        out.append(i+1)\n",
    "        DFS(depth+1)\n",
    "        out.pop()\n",
    "\n",
    "DFS(0)\n",
    "\n",
    "for i in out_all:\n",
    "    print(i)"
   ]
  },
  {
   "cell_type": "code",
   "execution_count": 12,
   "metadata": {},
   "outputs": [
    {
     "name": "stdout",
     "output_type": "stream",
     "text": [
      "4 2\n",
      "1 1\n",
      "1 2\n",
      "1 3\n",
      "1 4\n",
      "2 2\n",
      "2 3\n",
      "2 4\n",
      "3 3\n",
      "3 4\n",
      "4 4\n"
     ]
    }
   ],
   "source": [
    "n, m = map(int, input().split())\n",
    "out = []\n",
    "\n",
    "def DFS(depth, now):\n",
    "    if depth == m:\n",
    "        print(*out)\n",
    "        return\n",
    "    for i in range(now, n+1):\n",
    "        out.append(i)\n",
    "        DFS(depth+1, i)\n",
    "        out.pop()\n",
    "\n",
    "DFS(0, 1)\n",
    "\n"
   ]
  },
  {
   "cell_type": "code",
   "execution_count": null,
   "metadata": {},
   "outputs": [],
   "source": []
  }
 ],
 "metadata": {
  "kernelspec": {
   "display_name": "Python 3",
   "language": "python",
   "name": "python3"
  },
  "language_info": {
   "codemirror_mode": {
    "name": "ipython",
    "version": 3
   },
   "file_extension": ".py",
   "mimetype": "text/x-python",
   "name": "python",
   "nbconvert_exporter": "python",
   "pygments_lexer": "ipython3",
   "version": "3.8.3"
  }
 },
 "nbformat": 4,
 "nbformat_minor": 4
}
