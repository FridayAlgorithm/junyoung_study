{
 "cells": [
  {
   "cell_type": "markdown",
   "metadata": {},
   "source": [
    "# CodeUp 기초 100제\n",
    "[codeup 기초 100제 문제집](https://codeup.kr/problemsetsol.php?psid=23)\n",
    "## < 출력>\n",
    ": 기초 입출력, 출력 변환"
   ]
  },
  {
   "cell_type": "code",
   "execution_count": 1,
   "metadata": {},
   "outputs": [
    {
     "name": "stdout",
     "output_type": "stream",
     "text": [
      "Hello\n"
     ]
    }
   ],
   "source": [
    "# 1001\n",
    "print('Hello')"
   ]
  },
  {
   "cell_type": "code",
   "execution_count": 2,
   "metadata": {},
   "outputs": [
    {
     "name": "stdout",
     "output_type": "stream",
     "text": [
      "Hello World\n"
     ]
    }
   ],
   "source": [
    "# 1002\n",
    "print('Hello World')"
   ]
  },
  {
   "cell_type": "code",
   "execution_count": 3,
   "metadata": {},
   "outputs": [
    {
     "name": "stdout",
     "output_type": "stream",
     "text": [
      "Hello\n",
      "World\n"
     ]
    }
   ],
   "source": [
    "# 1003\n",
    "print('Hello\\nWorld')"
   ]
  },
  {
   "cell_type": "code",
   "execution_count": 4,
   "metadata": {},
   "outputs": [
    {
     "name": "stdout",
     "output_type": "stream",
     "text": [
      "'Hello'\n"
     ]
    }
   ],
   "source": [
    "# 1004\n",
    "print('\\'Hello\\'')"
   ]
  },
  {
   "cell_type": "code",
   "execution_count": 5,
   "metadata": {},
   "outputs": [
    {
     "name": "stdout",
     "output_type": "stream",
     "text": [
      "\"Hello World\"\n"
     ]
    }
   ],
   "source": [
    "# 1005\n",
    "print('\\\"Hello World\\\"')"
   ]
  },
  {
   "cell_type": "code",
   "execution_count": 6,
   "metadata": {},
   "outputs": [
    {
     "name": "stdout",
     "output_type": "stream",
     "text": [
      "\"!@#$%^&*()\"\n"
     ]
    }
   ],
   "source": [
    "# 1006\n",
    "print('\\\"!@#$%^&*()\\\"')"
   ]
  },
  {
   "cell_type": "code",
   "execution_count": 7,
   "metadata": {},
   "outputs": [
    {
     "name": "stdout",
     "output_type": "stream",
     "text": [
      "\"C:\\Download\\hello.cpp\"\n"
     ]
    }
   ],
   "source": [
    "# 1007\n",
    "print('\\\"C:\\Download\\hello.cpp\\\"')"
   ]
  },
  {
   "cell_type": "code",
   "execution_count": 8,
   "metadata": {},
   "outputs": [
    {
     "name": "stdout",
     "output_type": "stream",
     "text": [
      "┌┬┐\n",
      "├┼┤\n",
      "└┴┘\n"
     ]
    }
   ],
   "source": [
    "# 1008\n",
    "print('\\u250C\\u252C\\u2510\\n\\u251C\\u253C\\u2524\\n\\u2514\\u2534\\u2518')"
   ]
  },
  {
   "cell_type": "code",
   "execution_count": 9,
   "metadata": {},
   "outputs": [
    {
     "name": "stdout",
     "output_type": "stream",
     "text": [
      "10\n",
      "10\n"
     ]
    }
   ],
   "source": [
    "# 1010\n",
    "num = int(input())\n",
    "print(num)"
   ]
  },
  {
   "cell_type": "code",
   "execution_count": 10,
   "metadata": {},
   "outputs": [
    {
     "name": "stdout",
     "output_type": "stream",
     "text": [
      "yes\n",
      "yes\n"
     ]
    }
   ],
   "source": [
    "# 1011\n",
    "c = input()\n",
    "print(c)"
   ]
  },
  {
   "cell_type": "code",
   "execution_count": 11,
   "metadata": {},
   "outputs": [
    {
     "name": "stdout",
     "output_type": "stream",
     "text": [
      "yes no\n",
      "yes\n",
      "no\n"
     ]
    }
   ],
   "source": [
    "# 1013\n",
    "a, b = input().split()\n",
    "print(a)\n",
    "print(b)"
   ]
  },
  {
   "cell_type": "code",
   "execution_count": 12,
   "metadata": {},
   "outputs": [
    {
     "name": "stdout",
     "output_type": "stream",
     "text": [
      "yes no\n",
      "no yes\n"
     ]
    }
   ],
   "source": [
    "# 1014\n",
    "a, b = input().split()\n",
    "print(b, a)"
   ]
  },
  {
   "cell_type": "code",
   "execution_count": 13,
   "metadata": {},
   "outputs": [
    {
     "name": "stdout",
     "output_type": "stream",
     "text": [
      "0.12345\n",
      "0.12\n"
     ]
    }
   ],
   "source": [
    "# 1015\n",
    "i = input()\n",
    "print(\"%.2f\" % float(i))"
   ]
  },
  {
   "cell_type": "code",
   "execution_count": 14,
   "metadata": {},
   "outputs": [
    {
     "name": "stdout",
     "output_type": "stream",
     "text": [
      "x\n",
      "x x x\n"
     ]
    }
   ],
   "source": [
    "# 1017\n",
    "a = input()\n",
    "print(a, a, a)"
   ]
  },
  {
   "cell_type": "code",
   "execution_count": 15,
   "metadata": {},
   "outputs": [
    {
     "name": "stdout",
     "output_type": "stream",
     "text": [
      "19:24\n",
      "19:24\n"
     ]
    }
   ],
   "source": [
    "# 1018\n",
    "h, m = input().split(':')\n",
    "print(h, m, sep=':')"
   ]
  },
  {
   "cell_type": "code",
   "execution_count": 17,
   "metadata": {},
   "outputs": [
    {
     "name": "stdout",
     "output_type": "stream",
     "text": [
      "2021.1.1\n",
      "2021.01.01\n"
     ]
    }
   ],
   "source": [
    "# 1019\n",
    "y, m, d = map(int, input().split('.'))\n",
    "print('%04d.%02d.%02d' % (y,m,d))"
   ]
  },
  {
   "cell_type": "code",
   "execution_count": 18,
   "metadata": {},
   "outputs": [
    {
     "name": "stdout",
     "output_type": "stream",
     "text": [
      "12-03\n",
      "1203\n"
     ]
    }
   ],
   "source": [
    "# 1020\n",
    "a, b = input().split('-')\n",
    "print(a+b)"
   ]
  },
  {
   "cell_type": "code",
   "execution_count": 19,
   "metadata": {},
   "outputs": [
    {
     "name": "stdout",
     "output_type": "stream",
     "text": [
      "android\n",
      "android\n"
     ]
    }
   ],
   "source": [
    "# 1021\n",
    "a = input()\n",
    "print(a)"
   ]
  },
  {
   "cell_type": "code",
   "execution_count": 21,
   "metadata": {},
   "outputs": [
    {
     "name": "stdout",
     "output_type": "stream",
     "text": [
      "i will be the android developer.\n",
      "i will be the android developer.\n"
     ]
    }
   ],
   "source": [
    "# 1022\n",
    "a = input()\n",
    "print(a)"
   ]
  },
  {
   "cell_type": "code",
   "execution_count": 22,
   "metadata": {},
   "outputs": [
    {
     "name": "stdout",
     "output_type": "stream",
     "text": [
      "13.23154\n",
      "13\n",
      "23154\n"
     ]
    }
   ],
   "source": [
    "# 1023\n",
    "a, b = input().split('.')\n",
    "print(a)\n",
    "print(b)"
   ]
  },
  {
   "cell_type": "code",
   "execution_count": 23,
   "metadata": {},
   "outputs": [
    {
     "name": "stdout",
     "output_type": "stream",
     "text": [
      "Cow\n",
      "'C'\n",
      "'o'\n",
      "'w'\n"
     ]
    }
   ],
   "source": [
    "# 1024\n",
    "a = input()\n",
    "ch = list(a)\n",
    "for i in range(len(ch)):\n",
    "    print('\\'', end='')\n",
    "    print(ch[i], end='')\n",
    "    print('\\'')"
   ]
  },
  {
   "cell_type": "code",
   "execution_count": 24,
   "metadata": {},
   "outputs": [
    {
     "name": "stdout",
     "output_type": "stream",
     "text": [
      "75254\n",
      "[70000]\n",
      "[5000]\n",
      "[200]\n",
      "[50]\n",
      "[4]\n"
     ]
    }
   ],
   "source": [
    "# 1025\n",
    "num = int(input())\n",
    "cnt = 10000\n",
    "for i in range(0, 5):\n",
    "    now = int(num/cnt)\n",
    "    result = int(now*cnt)\n",
    "    print('[', end=\"\")\n",
    "    print(result, end=\"\")\n",
    "    print(']')\n",
    "    num -= result\n",
    "    cnt /= 10"
   ]
  },
  {
   "cell_type": "code",
   "execution_count": 27,
   "metadata": {},
   "outputs": [
    {
     "name": "stdout",
     "output_type": "stream",
     "text": [
      "23:21:19\n",
      "21\n"
     ]
    }
   ],
   "source": [
    "# 1026\n",
    "h, m, s = input().split(':')\n",
    "print(int(m))"
   ]
  },
  {
   "cell_type": "code",
   "execution_count": 28,
   "metadata": {},
   "outputs": [
    {
     "name": "stdout",
     "output_type": "stream",
     "text": [
      "2021.12.03\n",
      "03-12-2021\n"
     ]
    }
   ],
   "source": [
    "# 1027\n",
    "y, m, d = input().split('.')\n",
    "print(d, end=\"\")\n",
    "print('-', end=\"\")\n",
    "print(m, end=\"\")\n",
    "print('-', end=\"\")\n",
    "print(y)"
   ]
  },
  {
   "cell_type": "code",
   "execution_count": 29,
   "metadata": {},
   "outputs": [
    {
     "name": "stdout",
     "output_type": "stream",
     "text": [
      "23\n",
      "23\n"
     ]
    }
   ],
   "source": [
    "# 1028\n",
    "num = int(input())\n",
    "print(num)"
   ]
  },
  {
   "cell_type": "code",
   "execution_count": 30,
   "metadata": {},
   "outputs": [
    {
     "name": "stdout",
     "output_type": "stream",
     "text": [
      "3.14159265359\n",
      "3.14159265359\n"
     ]
    }
   ],
   "source": [
    "# 1029\n",
    "num = float(input())\n",
    "print('%.11lf' % num)"
   ]
  },
  {
   "cell_type": "code",
   "execution_count": 31,
   "metadata": {},
   "outputs": [
    {
     "name": "stdout",
     "output_type": "stream",
     "text": [
      "22\n",
      "22\n"
     ]
    }
   ],
   "source": [
    "# 1030\n",
    "num = int(input())\n",
    "print(num)"
   ]
  },
  {
   "cell_type": "markdown",
   "metadata": {},
   "source": [
    "### 진수 변환\n",
    "+ **10진수 → 2, 8, 16진수**\n",
    "    + bin(int형 정수), oct(int형 정수), hex(int형 정수)\n",
    "    + format(int형 정수, '진수')\n",
    "        + '진수' : 'b', 'o', 'x' (접두어X), '#b', '#o', '#x' (접두어O)\n",
    "<br><br>\n",
    "+ **2, 8, 16진수 → 10진수**\n",
    "    + int(문자열, 진수(int, ex: 2, 8, 16))"
   ]
  },
  {
   "cell_type": "code",
   "execution_count": 32,
   "metadata": {},
   "outputs": [
    {
     "name": "stdout",
     "output_type": "stream",
     "text": [
      "12\n",
      "14\n"
     ]
    }
   ],
   "source": [
    "# 1031\n",
    "a = int(input())\n",
    "o = format(a, 'o')\n",
    "print(o)"
   ]
  },
  {
   "cell_type": "code",
   "execution_count": 33,
   "metadata": {},
   "outputs": [
    {
     "name": "stdout",
     "output_type": "stream",
     "text": [
      "255\n",
      "ff\n"
     ]
    }
   ],
   "source": [
    "# 1032\n",
    "n = int(input())\n",
    "h = format(n, 'x')\n",
    "print(h)"
   ]
  },
  {
   "cell_type": "code",
   "execution_count": 1,
   "metadata": {},
   "outputs": [
    {
     "name": "stdout",
     "output_type": "stream",
     "text": [
      "255\n",
      "FF\n"
     ]
    }
   ],
   "source": [
    "# 1033\n",
    "n = int(input())\n",
    "h = format(n, 'X')\n",
    "print(h)"
   ]
  },
  {
   "cell_type": "code",
   "execution_count": 2,
   "metadata": {},
   "outputs": [
    {
     "name": "stdout",
     "output_type": "stream",
     "text": [
      "13\n",
      "11\n"
     ]
    }
   ],
   "source": [
    "# 1034\n",
    "n = input()\n",
    "i = int(n, 8)\n",
    "print(i)"
   ]
  },
  {
   "cell_type": "code",
   "execution_count": 29,
   "metadata": {},
   "outputs": [
    {
     "name": "stdout",
     "output_type": "stream",
     "text": [
      "f\n",
      "17\n"
     ]
    }
   ],
   "source": [
    "# 1035\n",
    "num = input()\n",
    "i = int(num, 16)\n",
    "o = format(i, 'o')\n",
    "print(o)"
   ]
  },
  {
   "cell_type": "markdown",
   "metadata": {},
   "source": [
    "### 아스키코드\n",
    "+ **문자 → 아스키코드**\n",
    "    + ord(문자열)\n",
    "<br><br>\n",
    "+ **아스키코드 → 문자**\n",
    "    + chr(아스키코드)"
   ]
  },
  {
   "cell_type": "code",
   "execution_count": 1,
   "metadata": {},
   "outputs": [
    {
     "name": "stdout",
     "output_type": "stream",
     "text": [
      "A\n",
      "65\n"
     ]
    }
   ],
   "source": [
    "# 1036\n",
    "n = input()\n",
    "i = ord(n)\n",
    "print(i)"
   ]
  },
  {
   "cell_type": "code",
   "execution_count": 5,
   "metadata": {},
   "outputs": [
    {
     "name": "stdout",
     "output_type": "stream",
     "text": [
      "65\n",
      "A\n"
     ]
    }
   ],
   "source": [
    "# 1037\n",
    "n = int(input())\n",
    "c = chr(n)\n",
    "print(c)"
   ]
  },
  {
   "cell_type": "markdown",
   "metadata": {},
   "source": [
    "## < 연산 >\n",
    ": 산술 연산, 비트 연산, 논리 연산"
   ]
  },
  {
   "cell_type": "code",
   "execution_count": 6,
   "metadata": {},
   "outputs": [
    {
     "name": "stdout",
     "output_type": "stream",
     "text": [
      "123 -123\n",
      "0\n"
     ]
    }
   ],
   "source": [
    "# 1038\n",
    "a, b = input().split()\n",
    "print(int(a)+int(b))"
   ]
  },
  {
   "cell_type": "code",
   "execution_count": 7,
   "metadata": {},
   "outputs": [
    {
     "name": "stdout",
     "output_type": "stream",
     "text": [
      "2147483648 2147483648\n",
      "4294967296\n"
     ]
    }
   ],
   "source": [
    "# 1039\n",
    "a, b = input().split()\n",
    "print(int(a)+int(b))"
   ]
  },
  {
   "cell_type": "code",
   "execution_count": 8,
   "metadata": {},
   "outputs": [
    {
     "name": "stdout",
     "output_type": "stream",
     "text": [
      "-1\n",
      "1\n"
     ]
    }
   ],
   "source": [
    "# 1040\n",
    "n = int(input())\n",
    "print(-n)"
   ]
  },
  {
   "cell_type": "code",
   "execution_count": 9,
   "metadata": {},
   "outputs": [
    {
     "name": "stdout",
     "output_type": "stream",
     "text": [
      "a\n",
      "b\n"
     ]
    }
   ],
   "source": [
    "# 1041\n",
    "a = input()\n",
    "asc = ord(a)\n",
    "print(chr(asc+1))"
   ]
  },
  {
   "cell_type": "code",
   "execution_count": 10,
   "metadata": {},
   "outputs": [
    {
     "name": "stdout",
     "output_type": "stream",
     "text": [
      "1 3\n",
      "0\n"
     ]
    }
   ],
   "source": [
    "# 1042\n",
    "a, b = input().split()\n",
    "print(int(int(a)/int(b)))"
   ]
  },
  {
   "cell_type": "code",
   "execution_count": 11,
   "metadata": {},
   "outputs": [
    {
     "name": "stdout",
     "output_type": "stream",
     "text": [
      "10 3\n",
      "1\n"
     ]
    }
   ],
   "source": [
    "# 1043\n",
    "a, b = input().split()\n",
    "print(int(a)%int(b))"
   ]
  },
  {
   "cell_type": "code",
   "execution_count": 12,
   "metadata": {},
   "outputs": [
    {
     "name": "stdout",
     "output_type": "stream",
     "text": [
      "2147483647\n",
      "2147483648\n"
     ]
    }
   ],
   "source": [
    "# 1044\n",
    "a = int(input())\n",
    "print(a+1)"
   ]
  },
  {
   "cell_type": "code",
   "execution_count": 13,
   "metadata": {},
   "outputs": [
    {
     "name": "stdout",
     "output_type": "stream",
     "text": [
      "10 3\n",
      "13\n",
      "7\n",
      "30\n",
      "3\n",
      "1\n",
      "3.33\n"
     ]
    }
   ],
   "source": [
    "# 1045\n",
    "_a, _b = input().split()\n",
    "a = int(_a)\n",
    "b = int(_b)\n",
    "\n",
    "print(a+b)\n",
    "print(a-b)\n",
    "print(a*b)\n",
    "print(int(a/b))\n",
    "print(a%b)\n",
    "\n",
    "di = a/b\n",
    "print('%.2f' % round(di, 2))"
   ]
  },
  {
   "cell_type": "code",
   "execution_count": 14,
   "metadata": {},
   "outputs": [
    {
     "name": "stdout",
     "output_type": "stream",
     "text": [
      "1 2 3\n",
      "6\n",
      "2.0\n"
     ]
    }
   ],
   "source": [
    "# 1046\n",
    "_a, _b, _c = input().split()\n",
    "a = int(_a)\n",
    "b = int(_b)\n",
    "c = int(_c)\n",
    "\n",
    "sum = a+b+c\n",
    "print(sum)\n",
    "\n",
    "avg = sum/3\n",
    "print('%.1f' % round(avg, 1))"
   ]
  },
  {
   "cell_type": "code",
   "execution_count": 15,
   "metadata": {},
   "outputs": [
    {
     "name": "stdout",
     "output_type": "stream",
     "text": [
      "1024\n",
      "2048\n"
     ]
    }
   ],
   "source": [
    "# 1047\n",
    "a = int(input())\n",
    "print(a<<1)"
   ]
  },
  {
   "cell_type": "code",
   "execution_count": 16,
   "metadata": {},
   "outputs": [
    {
     "name": "stdout",
     "output_type": "stream",
     "text": [
      "1 3\n",
      "8\n"
     ]
    }
   ],
   "source": [
    "# 1048\n",
    "_a, _b = input().split()\n",
    "a = int(_a)\n",
    "b = int(_b)\n",
    "\n",
    "print(a*(2**b))"
   ]
  },
  {
   "cell_type": "code",
   "execution_count": 17,
   "metadata": {},
   "outputs": [
    {
     "name": "stdout",
     "output_type": "stream",
     "text": [
      "9 1\n",
      "1\n"
     ]
    }
   ],
   "source": [
    "# 1049\n",
    "_a, _b = input().split()\n",
    "a = int(_a)\n",
    "b = int(_b)\n",
    "\n",
    "if a>b:\n",
    "    print(1)\n",
    "else:\n",
    "    print(0)"
   ]
  },
  {
   "cell_type": "code",
   "execution_count": 18,
   "metadata": {},
   "outputs": [
    {
     "name": "stdout",
     "output_type": "stream",
     "text": [
      "0 0\n",
      "1\n"
     ]
    }
   ],
   "source": [
    "# 1050\n",
    "a, b = input().split()\n",
    "if int(a) == int(b):\n",
    "    print(1)\n",
    "else:\n",
    "    print(0)"
   ]
  },
  {
   "cell_type": "code",
   "execution_count": 19,
   "metadata": {},
   "outputs": [
    {
     "name": "stdout",
     "output_type": "stream",
     "text": [
      "0 -1\n",
      "0\n"
     ]
    }
   ],
   "source": [
    "# 1051\n",
    "a, b = input().split()\n",
    "if int(b)>=int(a):\n",
    "    print(1)\n",
    "else:\n",
    "    print(0)"
   ]
  },
  {
   "cell_type": "code",
   "execution_count": 20,
   "metadata": {},
   "outputs": [
    {
     "name": "stdout",
     "output_type": "stream",
     "text": [
      "0 1\n",
      "1\n"
     ]
    }
   ],
   "source": [
    "# 1052\n",
    "a, b = input().split()\n",
    "if int(a) != int(b):\n",
    "    print(1)\n",
    "else:\n",
    "    print(0)"
   ]
  },
  {
   "cell_type": "code",
   "execution_count": 21,
   "metadata": {},
   "outputs": [
    {
     "name": "stdout",
     "output_type": "stream",
     "text": [
      "1\n",
      "0\n"
     ]
    }
   ],
   "source": [
    "# 1053\n",
    "a = int(input())\n",
    "print(int(not a))"
   ]
  },
  {
   "cell_type": "code",
   "execution_count": 22,
   "metadata": {},
   "outputs": [
    {
     "name": "stdout",
     "output_type": "stream",
     "text": [
      "1 1\n",
      "1\n"
     ]
    }
   ],
   "source": [
    "# 1054\n",
    "_a, _b = input().split()\n",
    "a = int(_a)\n",
    "b = int(_b)\n",
    "\n",
    "print(int(a and b))"
   ]
  },
  {
   "cell_type": "code",
   "execution_count": 23,
   "metadata": {},
   "outputs": [
    {
     "name": "stdout",
     "output_type": "stream",
     "text": [
      "1 1\n",
      "1\n"
     ]
    }
   ],
   "source": [
    "# 1055\n",
    "_a, _b = input().split()\n",
    "a = int(_a)\n",
    "b = int(_b)\n",
    "\n",
    "print(int(a or b))"
   ]
  },
  {
   "cell_type": "code",
   "execution_count": 24,
   "metadata": {},
   "outputs": [
    {
     "name": "stdout",
     "output_type": "stream",
     "text": [
      "1 1\n",
      "0\n"
     ]
    }
   ],
   "source": [
    "# 1056\n",
    "_a, _b = input().split()\n",
    "a = int(_a)\n",
    "b = int(_b)\n",
    "\n",
    "print(int(a!=b))"
   ]
  },
  {
   "cell_type": "code",
   "execution_count": 25,
   "metadata": {},
   "outputs": [
    {
     "name": "stdout",
     "output_type": "stream",
     "text": [
      "0 0\n",
      "1\n"
     ]
    }
   ],
   "source": [
    "# 1057\n",
    "_a, _b = input().split()\n",
    "a = int(_a)\n",
    "b = int(_b)\n",
    "\n",
    "print(int(not(a^b)))"
   ]
  },
  {
   "cell_type": "code",
   "execution_count": 26,
   "metadata": {},
   "outputs": [
    {
     "name": "stdout",
     "output_type": "stream",
     "text": [
      "0 1\n",
      "0\n"
     ]
    }
   ],
   "source": [
    "# 1058\n",
    "_a, _b = input().split()\n",
    "a = int(_a)\n",
    "b = int(_b)\n",
    "\n",
    "print(int(not(a or b)))"
   ]
  },
  {
   "cell_type": "code",
   "execution_count": 27,
   "metadata": {},
   "outputs": [
    {
     "name": "stdout",
     "output_type": "stream",
     "text": [
      "2\n",
      "-3\n"
     ]
    }
   ],
   "source": [
    "# 1059\n",
    "a = int(input())\n",
    "print(~a)"
   ]
  },
  {
   "cell_type": "code",
   "execution_count": 28,
   "metadata": {},
   "outputs": [
    {
     "name": "stdout",
     "output_type": "stream",
     "text": [
      "3 5\n",
      "1\n"
     ]
    }
   ],
   "source": [
    "# 1060\n",
    "_a, _b = input().split()\n",
    "a = int(_a)\n",
    "b = int(_b)\n",
    "\n",
    "print(a & b)"
   ]
  },
  {
   "cell_type": "code",
   "execution_count": 1,
   "metadata": {},
   "outputs": [
    {
     "name": "stdout",
     "output_type": "stream",
     "text": [
      "3 5\n",
      "7\n"
     ]
    }
   ],
   "source": [
    "# 1061\n",
    "_a, _b = input().split()\n",
    "a = int(_a)\n",
    "b = int(_b)\n",
    "\n",
    "print(a|b)"
   ]
  },
  {
   "cell_type": "code",
   "execution_count": 2,
   "metadata": {},
   "outputs": [
    {
     "name": "stdout",
     "output_type": "stream",
     "text": [
      "3 5\n",
      "6\n"
     ]
    }
   ],
   "source": [
    "# 1062\n",
    "_a, _b = input().split()\n",
    "a = int(_a)\n",
    "b = int(_b)\n",
    "\n",
    "print(a ^ b)"
   ]
  },
  {
   "cell_type": "markdown",
   "metadata": {},
   "source": [
    "### 삼항연산자\n",
    "+ **C, C++**\n",
    "    + [condition] ? [true_value] : [false_value]\n",
    "<br><br>\n",
    "+ **python**\n",
    "    + [true_value] if [condition] else [false_value]"
   ]
  },
  {
   "cell_type": "code",
   "execution_count": 3,
   "metadata": {},
   "outputs": [
    {
     "name": "stdout",
     "output_type": "stream",
     "text": [
      "123 456\n",
      "456\n"
     ]
    }
   ],
   "source": [
    "# 1063\n",
    "_a, _b = input().split()\n",
    "a = int(_a)\n",
    "b = int(_b)\n",
    "\n",
    "result = a if a>b else b\n",
    "print(result)"
   ]
  },
  {
   "cell_type": "code",
   "execution_count": 4,
   "metadata": {},
   "outputs": [
    {
     "name": "stdout",
     "output_type": "stream",
     "text": [
      "3 -1 5\n",
      "-1\n"
     ]
    }
   ],
   "source": [
    "# 1064\n",
    "_a, _b, _c = input().split()\n",
    "a = int(_a) \n",
    "b = int(_b) \n",
    "c = int(_c) \n",
    "\n",
    "result1 = a if a<b else b\n",
    "result2 = c if c<result1 else result1\n",
    "\n",
    "print(result2)"
   ]
  },
  {
   "cell_type": "code",
   "execution_count": 6,
   "metadata": {},
   "outputs": [
    {
     "name": "stdout",
     "output_type": "stream",
     "text": [
      "1 2 4\n",
      "2\n",
      "4\n"
     ]
    }
   ],
   "source": [
    "# 1065\n",
    "_a, _b, _c = input().split()\n",
    "a = int(_a)\n",
    "b = int(_b)\n",
    "c = int(_c)\n",
    "\n",
    "if a%2 == 0:\n",
    "    print(a)\n",
    "if b%2 == 0:\n",
    "    print(b)\n",
    "if c%2 == 0:\n",
    "    print(c)"
   ]
  },
  {
   "cell_type": "code",
   "execution_count": 7,
   "metadata": {},
   "outputs": [
    {
     "name": "stdout",
     "output_type": "stream",
     "text": [
      "1 2 8\n",
      "odd\n",
      "even\n",
      "even\n"
     ]
    }
   ],
   "source": [
    "# 1066\n",
    "data = [int(x) for x in input().split()]\n",
    "\n",
    "def evenodd(d):\n",
    "    if(d%2 == 0):\n",
    "        print(\"even\")\n",
    "    else:\n",
    "        print(\"odd\")\n",
    "\n",
    "for i in range(len(data)):\n",
    "    evenodd(data[i])"
   ]
  },
  {
   "cell_type": "code",
   "execution_count": 8,
   "metadata": {},
   "outputs": [
    {
     "name": "stdout",
     "output_type": "stream",
     "text": [
      "-2147483648\n",
      "minus\n",
      "even\n"
     ]
    }
   ],
   "source": [
    "# 1067\n",
    "a = int(input())\n",
    "\n",
    "if a<0:\n",
    "    print('minus')\n",
    "else:\n",
    "    print('plus')\n",
    "\n",
    "if a%2 == 0:\n",
    "    print('even')\n",
    "else:\n",
    "    print('odd')"
   ]
  },
  {
   "cell_type": "code",
   "execution_count": 9,
   "metadata": {},
   "outputs": [
    {
     "name": "stdout",
     "output_type": "stream",
     "text": [
      "73\n",
      "B\n"
     ]
    }
   ],
   "source": [
    "# 1068\n",
    "score = int(input())\n",
    "\n",
    "if score>=90 and score<=100:\n",
    "    print('A')\n",
    "elif score>=70 and score<=89:\n",
    "    print('B')\n",
    "elif score>= 40 and score<=69:\n",
    "    print('C')\n",
    "else:\n",
    "    print('D')"
   ]
  },
  {
   "cell_type": "markdown",
   "metadata": {},
   "source": [
    "### switch X\n",
    "+ **함수로 구현한 switch문**<br>\n",
    "    def switch(value):<br>\n",
    "    return{ 'a':'apple', ... }.get(value, -1) #get은 디폴트\n",
    "<br><br>\n",
    "+ **함수로 구현한 lambda switch문**<br>\n",
    "    def switch(value):<br>\n",
    "    return{ 'a' : lambda x: x-10, ...}[value]\n",
    "<br><br>"
   ]
  },
  {
   "cell_type": "code",
   "execution_count": 10,
   "metadata": {},
   "outputs": [
    {
     "name": "stdout",
     "output_type": "stream",
     "text": [
      "A\n",
      "best!!!\n"
     ]
    }
   ],
   "source": [
    "# 1069\n",
    "score = input()\n",
    "\n",
    "def switch(score):\n",
    "    return{\"A\":\"best!!!\", \"B\":\"good!!\", \"C\":\"run!\", \"D\":\"slowly~\"}.get(score, \"what?\")\n",
    "\n",
    "print(switch(score))"
   ]
  },
  {
   "cell_type": "code",
   "execution_count": 11,
   "metadata": {},
   "outputs": [
    {
     "name": "stdout",
     "output_type": "stream",
     "text": [
      "12\n",
      "winter\n"
     ]
    }
   ],
   "source": [
    "# 1070\n",
    "month = int(input())\n",
    "\n",
    "if month==12 or month==1 or month==2:\n",
    "    print(\"winter\")\n",
    "elif month==3 or month==4 or month==5:\n",
    "    print(\"spring\")\n",
    "elif month==6 or month==7 or month==8:\n",
    "    print(\"summer\")\n",
    "elif month==9 or month==10 or month==11:\n",
    "    print(\"fall\")"
   ]
  },
  {
   "cell_type": "code",
   "execution_count": 1,
   "metadata": {},
   "outputs": [
    {
     "name": "stdout",
     "output_type": "stream",
     "text": [
      "7 4 2 3 0 1 5 6 9 10 8\n",
      "7\n",
      "4\n",
      "2\n",
      "3\n"
     ]
    }
   ],
   "source": [
    "# 1071\n",
    "list = input().split()\n",
    "\n",
    "for x in list:\n",
    "    if int(x) != 0:\n",
    "        print(x)\n",
    "    else:\n",
    "        break"
   ]
  },
  {
   "cell_type": "code",
   "execution_count": 2,
   "metadata": {},
   "outputs": [
    {
     "name": "stdout",
     "output_type": "stream",
     "text": [
      "5\n",
      "1 2 3 4 5\n",
      "1\n",
      "2\n",
      "3\n",
      "4\n",
      "5\n"
     ]
    }
   ],
   "source": [
    "# 1072\n",
    "n = int(input())\n",
    "list = input().split()\n",
    "\n",
    "for i in list:\n",
    "    print(i)"
   ]
  },
  {
   "cell_type": "code",
   "execution_count": 3,
   "metadata": {},
   "outputs": [
    {
     "name": "stdout",
     "output_type": "stream",
     "text": [
      "7 4 2 3 0 1 5 6 9 10 8\n",
      "7\n",
      "4\n",
      "2\n",
      "3\n"
     ]
    }
   ],
   "source": [
    "# 1073\n",
    "list = [int(x) for x in input().split()]\n",
    "\n",
    "i = 0\n",
    "x = list[i]\n",
    "while(x!=0):\n",
    "    print(x)\n",
    "    i+=1\n",
    "    x = list[i]"
   ]
  },
  {
   "cell_type": "code",
   "execution_count": 5,
   "metadata": {},
   "outputs": [
    {
     "name": "stdout",
     "output_type": "stream",
     "text": [
      "5\n",
      "5\n",
      "4\n",
      "3\n",
      "2\n",
      "1\n"
     ]
    }
   ],
   "source": [
    "# 1074\n",
    "n = int(input())\n",
    "\n",
    "while n!= 0:\n",
    "    print(n)\n",
    "    n -= 1"
   ]
  },
  {
   "cell_type": "code",
   "execution_count": 4,
   "metadata": {},
   "outputs": [
    {
     "name": "stdout",
     "output_type": "stream",
     "text": [
      "5\n",
      "4\n",
      "3\n",
      "2\n",
      "1\n",
      "0\n"
     ]
    }
   ],
   "source": [
    "# 1075\n",
    "n = int(input())\n",
    "\n",
    "while n>0:\n",
    "    n -= 1\n",
    "    print(n)"
   ]
  },
  {
   "cell_type": "code",
   "execution_count": 6,
   "metadata": {},
   "outputs": [
    {
     "name": "stdout",
     "output_type": "stream",
     "text": [
      "f\n",
      "a b c d e f "
     ]
    }
   ],
   "source": [
    "# 1076\n",
    "alp = input()\n",
    "start = ord('a')\n",
    "finish = ord(alp)\n",
    "\n",
    "while start <= finish:\n",
    "    print(chr(start), end=\" \")\n",
    "    start += 1"
   ]
  },
  {
   "cell_type": "code",
   "execution_count": 7,
   "metadata": {},
   "outputs": [
    {
     "name": "stdout",
     "output_type": "stream",
     "text": [
      "4\n",
      "0\n",
      "1\n",
      "2\n",
      "3\n",
      "4\n"
     ]
    }
   ],
   "source": [
    "# 1077\n",
    "n = int(input())\n",
    "\n",
    "a = n\n",
    "while a>=0:\n",
    "    print(n-a)\n",
    "    a -= 1"
   ]
  },
  {
   "cell_type": "code",
   "execution_count": 8,
   "metadata": {},
   "outputs": [
    {
     "name": "stdout",
     "output_type": "stream",
     "text": [
      "10\n",
      "30\n"
     ]
    }
   ],
   "source": [
    "# 1078\n",
    "n = int(input())\n",
    "\n",
    "result = 0\n",
    "while n>0:\n",
    "    if n%2 == 0:\n",
    "        result += n\n",
    "    n -= 1\n",
    "    \n",
    "print(result)"
   ]
  },
  {
   "cell_type": "code",
   "execution_count": 13,
   "metadata": {},
   "outputs": [
    {
     "name": "stdout",
     "output_type": "stream",
     "text": [
      "x b k d l q g a c\n",
      "x\n",
      "b\n",
      "k\n",
      "d\n",
      "l\n",
      "q\n"
     ]
    }
   ],
   "source": [
    "# 1079\n",
    "list = input().split()\n",
    "\n",
    "i = 0\n",
    "x = list[i]\n",
    "while x != 'q':\n",
    "    print(x)\n",
    "    i += 1\n",
    "    x = list[i]\n",
    "print('q')"
   ]
  },
  {
   "cell_type": "code",
   "execution_count": 15,
   "metadata": {},
   "outputs": [
    {
     "name": "stdout",
     "output_type": "stream",
     "text": [
      "55\n",
      "10\n"
     ]
    }
   ],
   "source": [
    "# 1080\n",
    "sum = int(input())\n",
    "\n",
    "n = 0\n",
    "while sum>0:\n",
    "    n += 1\n",
    "    sum -= n\n",
    "    \n",
    "\n",
    "print(n)"
   ]
  },
  {
   "cell_type": "code",
   "execution_count": 17,
   "metadata": {},
   "outputs": [
    {
     "name": "stdout",
     "output_type": "stream",
     "text": [
      "2 3\n",
      "1 1\n",
      "1 2\n",
      "1 3\n",
      "2 1\n",
      "2 2\n",
      "2 3\n"
     ]
    }
   ],
   "source": [
    "# 1081\n",
    "N, M = input().split()\n",
    "n = int(N)\n",
    "m = int(M)\n",
    "\n",
    "for i in range(1, n+1):\n",
    "    for j in range(1, m+1):\n",
    "        print(i, j)"
   ]
  },
  {
   "cell_type": "code",
   "execution_count": 21,
   "metadata": {},
   "outputs": [
    {
     "name": "stdout",
     "output_type": "stream",
     "text": [
      "B\n",
      "B*1=B\n",
      "B*2=16\n",
      "B*3=21\n",
      "B*4=2C\n",
      "B*5=37\n",
      "B*6=42\n",
      "B*7=4D\n",
      "B*8=58\n",
      "B*9=63\n",
      "B*A=6E\n",
      "B*B=79\n",
      "B*C=84\n",
      "B*D=8F\n",
      "B*E=9A\n",
      "B*F=A5\n"
     ]
    }
   ],
   "source": [
    "# 1082\n",
    "n = input()\n",
    "n = int(n, 16)\n",
    "\n",
    "for i in range(1, 16):\n",
    "    result = n*i\n",
    "    print(format(n, \"X\")+\"*\"+format(i, \"X\")+\"=\"+format(result, \"X\"))"
   ]
  },
  {
   "cell_type": "code",
   "execution_count": 23,
   "metadata": {},
   "outputs": [
    {
     "name": "stdout",
     "output_type": "stream",
     "text": [
      "9\n",
      "1 2 X 4 5 X 7 8 X "
     ]
    }
   ],
   "source": [
    "# 1083\n",
    "n = int(input())\n",
    "\n",
    "i = 0\n",
    "while i<n:\n",
    "    i+=1\n",
    "    if i%3 == 0:\n",
    "        print('X', end=\" \")\n",
    "    else:\n",
    "        print(i, end=\" \")"
   ]
  },
  {
   "cell_type": "code",
   "execution_count": 25,
   "metadata": {},
   "outputs": [
    {
     "name": "stdout",
     "output_type": "stream",
     "text": [
      "2 2 2\n",
      "0 0 0\n",
      "0 0 1\n",
      "0 1 0\n",
      "0 1 1\n",
      "1 0 0\n",
      "1 0 1\n",
      "1 1 0\n",
      "1 1 1\n",
      "8\n"
     ]
    }
   ],
   "source": [
    "# 1084\n",
    "R, G, B = input().split()\n",
    "r = int(R)\n",
    "g = int(G)\n",
    "b = int(B)\n",
    "\n",
    "cnt = 0\n",
    "for i in range(0, r):\n",
    "    for j in range(0, g):\n",
    "        for k in range(0, b):\n",
    "            print(i, j, k)\n",
    "            cnt += 1\n",
    "print(cnt)"
   ]
  },
  {
   "cell_type": "code",
   "execution_count": null,
   "metadata": {},
   "outputs": [],
   "source": [
    "# 1085\n"
   ]
  }
 ],
 "metadata": {
  "kernelspec": {
   "display_name": "Python 3",
   "language": "python",
   "name": "python3"
  },
  "language_info": {
   "codemirror_mode": {
    "name": "ipython",
    "version": 3
   },
   "file_extension": ".py",
   "mimetype": "text/x-python",
   "name": "python",
   "nbconvert_exporter": "python",
   "pygments_lexer": "ipython3",
   "version": "3.8.3"
  }
 },
 "nbformat": 4,
 "nbformat_minor": 4
}
