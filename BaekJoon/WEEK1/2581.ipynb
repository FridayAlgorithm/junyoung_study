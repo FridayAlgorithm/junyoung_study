{
 "cells": [
  {
   "cell_type": "markdown",
   "metadata": {},
   "source": [
    "### [수학2] [소수](https://www.acmicpc.net/problem/2581)\n",
    "자연수 M과 N이 주어질 때 M이상 N이하의 자연수 중 소수인 것을 모두 골라 이들 소수의 합과 최솟값을 찾는 프로그램을 작성하시오.\n",
    "\n",
    "예를 들어 M=60, N=100인 경우 60이상 100이하의 자연수 중 소수는 61, 67, 71, 73, 79, 83, 89, 97 총 8개가 있으므로, 이들 소수의 합은 620이고, 최솟값은 61이 된다."
   ]
  },
  {
   "cell_type": "code",
   "execution_count": 7,
   "metadata": {},
   "outputs": [
    {
     "name": "stdout",
     "output_type": "stream",
     "text": [
      "64 65\n",
      "-1\n"
     ]
    }
   ],
   "source": [
    "# 런타임에러\n",
    "M, N = input().split()\n",
    "m = int(M)\n",
    "n = int(N)\n",
    "\n",
    "dec_sum = 0\n",
    "min_dec = 0\n",
    "for num in range(m, n+1):\n",
    "    cnt = 0\n",
    "    for i in range(1, num+1):\n",
    "        if num % i == 0:\n",
    "            cnt += 1\n",
    "            if cnt > 2:\n",
    "                break\n",
    "    if cnt == 2:           \n",
    "        if dec_sum == 0:\n",
    "            min_dec = num\n",
    "        dec_sum += num\n",
    "              \n",
    "if dec_sum == 0:\n",
    "    print(-1)\n",
    "else:\n",
    "    print(dec_sum)\n",
    "    print(min_dec)"
   ]
  },
  {
   "cell_type": "code",
   "execution_count": 11,
   "metadata": {},
   "outputs": [
    {
     "name": "stdout",
     "output_type": "stream",
     "text": [
      "80 100\n",
      "269\n",
      "[83, 89, 97]\n",
      "83\n"
     ]
    }
   ],
   "source": [
    "# 런타임에러\n",
    "M, N = input().split()\n",
    "m = int(M)\n",
    "n = int(N)\n",
    "\n",
    "dec_list = []\n",
    "for num in range(m, n+1):\n",
    "    cnt = 0\n",
    "    for i in range(1, num+1):\n",
    "        if num % i == 0:\n",
    "            cnt += 1\n",
    "            if cnt > 2:\n",
    "                break\n",
    "    if cnt == 2:           \n",
    "        dec_list.append(num)\n",
    "              \n",
    "if len(dec_list) != 0:\n",
    "    print(sum(dec_list))\n",
    "    print(dec_list)\n",
    "    print(dec_list[0])\n",
    "else:\n",
    "    print(-1)"
   ]
  }
 ],
 "metadata": {
  "kernelspec": {
   "display_name": "Python 3",
   "language": "python",
   "name": "python3"
  },
  "language_info": {
   "codemirror_mode": {
    "name": "ipython",
    "version": 3
   },
   "file_extension": ".py",
   "mimetype": "text/x-python",
   "name": "python",
   "nbconvert_exporter": "python",
   "pygments_lexer": "ipython3",
   "version": "3.8.3"
  }
 },
 "nbformat": 4,
 "nbformat_minor": 4
}
