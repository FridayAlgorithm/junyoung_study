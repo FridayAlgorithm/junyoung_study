{
 "cells": [
  {
   "cell_type": "markdown",
   "metadata": {},
   "source": [
    "## 가장 먼 노드\n",
    "https://programmers.co.kr/learn/courses/30/lessons/49189?language=python3\n"
   ]
  },
  {
   "cell_type": "code",
   "execution_count": 13,
   "metadata": {},
   "outputs": [
    {
     "name": "stdout",
     "output_type": "stream",
     "text": [
      "now : 1\n",
      "g : 3\n",
      "[0, 1, 0, 2, 0, 0, 0]\n",
      "now : 1\n",
      "g : 2\n",
      "[0, 1, 2, 2, 0, 0, 0]\n",
      "now : 3\n",
      "g : 6\n",
      "[0, 1, 2, 2, 0, 0, 3]\n",
      "now : 3\n",
      "g : 4\n",
      "[0, 1, 2, 2, 3, 0, 3]\n",
      "now : 2\n",
      "g : 5\n",
      "[0, 1, 2, 2, 3, 3, 3]\n",
      "3\n"
     ]
    }
   ],
   "source": [
    "from collections import deque\n",
    "\n",
    "def solution(n, edge):\n",
    "    answer = 0\n",
    "    \n",
    "    distance = [0]*(n+1)\n",
    "    graph = [[] for _ in range(n+1)]\n",
    "    \n",
    "    for e in edge:\n",
    "        graph[e[0]].append(e[1])\n",
    "        graph[e[1]].append(e[0])\n",
    "        \n",
    "    queue = deque()\n",
    "    queue.append(1)  # 시작\n",
    "    distance[1] = 1 \n",
    "    \n",
    "    while queue:\n",
    "        now = queue.popleft()\n",
    "        for g in graph[now]:\n",
    "            if distance[g] == 0:\n",
    "                distance[g] = distance[now]+1\n",
    "                print(\"now : %d\" %now)\n",
    "                print(\"g : %d\" %g)\n",
    "                print(distance)\n",
    "                queue.append(g)\n",
    "                \n",
    "    \n",
    "    answer = distance.count(max(distance))\n",
    "    \n",
    "    return answer\n",
    "\n",
    "print(solution(6, [[3, 6], [4, 3], [3, 2], [1, 3], [1, 2], [2, 4], [5, 2]]))"
   ]
  },
  {
   "cell_type": "code",
   "execution_count": null,
   "metadata": {},
   "outputs": [],
   "source": []
  }
 ],
 "metadata": {
  "kernelspec": {
   "display_name": "Python 3",
   "language": "python",
   "name": "python3"
  },
  "language_info": {
   "codemirror_mode": {
    "name": "ipython",
    "version": 3
   },
   "file_extension": ".py",
   "mimetype": "text/x-python",
   "name": "python",
   "nbconvert_exporter": "python",
   "pygments_lexer": "ipython3",
   "version": "3.8.3"
  }
 },
 "nbformat": 4,
 "nbformat_minor": 4
}
