{
 "cells": [
  {
   "cell_type": "markdown",
   "metadata": {},
   "source": [
    "### [1149] [RGB 거리](https://www.acmicpc.net/problem/1149)\n",
    "RGB거리에는 집이 N개 있다. 거리는 선분으로 나타낼 수 있고, 1번 집부터 N번 집이 순서대로 있다.\n",
    "\n",
    "집은 빨강, 초록, 파랑 중 하나의 색으로 칠해야 한다. 각각의 집을 빨강, 초록, 파랑으로 칠하는 비용이 주어졌을 때, 아래 규칙을 만족하면서 모든 집을 칠하는 비용의 최솟값을 구해보자.\n",
    "\n",
    "+ 1번 집의 색은 2번 집의 색과 같지 않아야 한다.\n",
    "+ N번 집의 색은 N-1번 집의 색과 같지 않아야 한다.\n",
    "+ i(2 ≤ i ≤ N-1)번 집의 색은 i-1번, i+1번 집의 색과 같지 않아야 한다."
   ]
  },
  {
   "cell_type": "code",
   "execution_count": 16,
   "metadata": {},
   "outputs": [
    {
     "name": "stdout",
     "output_type": "stream",
     "text": [
      "3\n",
      "26 40 83\n",
      "49 60 57\n",
      "13 89 99\n",
      "[99, 99, 185, 185, 96, 96, 172, 172, 178, 178, 188, 188, 110, 110, 186, 186, 221, 221, 231, 231, 156, 156, 242, 242]\n",
      "96\n"
     ]
    }
   ],
   "source": [
    "# 시간초과\n",
    "\n",
    "n = int(input()) \n",
    "houses = []\n",
    "costs = []\n",
    "\n",
    "for _ in range(n):\n",
    "    r, g, b = map(int, input().split())\n",
    "    houses.append((r, g, b))\n",
    "    \n",
    "'''\n",
    "where : 현재 몇 번째 집인가?\n",
    "back : 이전 집에서 어떤 색_인덱스_을 골랐나? \n",
    "cost : 현재까지의 가격은 얼마인가?\n",
    "'''\n",
    "def paint(where, back, cost):\n",
    "    if where == n:\n",
    "        costs.append(cost)\n",
    "        return\n",
    "    else:\n",
    "        for i in range(3):\n",
    "            if i == back:\n",
    "                continue\n",
    "            else:\n",
    "                paint(where+1, i, cost+houses[where][back])\n",
    "\n",
    "paint(0, 0, 0)\n",
    "paint(0, 1, 0)\n",
    "paint(0, 2, 0)\n",
    "print(costs)\n",
    "print(min(costs))"
   ]
  },
  {
   "cell_type": "code",
   "execution_count": 18,
   "metadata": {},
   "outputs": [
    {
     "name": "stdout",
     "output_type": "stream",
     "text": [
      "3\n",
      "26 40 83\n",
      "49 60 57\n",
      "13 89 99\n",
      "96\n"
     ]
    }
   ],
   "source": [
    "n = int(input()) \n",
    "houses = []\n",
    "\n",
    "for _ in range(n):\n",
    "    houses.append(list(map(int, input().split())))\n",
    "    \n",
    "'''\n",
    "최종적으로 3가지 값에 대해 최소 값을 구하는 것\n",
    "'''\n",
    "for i in range(1, n):\n",
    "    houses[i][0] += min(houses[i-1][1], houses[i-1][2])\n",
    "    houses[i][1] += min(houses[i-1][0], houses[i-1][2])\n",
    "    houses[i][2] += min(houses[i-1][0], houses[i-1][1])\n",
    "print(min(houses[n-1][0], houses[n-1][1], houses[n-1][2]))"
   ]
  },
  {
   "cell_type": "markdown",
   "metadata": {},
   "source": [
    "### [1932] [정수 삼각형](https://www.acmicpc.net/problem/1932)\n",
    "위 그림은 크기가 5인 정수 삼각형의 한 모습이다.\n",
    "\n",
    "맨 위층 7부터 시작해서 아래에 있는 수 중 하나를 선택하여 아래층으로 내려올 때, 이제까지 선택된 수의 합이 최대가 되는 경로를 구하는 프로그램을 작성하라. 아래층에 있는 수는 현재 층에서 선택된 수의 대각선 왼쪽 또는 대각선 오른쪽에 있는 것 중에서만 선택할 수 있다.\n",
    "\n",
    "삼각형의 크기는 1 이상 500 이하이다. 삼각형을 이루고 있는 각 수는 모두 정수이며, 범위는 0 이상 9999 이하이다."
   ]
  },
  {
   "cell_type": "code",
   "execution_count": 1,
   "metadata": {},
   "outputs": [
    {
     "name": "stdout",
     "output_type": "stream",
     "text": [
      "5\n",
      "7\n",
      "3 8\n",
      "8 1 0\n",
      "2 7 4 4\n",
      "4 5 2 6 5\n",
      "[24, 30, 27, 26, 24]\n",
      "30\n"
     ]
    }
   ],
   "source": [
    "'''\n",
    " 0 :      0\n",
    " 1 :     0 1\n",
    " 2 :    0 1 2\n",
    " 3 :   0 1 2 3\n",
    " 4 :  0 1 2 3 4\n",
    " \n",
    " 인덱스가 0일 때는 항상 이전의 0 인덱스만 더할 수 있음\n",
    " 끝 인덱스 일때는 항상 이전의 끝 인덱스만 더할 수 있음\n",
    " 중간에 있는 인덱스들은 이전의 인접한 2개의 인덱스 중 비교\n",
    "'''\n",
    "\n",
    "n = int(input())\n",
    "tri = [list(map(int, input().split())) for _ in range(n)]\n",
    "\n",
    "for i in range(1, n):\n",
    "    for j in range(len(tri[i])):\n",
    "        if j==0:\n",
    "            tri[i][j] += tri[i-1][j]\n",
    "        elif j==i:\n",
    "            tri[i][j] += tri[i-1][j-1]\n",
    "        else:\n",
    "            tri[i][j] += max(tri[i-1][j], tri[i-1][j-1])\n",
    "            \n",
    "#print(tri[n-1])\n",
    "print(max(tri[n-1]))"
   ]
  }
 ],
 "metadata": {
  "kernelspec": {
   "display_name": "Python 3",
   "language": "python",
   "name": "python3"
  },
  "language_info": {
   "codemirror_mode": {
    "name": "ipython",
    "version": 3
   },
   "file_extension": ".py",
   "mimetype": "text/x-python",
   "name": "python",
   "nbconvert_exporter": "python",
   "pygments_lexer": "ipython3",
   "version": "3.8.3"
  }
 },
 "nbformat": 4,
 "nbformat_minor": 4
}
