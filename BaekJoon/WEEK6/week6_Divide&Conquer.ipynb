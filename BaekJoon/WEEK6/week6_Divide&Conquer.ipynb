{
 "cells": [
  {
   "cell_type": "markdown",
   "metadata": {},
   "source": [
    "### [1780] [종이의 개수](https://www.acmicpc.net/problem/1780)\n",
    "N×N크기의 행렬로 표현되는 종이가 있다. 종이의 각 칸에는 -1, 0, 1의 세 값 중 하나가 저장되어 있다. 우리는 이 행렬을 적절한 크기로 자르려고 하는데, 이때 다음의 규칙에 따라 자르려고 한다.\n",
    "\n",
    "1. 만약 종이가 모두 같은 수로 되어 있다면 이 종이를 그대로 사용한다.\n",
    "2. (1)이 아닌 경우에는 종이를 같은 크기의 9개의 종이로 자르고, 각각의 잘린 종이에 대해서 (1)의 과정을 반복한다.\n",
    "\n",
    "이와 같이 종이를 잘랐을 때, -1로만 채워진 종이의 개수, 0으로만 채워진 종이의 개수, 1로만 채워진 종이의 개수를 구해내는 프로그램을 작성하시오."
   ]
  },
  {
   "cell_type": "code",
   "execution_count": 11,
   "metadata": {},
   "outputs": [
    {
     "name": "stdout",
     "output_type": "stream",
     "text": [
      "9\n",
      "0 0 0 1 1 1 -1 -1 -1\n",
      "0 0 0 1 1 1 -1 -1 -1\n",
      "0 0 0 1 1 1 -1 -1 -1\n",
      "1 1 1 0 0 0 0 0 0\n",
      "1 1 1 0 0 0 0 0 0\n",
      "1 1 1 0 0 0 0 0 0\n",
      "0 1 -1 0 1 -1 0 1 -1\n",
      "0 -1 1 0 1 -1 0 1 -1\n",
      "0 1 -1 1 0 -1 0 1 -1\n",
      "10\n",
      "12\n",
      "11\n"
     ]
    }
   ],
   "source": [
    "n = int(input())\n",
    "paper = []\n",
    "for i in range(n):\n",
    "    paper.append(list(map(int, input().split())))\n",
    "    \n",
    "result = [0, 0, 0] # -1, 0, 1 -> 0, 1, 2\n",
    "def cut_paper(y, x, n):\n",
    "    diff_check = False\n",
    "    if n==1:\n",
    "        result[paper[y][x]+1] += 1\n",
    "        return\n",
    "    \n",
    "    first = paper[y][x]\n",
    "    for i in range(n):\n",
    "        for j in range(n):\n",
    "            if first != paper[y+i][x+j]:\n",
    "                diff_check = True\n",
    "                break\n",
    "    \n",
    "    if diff_check:\n",
    "        for i in range(3):\n",
    "            for j in range(3):\n",
    "                cut_paper(y+i*(n//3), x+j*(n//3), n//3)\n",
    "    else:\n",
    "        result[paper[y][x]+1] += 1\n",
    "        return\n",
    "        \n",
    "cut_paper(0, 0, n)\n",
    "for p in result:\n",
    "    print(p)"
   ]
  },
  {
   "cell_type": "markdown",
   "metadata": {},
   "source": [
    "### [1629] [곱셈](https://www.acmicpc.net/problem/1629)\n",
    "자연수 A를 B번 곱한 수를 알고 싶다. 단 구하려는 수가 매우 커질 수 있으므로 이를 C로 나눈 나머지를 구하는 프로그램을 작성하시오."
   ]
  },
  {
   "cell_type": "code",
   "execution_count": 1,
   "metadata": {},
   "outputs": [
    {
     "name": "stdout",
     "output_type": "stream",
     "text": [
      "10 11 12\n",
      "4\n"
     ]
    }
   ],
   "source": [
    "a, b, c = map(int, input().split())\n",
    "result = 1\n",
    "for i in range(b):\n",
    "    result *= a\n",
    "\n",
    "result = result%c\n",
    "print(result)"
   ]
  },
  {
   "cell_type": "code",
   "execution_count": null,
   "metadata": {},
   "outputs": [],
   "source": [
    "a, b, c = map(int, input().split())\n",
    "# 10^10 == 10^(5)\n",
    "# (A//C)^B % C == A^B % C\n",
    "# pow(a, b, c)\n",
    "\n",
    "def solve(a, b):\n",
    "    if b == 1:\n",
    "        return a%c\n",
    "    else:\n",
    "        tmp = solve(a, b//2)\n",
    "        if b%2 == 0:\n",
    "            return tmp*tmp%c\n",
    "        else:\n",
    "            return tmp*tmp*a%c\n",
    "        \n",
    "result = solve(a, b)\n",
    "print(result)"
   ]
  }
 ],
 "metadata": {
  "kernelspec": {
   "display_name": "Python 3",
   "language": "python",
   "name": "python3"
  },
  "language_info": {
   "codemirror_mode": {
    "name": "ipython",
    "version": 3
   },
   "file_extension": ".py",
   "mimetype": "text/x-python",
   "name": "python",
   "nbconvert_exporter": "python",
   "pygments_lexer": "ipython3",
   "version": "3.8.3"
  }
 },
 "nbformat": 4,
 "nbformat_minor": 4
}
