{
 "cells": [
  {
   "cell_type": "markdown",
   "metadata": {},
   "source": [
    "### [DFS와 BFS] [DFS와 BFS](https://www.acmicpc.net/problem/1260)\n",
    "\n",
    "그래프를 DFS로 탐색한 결과와 BFS로 탐색한 결과를 출력하는 프로그램을 작성하시오. 단, 방문할 수 있는 정점이 여러 개인 경우에는 정점 번호가 작은 것을 먼저 방문하고, 더 이상 방문할 수 있는 점이 없는 경우 종료한다. 정점 번호는 1번부터 N번까지이다."
   ]
  },
  {
   "cell_type": "markdown",
   "metadata": {},
   "source": [
    "#### DFS\n",
    "+ **자기 자신을 호출하는 순환 알고리즘의 형태**\n",
    "+ 그래프 탐색의 경우 어떤 노드를 방문했었는지 여부를 반드시 검사\n",
    "\n",
    "#### BFS\n",
    "+ **재귀적으로 동작하지 않음**\n",
    "+ 그래프 탐색의 경우 어떤 노드를 방문했었는지 여부를 반드시 검사\n",
    "+ 방문한 노드를 차례로 저장한 후 꺼낼 수 있는 자료구조인 **Queue 사용**\n",
    "\n",
    "\n",
    "dfs, bfs 설명 참고: https://yunyoung1819.tistory.com/86"
   ]
  },
  {
   "cell_type": "code",
   "execution_count": 9,
   "metadata": {},
   "outputs": [
    {
     "name": "stdout",
     "output_type": "stream",
     "text": [
      "4 5 1\n",
      "1 2\n",
      "1 3\n",
      "1 4\n",
      "2 4\n",
      "3 4\n",
      "1 2 4 3 \n",
      "1 2 3 4 "
     ]
    }
   ],
   "source": [
    "n, m, v = map(int, input().split())\n",
    "\n",
    "# n+1인 이유 : 인덱스 값과 숫자를 일치시키기 위해서\n",
    "graph = [[0]*(n+1) for _ in range(n+1)]\n",
    "visited = [False]*(n+1)\n",
    "\n",
    "for _ in range(m):\n",
    "    a, b = map(int, input().split())\n",
    "    graph[a][b] = 1\n",
    "    graph[b][a] = 1\n",
    "    \n",
    "def dfs(v):\n",
    "    visited[v] = True\n",
    "    print(v, end=\" \")\n",
    "    for i in range(1, n+1):\n",
    "        if not visited[i] and graph[v][i] == 1:\n",
    "            dfs(i)\n",
    "            \n",
    "def bfs(v):\n",
    "    queue = [v]\n",
    "    visited[v] = False\n",
    "    # queue가 비어있다면 false, 비어있지 않다면 true\n",
    "    while queue:\n",
    "        v = queue.pop(0)\n",
    "        print(v, end=\" \")\n",
    "        for i in range(1, n+1):\n",
    "            if visited[i] and graph[v][i] == 1:\n",
    "                queue.append(i)\n",
    "                visited[i] = False\n",
    "                \n",
    "dfs(v)\n",
    "print()\n",
    "bfs(v)"
   ]
  },
  {
   "cell_type": "code",
   "execution_count": null,
   "metadata": {},
   "outputs": [],
   "source": []
  }
 ],
 "metadata": {
  "kernelspec": {
   "display_name": "Python 3",
   "language": "python",
   "name": "python3"
  },
  "language_info": {
   "codemirror_mode": {
    "name": "ipython",
    "version": 3
   },
   "file_extension": ".py",
   "mimetype": "text/x-python",
   "name": "python",
   "nbconvert_exporter": "python",
   "pygments_lexer": "ipython3",
   "version": "3.8.3"
  }
 },
 "nbformat": 4,
 "nbformat_minor": 4
}
