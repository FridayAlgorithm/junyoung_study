{
 "cells": [
  {
   "cell_type": "code",
   "execution_count": 42,
   "metadata": {},
   "outputs": [
    {
     "name": "stdout",
     "output_type": "stream",
     "text": [
      "['fr', 'ra', 'an', 'nc', 'ce']\n",
      "['fr', 're', 'en', 'nc', 'ch']\n",
      "8\n",
      "['fr', 'nc']\n",
      "16384\n",
      "['ha', 'an', 'nd', 'ds', 'sh', 'ha', 'ak', 'ke']\n",
      "['sh', 'ha', 'ak', 'ke', 'ha', 'an', 'nd', 'ds']\n",
      "8\n",
      "['ha', 'an', 'nd', 'ds', 'sh', 'ha', 'ak', 'ke']\n",
      "65536\n",
      "['aa', 'aa']\n",
      "['aa', 'aa', 'aa']\n",
      "3\n",
      "['aa', 'aa']\n",
      "43690\n"
     ]
    }
   ],
   "source": [
    "def solution(str1, str2):\n",
    "    answer = 0\n",
    "    \n",
    "    list1 = []\n",
    "    list2 = []\n",
    "    \n",
    "    for i in range(len(str1)-1):\n",
    "        s = str1[i]+str1[i+1]\n",
    "        if s.isalpha():\n",
    "            list1.append(s.lower())\n",
    "            \n",
    "    for i in range(len(str2)-1):\n",
    "        s = str2[i]+str2[i+1]\n",
    "        if s.isalpha():\n",
    "            list2.append(s.lower())\n",
    "    \n",
    "    inter = []\n",
    "    print(list1)\n",
    "    print(list2)\n",
    "    for i in list1:\n",
    "        if i in list2:\n",
    "            inter.append(i)\n",
    "            list2.remove(i)\n",
    "            \n",
    "    union = len(list1+list2)\n",
    "    print(union)\n",
    "    print(inter)\n",
    "    \n",
    "    if union == 0:\n",
    "        return 65536\n",
    "    \n",
    "    answer = int(len(inter)/union*65536)\n",
    "    return answer\n",
    "\n",
    "print(solution('FRANCE', 'french'))\n",
    "print(solution('handshake', 'shake hands'))\n",
    "print(solution('aa1+aa2', 'AAAA12'))"
   ]
  },
  {
   "cell_type": "code",
   "execution_count": 27,
   "metadata": {},
   "outputs": [
    {
     "name": "stdout",
     "output_type": "stream",
     "text": [
      "aa\n"
     ]
    }
   ],
   "source": [
    "print(('a'+'A').lower())"
   ]
  },
  {
   "cell_type": "code",
   "execution_count": null,
   "metadata": {},
   "outputs": [],
   "source": []
  }
 ],
 "metadata": {
  "kernelspec": {
   "display_name": "Python 3",
   "language": "python",
   "name": "python3"
  },
  "language_info": {
   "codemirror_mode": {
    "name": "ipython",
    "version": 3
   },
   "file_extension": ".py",
   "mimetype": "text/x-python",
   "name": "python",
   "nbconvert_exporter": "python",
   "pygments_lexer": "ipython3",
   "version": "3.8.3"
  }
 },
 "nbformat": 4,
 "nbformat_minor": 4
}
