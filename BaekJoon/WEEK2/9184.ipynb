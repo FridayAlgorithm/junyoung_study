{
 "cells": [
  {
   "cell_type": "markdown",
   "metadata": {},
   "source": [
    "### [동적] [신나는 함수 실행](https://www.acmicpc.net/problem/9184)\n",
    "다음과 같은 재귀함수 w(a, b, c)가 있다.\n",
    "\n",
    "if a <= 0 or b <= 0 or c <= 0, then w(a, b, c) returns:\n",
    "    1\n",
    "\n",
    "if a > 20 or b > 20 or c > 20, then w(a, b, c) returns:\n",
    "    w(20, 20, 20)\n",
    "\n",
    "if a < b and b < c, then w(a, b, c) returns:\n",
    "    w(a, b, c-1) + w(a, b-1, c-1) - w(a, b-1, c)\n",
    "\n",
    "otherwise it returns:\n",
    "    w(a-1, b, c) + w(a-1, b-1, c) + w(a-1, b, c-1) - w(a-1, b-1, c-1)\n",
    "    \n",
    "위의 함수를 구현하는 것은 매우 쉽다. 하지만, 그대로 구현하면 값을 구하는데 매우 오랜 시간이 걸린다. (예를 들면, a=15, b=15, c=15)\n",
    "\n",
    "a, b, c가 주어졌을 때, w(a, b, c)를 출력하는 프로그램을 작성하시오."
   ]
  },
  {
   "cell_type": "code",
   "execution_count": 2,
   "metadata": {},
   "outputs": [
    {
     "name": "stdout",
     "output_type": "stream",
     "text": [
      "1 1 1\n",
      "2 2 2\n",
      "-1 -1 -1\n",
      "w(1, 1, 1) = 2\n",
      "w(2, 2, 2) = 4\n"
     ]
    }
   ],
   "source": [
    "MAX = 21\n",
    "dp = [[[0]*MAX for _ in range(MAX)] for _ in range(MAX)]\n",
    "\n",
    "def w(a, b, c):\n",
    "    if a<=0 or b<=0 or c<=0:\n",
    "        return 1\n",
    "    if a>20 or b>20 or c>20:\n",
    "        return w(20, 20, 20)\n",
    "    if dp[a][b][c]:\n",
    "        return dp[a][b][c]\n",
    "    if a<b<c:\n",
    "        dp[a][b][c] = w(a, b, c-1) + w(a, b-1, c-1) - w(a, b-1, c)\n",
    "        return dp[a][b][c]\n",
    "    \n",
    "    dp[a][b][c] = w(a-1, b, c) + w(a-1, b-1, c) + w(a-1, b, c-1) - w(a-1, b-1, c-1)\n",
    "    return dp[a][b][c]\n",
    "\n",
    "data = []\n",
    "while True:\n",
    "    a, b, c = map(int, input().split())\n",
    "    if a == -1 and b == -1 and c == -1:\n",
    "        break\n",
    "    data.append((a, b, c))\n",
    "    \n",
    "for i in range(len(data)):\n",
    "    A = data[i][0]\n",
    "    B = data[i][1]\n",
    "    C = data[i][2]\n",
    "    print(\"w(%d, %d, %d) = %d\" %(A, B, C, w(A, B, C)))"
   ]
  },
  {
   "cell_type": "code",
   "execution_count": null,
   "metadata": {},
   "outputs": [],
   "source": []
  }
 ],
 "metadata": {
  "kernelspec": {
   "display_name": "Python 3",
   "language": "python",
   "name": "python3"
  },
  "language_info": {
   "codemirror_mode": {
    "name": "ipython",
    "version": 3
   },
   "file_extension": ".py",
   "mimetype": "text/x-python",
   "name": "python",
   "nbconvert_exporter": "python",
   "pygments_lexer": "ipython3",
   "version": "3.8.3"
  }
 },
 "nbformat": 4,
 "nbformat_minor": 4
}
