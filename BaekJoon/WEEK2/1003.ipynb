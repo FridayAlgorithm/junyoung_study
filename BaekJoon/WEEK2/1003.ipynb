{
 "cells": [
  {
   "cell_type": "markdown",
   "metadata": {},
   "source": [
    "### [동적] [피보나치 함수](https://www.acmicpc.net/problem/1003)\n",
    "\n",
    "fibonacci(3)을 호출하면 다음과 같은 일이 일어난다.\n",
    "\n",
    "+ fibonacci(3)은 fibonacci(2)와 fibonacci(1) (첫 번째 호출)을 호출한다.\n",
    "+ fibonacci(2)는 fibonacci(1) (두 번째 호출)과 fibonacci(0)을 호출한다.\n",
    "+ 두 번째 호출한 fibonacci(1)은 1을 출력하고 1을 리턴한다.\n",
    "+ fibonacci(0)은 0을 출력하고, 0을 리턴한다.\n",
    "+ fibonacci(2)는 fibonacci(1)과 fibonacci(0)의 결과를 얻고, 1을 리턴한다.\n",
    "+ 첫 번째 호출한 fibonacci(1)은 1을 출력하고, 1을 리턴한다.\n",
    "+ fibonacci(3)은 fibonacci(2)와 fibonacci(1)의 결과를 얻고, 2를 리턴한다.\n",
    "\n",
    "1은 2번 출력되고, 0은 1번 출력된다. N이 주어졌을 때, fibonacci(N)을 호출했을 때, 0과 1이 각각 몇 번 출력되는지 구하는 프로그램을 작성하시오."
   ]
  },
  {
   "cell_type": "code",
   "execution_count": null,
   "metadata": {},
   "outputs": [
    {
     "name": "stdout",
     "output_type": "stream",
     "text": [
      "3\n",
      "0\n",
      "1 0\n"
     ]
    }
   ],
   "source": [
    "def cnt_fibo(n):\n",
    "    zero_cnt = [1, 0]\n",
    "    one_cnt = [0, 1]\n",
    "    if n<=1:\n",
    "        return\n",
    "    \n",
    "    for i in range(2, n+1):\n",
    "        zero_cnt.append(zero_cnt[i-1]+zero_cnt[i-2])\n",
    "        one_cnt.append(one_cnt[i-1]+one_cnt[i-2])\n",
    "    \n",
    "    return zero_cnt, one_cnt\n",
    "\n",
    "n = int(input())\n",
    "zero_cnt, one_cnt = cnt_fibo(40)\n",
    "\n",
    "for _ in range(n):\n",
    "    m = int(input())\n",
    "    print(\"%d %d\" % (zero_cnt[m], one_cnt[m]))"
   ]
  },
  {
   "cell_type": "code",
   "execution_count": null,
   "metadata": {},
   "outputs": [],
   "source": []
  }
 ],
 "metadata": {
  "kernelspec": {
   "display_name": "Python 3",
   "language": "python",
   "name": "python3"
  },
  "language_info": {
   "codemirror_mode": {
    "name": "ipython",
    "version": 3
   },
   "file_extension": ".py",
   "mimetype": "text/x-python",
   "name": "python",
   "nbconvert_exporter": "python",
   "pygments_lexer": "ipython3",
   "version": "3.8.3"
  }
 },
 "nbformat": 4,
 "nbformat_minor": 4
}
