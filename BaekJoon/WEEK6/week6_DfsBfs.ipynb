{
 "cells": [
  {
   "cell_type": "markdown",
   "metadata": {},
   "source": [
    "### [2667] [단지번호붙이기](https://www.acmicpc.net/problem/2667)\n",
    "<그림 1>과 같이 정사각형 모양의 지도가 있다. 1은 집이 있는 곳을, 0은 집이 없는 곳을 나타낸다. 철수는 이 지도를 가지고 연결된 집의 모임인 단지를 정의하고, 단지에 번호를 붙이려 한다. 여기서 연결되었다는 것은 어떤 집이 좌우, 혹은 아래위로 다른 집이 있는 경우를 말한다. 대각선상에 집이 있는 경우는 연결된 것이 아니다. <그림 2>는 <그림 1>을 단지별로 번호를 붙인 것이다. 지도를 입력하여 단지수를 출력하고, 각 단지에 속하는 집의 수를 오름차순으로 정렬하여 출력하는 프로그램을 작성하시오.\n"
   ]
  },
  {
   "cell_type": "code",
   "execution_count": 15,
   "metadata": {},
   "outputs": [
    {
     "name": "stdout",
     "output_type": "stream",
     "text": [
      "7\n",
      "0110100\n",
      "0110101\n",
      "1110101\n",
      "0000111\n",
      "0100000\n",
      "0111110\n",
      "0111000\n",
      "3\n",
      "7\n",
      "8\n",
      "9\n"
     ]
    }
   ],
   "source": [
    "'''\n",
    "bfs로 접근\n",
    "1인 곳에서 상하좌우를 모두 살펴서 queue에 넣고\n",
    "그 주변 상하좌우를 살피는 방식\n",
    "'''\n",
    "n = int(input()) \n",
    "dan = []\n",
    "matrix = []\n",
    "for i in range(n):\n",
    "    matrix.append(list(input()))\n",
    "\n",
    "dx = [1, -1, 0, 0]\n",
    "dy = [0, 0, 1, -1]\n",
    "def bfs(y, x):\n",
    "    queue = [(y, x)]\n",
    "    matrix[y][x] = \"0\"\n",
    "    cnt = 1\n",
    "    while queue:\n",
    "        hy, hx = queue.pop(0)\n",
    "        for i in range(0, 4):\n",
    "            ny = hy+dy[i]\n",
    "            nx = hx+dx[i]\n",
    "            if ny>=0 and ny<n and nx>=0 and nx<n :\n",
    "                if matrix[ny][nx] == \"1\":\n",
    "                    cnt += 1\n",
    "                    matrix[ny][nx] = \"0\"\n",
    "                    queue.append((ny, nx))\n",
    "    dan.append(cnt)\n",
    "\n",
    "for i in range(n):\n",
    "    for j in range(n):\n",
    "        if matrix[i][j] == \"1\":\n",
    "            bfs(i, j)\n",
    "    \n",
    "dan.sort()\n",
    "print(len(dan))\n",
    "for d in dan:\n",
    "    print(d)\n",
    "\n"
   ]
  },
  {
   "cell_type": "markdown",
   "metadata": {},
   "source": [
    "### [1012] [유기농 배추](https://www.acmicpc.net/problem/1012)\n",
    "차세대 영농인 한나는 강원도 고랭지에서 유기농 배추를 재배하기로 하였다. 농약을 쓰지 않고 배추를 재배하려면 배추를 해충으로부터 보호하는 것이 중요하기 때문에, 한나는 해충 방지에 효과적인 배추흰지렁이를 구입하기로 결심한다. 이 지렁이는 배추근처에 서식하며 해충을 잡아 먹음으로써 배추를 보호한다. 특히, 어떤 배추에 배추흰지렁이가 한 마리라도 살고 있으면 이 지렁이는 인접한 다른 배추로 이동할 수 있어, 그 배추들 역시 해충으로부터 보호받을 수 있다.\n",
    "\n",
    "(한 배추의 상하좌우 네 방향에 다른 배추가 위치한 경우에 서로 인접해있다고 간주한다)\n",
    "\n",
    "한나가 배추를 재배하는 땅은 고르지 못해서 배추를 군데군데 심어놓았다. 배추들이 모여있는 곳에는 배추흰지렁이가 한 마리만 있으면 되므로 서로 인접해있는 배추들이 몇 군데에 퍼져있는지 조사하면 총 몇 마리의 지렁이가 필요한지 알 수 있다.\n",
    "\n",
    "예를 들어 배추밭이 아래와 같이 구성되어 있으면 최소 5마리의 배추흰지렁이가 필요하다.\n",
    "\n",
    "(0은 배추가 심어져 있지 않은 땅이고, 1은 배추가 심어져 있는 땅을 나타낸다.)"
   ]
  },
  {
   "cell_type": "code",
   "execution_count": 27,
   "metadata": {},
   "outputs": [
    {
     "name": "stdout",
     "output_type": "stream",
     "text": [
      "2\n",
      "10 8 17\n",
      "0 0\n",
      "1 0\n",
      "1 1\n",
      "4 2\n",
      "4 3\n",
      "4 5\n",
      "2 4\n",
      "3 4\n",
      "7 4\n",
      "8 4\n",
      "9 4\n",
      "7 5\n",
      "8 5\n",
      "9 5\n",
      "7 6\n",
      "8 6\n",
      "9 6\n",
      "5\n",
      "10 10 1\n",
      "5 5\n",
      "1\n"
     ]
    }
   ],
   "source": [
    "dx = [0, 0, 1, -1]\n",
    "dy = [1, -1, 0, 0]\n",
    "def count_worm(y, x, m, n):\n",
    "    global cnt\n",
    "    cnt += 1\n",
    "    \n",
    "    queue = [(y, x)]\n",
    "    golang[y][x] = 0\n",
    "    while queue:\n",
    "        by, bx = queue.pop(0)\n",
    "        for i in range(0, 4):\n",
    "            ny = by+dy[i]\n",
    "            nx = bx+dx[i]\n",
    "            if ny>=0 and ny<n and nx>=0 and nx<m:\n",
    "                if golang[ny][nx] == 1:\n",
    "                    queue.append((ny, nx))\n",
    "                    golang[ny][nx] = 0\n",
    "\n",
    "t = int(input())\n",
    "for _ in range(t):\n",
    "    m, n, k = map(int, input().split())\n",
    "    golang = [[0]*m for _ in range(n)]\n",
    "    \n",
    "    global cnt\n",
    "    cnt = 0\n",
    "    for _ in range(k):\n",
    "        x, y = map(int, input().split())\n",
    "        golang[y][x] = 1\n",
    "        \n",
    "    for i in range(n):\n",
    "        for j in range(m):\n",
    "            if golang[i][j] == 1:\n",
    "                count_worm(i, j, m, n)\n",
    "    print(cnt)\n",
    "    "
   ]
  },
  {
   "cell_type": "code",
   "execution_count": null,
   "metadata": {},
   "outputs": [],
   "source": []
  }
 ],
 "metadata": {
  "kernelspec": {
   "display_name": "Python 3",
   "language": "python",
   "name": "python3"
  },
  "language_info": {
   "codemirror_mode": {
    "name": "ipython",
    "version": 3
   },
   "file_extension": ".py",
   "mimetype": "text/x-python",
   "name": "python",
   "nbconvert_exporter": "python",
   "pygments_lexer": "ipython3",
   "version": "3.8.3"
  }
 },
 "nbformat": 4,
 "nbformat_minor": 4
}
