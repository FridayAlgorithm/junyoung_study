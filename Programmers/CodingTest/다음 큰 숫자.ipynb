{
 "cells": [
  {
   "cell_type": "markdown",
   "metadata": {},
   "source": [
    "## 다음 큰 숫자\n",
    "https://programmers.co.kr/learn/courses/30/lessons/12911?language=python3"
   ]
  },
  {
   "cell_type": "code",
   "execution_count": 1,
   "metadata": {},
   "outputs": [
    {
     "name": "stdout",
     "output_type": "stream",
     "text": [
      "83\n",
      "23\n"
     ]
    }
   ],
   "source": [
    "import itertools\n",
    "def solution(n):\n",
    "    answer = 0\n",
    "    cnt1 = bin(n).count('1')\n",
    "    for i in range(n+1, 1000001):\n",
    "        if bin(i).count('1') == cnt1:\n",
    "            answer = i\n",
    "            break\n",
    "    return answer\n",
    "            \n",
    "print(solution(78))\n",
    "print(solution(15))"
   ]
  },
  {
   "cell_type": "code",
   "execution_count": null,
   "metadata": {},
   "outputs": [],
   "source": []
  }
 ],
 "metadata": {
  "kernelspec": {
   "display_name": "Python 3",
   "language": "python",
   "name": "python3"
  },
  "language_info": {
   "codemirror_mode": {
    "name": "ipython",
    "version": 3
   },
   "file_extension": ".py",
   "mimetype": "text/x-python",
   "name": "python",
   "nbconvert_exporter": "python",
   "pygments_lexer": "ipython3",
   "version": "3.8.3"
  }
 },
 "nbformat": 4,
 "nbformat_minor": 4
}
