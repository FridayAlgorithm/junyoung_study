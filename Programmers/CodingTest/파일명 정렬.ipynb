{
 "cells": [
  {
   "cell_type": "markdown",
   "metadata": {},
   "source": [
    "## 파일명 정렬\n",
    "https://programmers.co.kr/learn/courses/30/lessons/17686?language=python3"
   ]
  },
  {
   "cell_type": "code",
   "execution_count": 4,
   "metadata": {},
   "outputs": [
    {
     "name": "stdout",
     "output_type": "stream",
     "text": [
      "['img1.png', 'IMG01.GIF', 'img02.png', 'img2.JPG', 'img10.png', 'img12.png']\n",
      "['A-10 Thunderbolt II', 'B-50 Superfortress', 'F-5 Freedom Fighter', 'F-14 Tomcat']\n"
     ]
    }
   ],
   "source": [
    "def solution(files):\n",
    "    folder = []\n",
    "    answer = []\n",
    "    \n",
    "    for f in files:\n",
    "        head, number, tail = '', '', ''\n",
    "        \n",
    "        number_check = False\n",
    "        for i in range(len(f)):\n",
    "            if f[i].isdigit():\n",
    "                number += f[i]\n",
    "                number_check = True\n",
    "            elif not number_check:\n",
    "                head += f[i]\n",
    "            else:\n",
    "                tail = f[i:]\n",
    "                break\n",
    "        folder.append((head, number, tail))\n",
    "        \n",
    "    folder.sort(key=lambda x: (x[0].lower(), int(x[1])))\n",
    "    \n",
    "    for i in folder:\n",
    "        answer.append(''.join(i))\n",
    "                \n",
    "    return answer\n",
    "\n",
    "print(solution([\"img12.png\", \"img10.png\", \"img02.png\", \"img1.png\", \"IMG01.GIF\", \"img2.JPG\"]))\n",
    "print(solution([\"F-5 Freedom Fighter\", \"B-50 Superfortress\", \"A-10 Thunderbolt II\", \"F-14 Tomcat\"]))"
   ]
  },
  {
   "cell_type": "code",
   "execution_count": null,
   "metadata": {},
   "outputs": [],
   "source": []
  }
 ],
 "metadata": {
  "kernelspec": {
   "display_name": "Python 3",
   "language": "python",
   "name": "python3"
  },
  "language_info": {
   "codemirror_mode": {
    "name": "ipython",
    "version": 3
   },
   "file_extension": ".py",
   "mimetype": "text/x-python",
   "name": "python",
   "nbconvert_exporter": "python",
   "pygments_lexer": "ipython3",
   "version": "3.8.3"
  }
 },
 "nbformat": 4,
 "nbformat_minor": 4
}
