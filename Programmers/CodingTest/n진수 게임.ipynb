{
 "cells": [
  {
   "cell_type": "markdown",
   "metadata": {},
   "source": [
    "## n진수 게임\n",
    "https://programmers.co.kr/learn/courses/30/lessons/17687?language=python3"
   ]
  },
  {
   "cell_type": "code",
   "execution_count": 1,
   "metadata": {},
   "outputs": [
    {
     "name": "stdout",
     "output_type": "stream",
     "text": [
      "0111\n",
      "02468ACE11111111\n",
      "13579BDF01234567\n"
     ]
    }
   ],
   "source": [
    "def trans_num(n, num):\n",
    "    arr = '0123456789ABCDEF'\n",
    "    new = ''\n",
    "    if num == 0:\n",
    "        return '0'\n",
    "    while num > 0:\n",
    "        new = arr[num % n] + new\n",
    "        num = num // n\n",
    "    return new\n",
    "\n",
    "def solution(n, t, m, p):\n",
    "    answer = ''\n",
    "    total = ''\n",
    "    \n",
    "    for i in range(t*m):\n",
    "        total += trans_num(n, i)\n",
    "        \n",
    "    for j in range(p-1, t*m, m):\n",
    "        answer += total[j]\n",
    "        \n",
    "    return answer\n",
    "\n",
    "print(solution(2, 4, 2, 1))\n",
    "print(solution(16, 16, 2, 1))\n",
    "print(solution(16, 16, 2, 2))"
   ]
  },
  {
   "cell_type": "code",
   "execution_count": null,
   "metadata": {},
   "outputs": [],
   "source": []
  }
 ],
 "metadata": {
  "kernelspec": {
   "display_name": "Python 3",
   "language": "python",
   "name": "python3"
  },
  "language_info": {
   "codemirror_mode": {
    "name": "ipython",
    "version": 3
   },
   "file_extension": ".py",
   "mimetype": "text/x-python",
   "name": "python",
   "nbconvert_exporter": "python",
   "pygments_lexer": "ipython3",
   "version": "3.8.3"
  }
 },
 "nbformat": 4,
 "nbformat_minor": 4
}
