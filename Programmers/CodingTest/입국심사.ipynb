{
 "cells": [
  {
   "cell_type": "markdown",
   "metadata": {},
   "source": [
    "## 입국심사\n",
    "https://programmers.co.kr/learn/courses/30/lessons/43238?language=python3\n",
    "\n",
    "* 어떤 것을 기준으로 이분탐색??\n",
    "* 최적의 시간을 찾기 위해서는 시간이 적게 걸리는 심사대에서 최대한 많은 심사"
   ]
  },
  {
   "cell_type": "code",
   "execution_count": 5,
   "metadata": {},
   "outputs": [
    {
     "name": "stdout",
     "output_type": "stream",
     "text": [
      "28\n"
     ]
    }
   ],
   "source": [
    "def solution(n, times):\n",
    "    answer = 0\n",
    "    \n",
    "    left = 1\n",
    "    right = max(times)*n\n",
    "    \n",
    "    while left <= right:\n",
    "        mid = (left + right) // 2  # 한 심사관에게 주어진 시간\n",
    "        check = 0\n",
    "        \n",
    "        # 각 심사관마다 주어진 시간동안 모두 체크할 수 있는지 확인\n",
    "        for t in times:\n",
    "            check += (mid // t)\n",
    "            if check >= n:\n",
    "                break\n",
    "        \n",
    "        # 모두 확인할 수 있다면 각 심사관에게 주어진 시간 줄이기\n",
    "        if check >= n:\n",
    "            answer = mid\n",
    "            right = mid - 1\n",
    "        else:\n",
    "            # 모두 확인할 수 없다면 시간 늘리기\n",
    "            left = mid + 1\n",
    "    \n",
    "    return answer\n",
    "\n",
    "print(solution(6, [7, 10]))"
   ]
  },
  {
   "cell_type": "code",
   "execution_count": null,
   "metadata": {},
   "outputs": [],
   "source": []
  }
 ],
 "metadata": {
  "kernelspec": {
   "display_name": "Python 3",
   "language": "python",
   "name": "python3"
  },
  "language_info": {
   "codemirror_mode": {
    "name": "ipython",
    "version": 3
   },
   "file_extension": ".py",
   "mimetype": "text/x-python",
   "name": "python",
   "nbconvert_exporter": "python",
   "pygments_lexer": "ipython3",
   "version": "3.8.3"
  }
 },
 "nbformat": 4,
 "nbformat_minor": 4
}
