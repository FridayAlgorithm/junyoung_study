{
 "cells": [
  {
   "cell_type": "markdown",
   "metadata": {},
   "source": [
    "### [9012] [괄호](https://www.acmicpc.net/problem/9012)\n",
    "괄호 문자열(Parenthesis String, PS)은 두 개의 괄호 기호인 ‘(’ 와 ‘)’ 만으로 구성되어 있는 문자열이다. 그 중에서 괄호의 모양이 바르게 구성된 문자열을 올바른 괄호 문자열(Valid PS, VPS)이라고 부른다. 한 쌍의 괄호 기호로 된 “( )” 문자열은 기본 VPS 이라고 부른다. 만일 x 가 VPS 라면 이것을 하나의 괄호에 넣은 새로운 문자열 “(x)”도 VPS 가 된다. 그리고 두 VPS x 와 y를 접합(concatenation)시킨 새로운 문자열 xy도 VPS 가 된다. 예를 들어 “(())()”와 “((()))” 는 VPS 이지만 “(()(”, “(())()))” , 그리고 “(()” 는 모두 VPS 가 아닌 문자열이다. \n",
    "\n",
    "여러분은 입력으로 주어진 괄호 문자열이 VPS 인지 아닌지를 판단해서 그 결과를 YES 와 NO 로 나타내어야 한다. "
   ]
  },
  {
   "cell_type": "code",
   "execution_count": 7,
   "metadata": {},
   "outputs": [
    {
     "name": "stdout",
     "output_type": "stream",
     "text": [
      "3\n",
      "((\n",
      "))\n",
      "())(()\n",
      "NO\n",
      "NO\n",
      "YES\n"
     ]
    }
   ],
   "source": [
    "t = int(input())\n",
    "testcase = [list(map(str, input())) for _ in range(t)]\n",
    "\n",
    "def check_VPS(test):\n",
    "    # 괄호의 개수가 홀수인 경우 \n",
    "    if len(test)%2 == 1:\n",
    "        print('NO')\n",
    "        return\n",
    "    # (,)의 개수가 같지 않은 경우\n",
    "    open_cnt=0\n",
    "    close_cnt=0\n",
    "    for i in range(len(test)):\n",
    "        if test.pop() == '(':\n",
    "            open_cnt += 1\n",
    "        else:\n",
    "            close_cnt += 1\n",
    "    if open_cnt != close_cnt:\n",
    "        print('NO')\n",
    "        return\n",
    "    else:\n",
    "        print('YES')\n",
    "        return\n",
    "    \n",
    "        \n",
    "        \n",
    "for test in testcase:\n",
    "    check_VPS(test)"
   ]
  },
  {
   "cell_type": "markdown",
   "metadata": {},
   "source": [
    "### [4949] [균형잡힌 세상](https://www.acmicpc.net/problem/4949)\n",
    "세계는 균형이 잘 잡혀있어야 한다. 양과 음, 빛과 어둠 그리고 왼쪽 괄호와 오른쪽 괄호처럼 말이다.\n",
    "\n",
    "정민이의 임무는 어떤 문자열이 주어졌을 때, 괄호들의 균형이 잘 맞춰져 있는지 판단하는 프로그램을 짜는 것이다.\n",
    "\n",
    "문자열에 포함되는 괄호는 소괄호(\"()\") 와 대괄호(\"[]\")로 2종류이고, 문자열이 균형을 이루는 조건은 아래와 같다.\n",
    "\n",
    "모든 왼쪽 소괄호(\"(\")는 오른쪽 소괄호(\")\")와만 짝을 이뤄야 한다.\n",
    "모든 왼쪽 대괄호(\"[\")는 오른쪽 대괄호(\"]\")와만 짝을 이뤄야 한다.\n",
    "모든 오른쪽 괄호들은 자신과 짝을 이룰 수 있는 왼쪽 괄호가 존재한다.\n",
    "모든 괄호들의 짝은 1:1 매칭만 가능하다. 즉, 괄호 하나가 둘 이상의 괄호와 짝지어지지 않는다.\n",
    "짝을 이루는 두 괄호가 있을 때, 그 사이에 있는 문자열도 균형이 잡혀야 한다.\n",
    "정민이를 도와 문자열이 주어졌을 때 균형잡힌 문자열인지 아닌지를 판단해보자."
   ]
  },
  {
   "cell_type": "code",
   "execution_count": 8,
   "metadata": {},
   "outputs": [
    {
     "name": "stdout",
     "output_type": "stream",
     "text": [
      "([ (([( [ ] ) ( ) (( ))] )) ]).\n",
      ".\n",
      "yes\n"
     ]
    }
   ],
   "source": [
    "def check_bracket(text):\n",
    "    check = []\n",
    "    now = 0 # 0: small, 1: big\n",
    "    for i in range(len(text)):\n",
    "        # 괄호의 시작은 stack에 push\n",
    "        if text[i] == '(' or text[i] == '[':\n",
    "            check.append(text[i])\n",
    "        \n",
    "        # 괄호의 끝은 stack에서 pop, 이때 괄호 종류 고려\n",
    "        if text[i] == ')':\n",
    "            if len(check) == 0 or now != 0:\n",
    "                print('no')\n",
    "                return\n",
    "            check.pop()  \n",
    "        if text[i] == ']':\n",
    "            if len(check) == 0 or now != 1:\n",
    "                print('no')\n",
    "                return \n",
    "            check.pop()\n",
    "            \n",
    "        # 현재 top에 있는 괄호의 종류 체크\n",
    "        if len(check) != 0:\n",
    "            if check[-1] == '(' or check[-1] == ')':\n",
    "                now = 0\n",
    "            else:\n",
    "                now = 1\n",
    "            \n",
    "    if len(check) != 0:\n",
    "        print('no')\n",
    "    else:\n",
    "        print('yes')\n",
    "        \n",
    "texts = []\n",
    "while True:\n",
    "    text = input()\n",
    "    if text == '.':\n",
    "        break\n",
    "    texts.append(list(text))\n",
    "        \n",
    "for text in texts:\n",
    "    check_bracket(text)"
   ]
  }
 ],
 "metadata": {
  "kernelspec": {
   "display_name": "Python 3",
   "language": "python",
   "name": "python3"
  },
  "language_info": {
   "codemirror_mode": {
    "name": "ipython",
    "version": 3
   },
   "file_extension": ".py",
   "mimetype": "text/x-python",
   "name": "python",
   "nbconvert_exporter": "python",
   "pygments_lexer": "ipython3",
   "version": "3.8.3"
  }
 },
 "nbformat": 4,
 "nbformat_minor": 4
}
