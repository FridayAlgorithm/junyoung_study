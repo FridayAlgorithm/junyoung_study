{
 "cells": [
  {
   "cell_type": "markdown",
   "metadata": {},
   "source": [
    "### [10815] [숫자카드](https://www.acmicpc.net/problem/10815)\n",
    "숫자 카드는 정수 하나가 적혀져 있는 카드이다. 상근이는 숫자 카드 N개를 가지고 있다. 정수 M개가 주어졌을 때, 이 수가 적혀있는 숫자 카드를 상근이가 가지고 있는지 아닌지를 구하는 프로그램을 작성하시오."
   ]
  },
  {
   "cell_type": "markdown",
   "metadata": {},
   "source": [
    "**[내가 생각하는 풀이]**\n",
    " + 쉽게는 이중 for문\n",
    " + 이분탐색?\n",
    "     + m리스트 정렬 : (값, index) 튜플 리스트를 만들어서 값을 찾으면 해당 index에 1을 집어넣기\n",
    "     + n리스트 정렬 <- 이게 좀 더 쉬운 방법..."
   ]
  },
  {
   "cell_type": "code",
   "execution_count": 14,
   "metadata": {},
   "outputs": [
    {
     "name": "stdout",
     "output_type": "stream",
     "text": [
      "5\n",
      "6 3 2 10 -10\n",
      "8\n",
      "10 9 -5 2 3 4 5 -10\n",
      "1 0 0 1 1 0 0 1\n"
     ]
    }
   ],
   "source": [
    "n = int(input())\n",
    "n_list = list(map(int, input().split()))\n",
    "m = int(input())\n",
    "m_list = list(map(int, input().split()))\n",
    "\n",
    "answer = [0]*m\n",
    "tuple_list = []\n",
    "for i in range(m):\n",
    "    tuple_list.append((m_list[i], i))\n",
    "    \n",
    "tuple_list.sort()\n",
    "\n",
    "def binary_search(num, m):\n",
    "    start = 0\n",
    "    end = m-1\n",
    "    find = -1\n",
    "    while start<=end:\n",
    "        mid = (start+end)//2\n",
    "        if num == tuple_list[mid][0]:\n",
    "            find = tuple_list[mid][1]\n",
    "            break\n",
    "        elif num < tuple_list[mid][0]:\n",
    "            end = mid-1\n",
    "        else:\n",
    "            start = mid+1\n",
    "    return find\n",
    "            \n",
    "for i in range(n):\n",
    "    index = binary_search(n_list[i], m)\n",
    "    if index != -1:\n",
    "        answer[index] = 1\n",
    "\n",
    "print(*answer)"
   ]
  },
  {
   "cell_type": "code",
   "execution_count": 13,
   "metadata": {},
   "outputs": [
    {
     "name": "stdout",
     "output_type": "stream",
     "text": [
      "5\n",
      "6 3 2 10 -10\n",
      "8\n",
      "10 9 -5 2 3 4 5 -10\n",
      "1 0 0 1 1 0 0 1\n"
     ]
    }
   ],
   "source": [
    "n = int(input())\n",
    "n_list = list(map(int, input().split()))\n",
    "m = int(input())\n",
    "m_list = list(map(int, input().split()))\n",
    "\n",
    "answer = [0]*m\n",
    "n_list.sort()\n",
    "\n",
    "def binary_search(num):\n",
    "    start = 0\n",
    "    end = n-1\n",
    "    find = False\n",
    "    while start<=end:\n",
    "        mid = (start+end)//2\n",
    "        if num == n_list[mid]:\n",
    "            find = True\n",
    "            break\n",
    "        elif num < n_list[mid]:\n",
    "            end = mid-1\n",
    "        else:\n",
    "            start = mid+1\n",
    "    return find\n",
    "\n",
    "for i in range(m):\n",
    "    if binary_search(m_list[i]):\n",
    "        answer[i] = 1\n",
    "        \n",
    "print(*answer)"
   ]
  },
  {
   "cell_type": "code",
   "execution_count": null,
   "metadata": {},
   "outputs": [],
   "source": []
  }
 ],
 "metadata": {
  "kernelspec": {
   "display_name": "Python 3",
   "language": "python",
   "name": "python3"
  },
  "language_info": {
   "codemirror_mode": {
    "name": "ipython",
    "version": 3
   },
   "file_extension": ".py",
   "mimetype": "text/x-python",
   "name": "python",
   "nbconvert_exporter": "python",
   "pygments_lexer": "ipython3",
   "version": "3.8.3"
  }
 },
 "nbformat": 4,
 "nbformat_minor": 4
}
