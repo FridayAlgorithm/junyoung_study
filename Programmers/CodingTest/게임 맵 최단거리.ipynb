{
 "cells": [
  {
   "cell_type": "code",
   "execution_count": null,
   "metadata": {},
   "outputs": [],
   "source": [
    "from collections import deque\n",
    "\n",
    "def solution(maps):\n",
    "    \n",
    "    dy = [-1, 1, 0, 0]\n",
    "    dx = [0, 0, 1, -1]\n",
    "    \n",
    "    check = [[-1 for _ in range(len(maps[0]))] for _ in range(len(maps))]\n",
    "    queue = deque()\n",
    "    queue.append((0, 0))\n",
    "    check[0][0] = 1\n",
    "    \n",
    "    while queue:\n",
    "        y, x = queue.popleft()\n",
    "        \n",
    "        for i in range(4):\n",
    "            ny = y + dy[i]\n",
    "            nx = x + dx[i]\n",
    "            \n",
    "            if -1<ny<len(maps) and -1<nx<len(maps[0]):\n",
    "                if maps[ny][nx] == 1:\n",
    "                    if check[ny][nx] == -1:\n",
    "                        check[ny][nx] = check[y][x] + 1\n",
    "                        queue.append((ny, nx))\n",
    "                        \n",
    "    answer = table[-1][-1]\n",
    "    return answer"
   ]
  }
 ],
 "metadata": {
  "kernelspec": {
   "display_name": "Python 3",
   "language": "python",
   "name": "python3"
  },
  "language_info": {
   "codemirror_mode": {
    "name": "ipython",
    "version": 3
   },
   "file_extension": ".py",
   "mimetype": "text/x-python",
   "name": "python",
   "nbconvert_exporter": "python",
   "pygments_lexer": "ipython3",
   "version": "3.8.3"
  }
 },
 "nbformat": 4,
 "nbformat_minor": 4
}
