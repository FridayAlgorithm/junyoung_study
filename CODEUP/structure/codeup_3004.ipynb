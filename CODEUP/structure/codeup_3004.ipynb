{
 "cells": [
  {
   "cell_type": "code",
   "execution_count": 4,
   "metadata": {},
   "outputs": [
    {
     "name": "stdout",
     "output_type": "stream",
     "text": [
      "5\n",
      "23 45 16 2 54\n",
      "2 3 1 0 4 "
     ]
    }
   ],
   "source": [
    "'''\n",
    "2020.12.23\n",
    "codeup struct 3004\n",
    "'''\n",
    "# 시간 초과\n",
    "# 메모리 37348, 시간 3991\n",
    "# ----------------------------------------------------\n",
    "num = int(input())\n",
    "num_list = [int(x) for x in input().split()]\n",
    "    \n",
    "sorted_list = sorted(num_list)\n",
    "\n",
    "index_list = []\n",
    "for i in range(len(num_list)):\n",
    "    now = num_list[i]\n",
    "    index = sorted_list.index(now)\n",
    "    index_list.append(index)\n",
    "            \n",
    "for i in range(len(index_list)):\n",
    "    print(index_list[i], end =' ')"
   ]
  },
  {
   "cell_type": "code",
   "execution_count": 11,
   "metadata": {},
   "outputs": [
    {
     "name": "stdout",
     "output_type": "stream",
     "text": [
      "5\n",
      "23 45 16 2 54\n",
      "2 3 1 0 4 "
     ]
    }
   ],
   "source": [
    "# binary search 사용\n",
    "# 메모리 39164, 시간 353\n",
    "# ----------------------------------------------------\n",
    "num = int(input())\n",
    "num_list = [int(x) for x in input().split()]\n",
    "    \n",
    "sorted_list = sorted(num_list)\n",
    "\n",
    "def b_search(s_list, target):\n",
    "    low = 0\n",
    "    high = len(s_list) -1\n",
    "    \n",
    "    while(low <= high):\n",
    "        mid = int((low+high)/2)\n",
    "        if s_list[mid] == target:\n",
    "            return mid\n",
    "        elif s_list[mid] > target:\n",
    "            high = mid-1\n",
    "        else :\n",
    "            low = mid+1\n",
    "    return -1\n",
    "\n",
    "index_list = []\n",
    "for i in range(len(num_list)):\n",
    "    now = num_list[i]\n",
    "    index = b_search(sorted_list, now)\n",
    "    index_list.append(index)\n",
    "    \n",
    "for i in range(len(index_list)):\n",
    "    print(index_list[i], end=' ')"
   ]
  },
  {
   "cell_type": "code",
   "execution_count": null,
   "metadata": {},
   "outputs": [],
   "source": []
  }
 ],
 "metadata": {
  "kernelspec": {
   "display_name": "Python 3",
   "language": "python",
   "name": "python3"
  },
  "language_info": {
   "codemirror_mode": {
    "name": "ipython",
    "version": 3
   },
   "file_extension": ".py",
   "mimetype": "text/x-python",
   "name": "python",
   "nbconvert_exporter": "python",
   "pygments_lexer": "ipython3",
   "version": "3.8.3"
  }
 },
 "nbformat": 4,
 "nbformat_minor": 4
}
