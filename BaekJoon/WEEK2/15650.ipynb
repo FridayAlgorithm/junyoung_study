{
 "cells": [
  {
   "cell_type": "markdown",
   "metadata": {},
   "source": [
    "### [백트래킹] [N과 M(2)]( https://www.acmicpc.net/problem/15650)\n",
    "자연수 N과 M이 주어졌을 때, 아래 조건을 만족하는 길이가 M인 수열을 모두 구하는 프로그램을 작성하시오.\n",
    "\n",
    "+ 1부터 N까지 자연수 중에서 중복 없이 M개를 고른 수열\n",
    "+ 고른 수열은 오름차순이어야 한다."
   ]
  },
  {
   "cell_type": "code",
   "execution_count": 1,
   "metadata": {},
   "outputs": [
    {
     "name": "stdout",
     "output_type": "stream",
     "text": [
      "4 2\n",
      "1 2\n",
      "1 3\n",
      "1 4\n",
      "2 3\n",
      "2 4\n",
      "3 4\n"
     ]
    }
   ],
   "source": [
    "n, m = map(int, input().split())\n",
    "visited = [False]*n\n",
    "out, out_all = [], []\n",
    "\n",
    "def DFS(depth):\n",
    "    if depth == m:   \n",
    "        out_str = ' '.join(map(str, sorted(out)))\n",
    "        if out_str not in out_all:\n",
    "            out_all.append(out_str)\n",
    "        return\n",
    "    for i in range(n):\n",
    "        if not visited[i]:\n",
    "            visited[i] = True\n",
    "            out.append(i+1)\n",
    "            \n",
    "            DFS(depth+1)\n",
    "            \n",
    "            visited[i] = False\n",
    "            out.pop()\n",
    "DFS(0)\n",
    "\n",
    "for i in out_all:\n",
    "    print(i)"
   ]
  },
  {
   "cell_type": "code",
   "execution_count": 2,
   "metadata": {},
   "outputs": [
    {
     "name": "stdout",
     "output_type": "stream",
     "text": [
      "4 2\n",
      "1 2\n",
      "1 3\n",
      "1 4\n",
      "2 3\n",
      "2 4\n",
      "3 4\n"
     ]
    }
   ],
   "source": [
    "from itertools import combinations\n",
    "n, m = map(int, input().split())\n",
    "C = combinations(range(1, n+1), m)\n",
    "for i in C:\n",
    "    print(' '.join(map(str, i)))"
   ]
  },
  {
   "cell_type": "code",
   "execution_count": null,
   "metadata": {},
   "outputs": [],
   "source": []
  }
 ],
 "metadata": {
  "kernelspec": {
   "display_name": "Python 3",
   "language": "python",
   "name": "python3"
  },
  "language_info": {
   "codemirror_mode": {
    "name": "ipython",
    "version": 3
   },
   "file_extension": ".py",
   "mimetype": "text/x-python",
   "name": "python",
   "nbconvert_exporter": "python",
   "pygments_lexer": "ipython3",
   "version": "3.8.3"
  }
 },
 "nbformat": 4,
 "nbformat_minor": 4
}
